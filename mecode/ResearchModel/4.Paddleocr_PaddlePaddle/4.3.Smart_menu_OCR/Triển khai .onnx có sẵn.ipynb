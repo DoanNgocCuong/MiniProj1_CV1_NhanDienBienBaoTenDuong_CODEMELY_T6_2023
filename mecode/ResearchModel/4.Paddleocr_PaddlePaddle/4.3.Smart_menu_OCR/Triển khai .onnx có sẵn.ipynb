{
 "cells": [
  {
   "cell_type": "markdown",
   "metadata": {},
   "source": [
    "# Triển khai .onnx bằng code (cách mình biên dịch ra from cách anh Tú)"
   ]
  },
  {
   "cell_type": "markdown",
   "metadata": {},
   "source": [
    "https://github.com/Syun1208/Smart_menu_OCR\n",
    "\n",
    "Use https://netron.app/\n",
    "Model Properties : \n",
    "- producer: PaddlePaddle\n",
    "\n",
    "- Inputs: x name: x; tensor: float32[-1,3,-1,-1]  (mô hình chấp nhận các kích thước batch, độ phân giải hình ảnh khác nhaum nhưng luôn mong 3 kênh màu RGB)\n",
    "Outputs: sigmoid_0.tmp_0 name: sigmoid_0.tmp_0; tensor: float32[-1,1,-1,-1]  (tạo ra giá trị kích hoạt sigmoid cho mỗi đầu vào, có thể có độ phân giải khác nhau)"
   ]
  },
  {
   "cell_type": "code",
   "execution_count": 1,
   "metadata": {},
   "outputs": [],
   "source": [
    "# # Import necessary libraries\n",
    "# import cv2\n",
    "# from IPython.display import display, Image\n",
    "# from yolov8 import Yolov8\n",
    "\n",
    "# # Set up the Yolo model\n",
    "# model_path = r\"model\\road.onnx\" # r\".\\model\\road.onnx\" # \"path_to_your_model.onnx\" # Replace with the path to your model\n",
    "# yolo_model = PaddlePaddle()\n",
    "# yolo_model.set_up_model(model_path)\n",
    "\n",
    "# # Read the image \n",
    "# frame = cv2.imread(image_path)\n",
    "# results = yolo_model.inference(frame)\n",
    "\n"
   ]
  },
  {
   "cell_type": "code",
   "execution_count": 2,
   "metadata": {},
   "outputs": [],
   "source": [
    "import onnxruntime as ort   # thư viện làm việc với onnx\n",
    "import numpy as np\n",
    "import cv2\n"
   ]
  },
  {
   "cell_type": "code",
   "execution_count": 3,
   "metadata": {},
   "outputs": [
    {
     "name": "stdout",
     "output_type": "stream",
     "text": [
      "<onnxruntime.capi.onnxruntime_inference_collection.InferenceSession object at 0x000001B847606190>\n"
     ]
    }
   ],
   "source": [
    "\n",
    "# Load the ONNX model\n",
    "model_path = r'models\\model_rec.onnx'  \n",
    "session = ort.InferenceSession(model_path) # print: <onnxruntime.capi.onnxruntime_inference_collection.InferenceSession object at 0x0000022C0F539850>\n",
    "\n",
    "# # Get model's expected input size\n",
    "# input_name = session.get_inputs()[0].name  # print: x\n",
    " # Create an inference session to get the input details\n",
    "# input_details =\n",
    "# session.get_inputs()\n",
    "# output_details = session.get_outputs()\n",
    "# print(*input_details)\n",
    "# print(*output_details)\n",
    "\n",
    "print(session)"
   ]
  },
  {
   "cell_type": "code",
   "execution_count": 4,
   "metadata": {},
   "outputs": [
    {
     "name": "stdout",
     "output_type": "stream",
     "text": [
      "NodeArg(name='x', type='tensor(float)', shape=[None, 3, None, None])\n"
     ]
    }
   ],
   "source": [
    "input_metadata = session.get_inputs()[0]\n",
    "print(input_metadata)"
   ]
  },
  {
   "cell_type": "code",
   "execution_count": 6,
   "metadata": {},
   "outputs": [
    {
     "name": "stdout",
     "output_type": "stream",
     "text": [
      "[[[157  82   3]\n",
      "  [150  81   2]\n",
      "  [143  81   5]\n",
      "  ...\n",
      "  [126  75  19]\n",
      "  [146  80  15]\n",
      "  [155  83  11]]\n",
      "\n",
      " [[157  81   5]\n",
      "  [143  75   2]\n",
      "  [130  82  16]\n",
      "  ...\n",
      "  [122  85  35]\n",
      "  [150  89  27]\n",
      "  [155  87  14]]\n",
      "\n",
      " [[159  78  11]\n",
      "  [139  77  17]\n",
      "  [168 146  98]\n",
      "  ...\n",
      "  [132 123  89]\n",
      "  [131  79  26]\n",
      "  [142  80   4]]\n",
      "\n",
      " ...\n",
      "\n",
      " [[157  82   4]\n",
      "  [155  80   1]\n",
      "  [157  82   3]\n",
      "  ...\n",
      "  [118 116  75]\n",
      "  [143  96  35]\n",
      "  [137  70   1]]\n",
      "\n",
      " [[155  79   3]\n",
      "  [155  79   3]\n",
      "  [163  87  11]\n",
      "  ...\n",
      "  [119  79  27]\n",
      "  [146  79  16]\n",
      "  [159  83  11]]\n",
      "\n",
      " [[160  83  10]\n",
      "  [158  81   8]\n",
      "  [159  81  10]\n",
      "  ...\n",
      "  [133  74  18]\n",
      "  [153  77  11]\n",
      "  [166  86  15]]]\n",
      "(12, 31, 3) uint8\n"
     ]
    }
   ],
   "source": [
    "# Read the image \n",
    "image_path = r\"D:\\OneDrive - codemely\\Proj1_NhanDienBienBaoTenDuong_CODEMELY\\mycode\\ResearchModel\\4.Paddleocr_PaddlePaddle\\PaddleOCR\\train\\crop_image\\im0001_4.jpg\"\n",
    "img = cv2.imread(image_path)  # (956, 1276, 3) uint8 3\n",
    "print(img)\n",
    "print(img.shape, img.dtype)"
   ]
  },
  {
   "cell_type": "code",
   "execution_count": 7,
   "metadata": {},
   "outputs": [
    {
     "name": "stdout",
     "output_type": "stream",
     "text": [
      "(1, 3, 48, 320) float32\n"
     ]
    }
   ],
   "source": [
    "import cv2\n",
    "import numpy as np\n",
    "\n",
    "# Đọc hình ảnh\n",
    "# image_path = \"your_image_path.jpg\"\n",
    "img = cv2.imread(image_path)\n",
    "\n",
    "img = cv2.resize(img, (320, 48))\n",
    "\n",
    "# Chuyển đổi kiểu dữ liệu sang float và chuẩn hóa (nếu cần)\n",
    "img = img.astype(np.float32) / 255.0\n",
    "\n",
    "# Thay đổi thứ tự kênh từ BGR sang RGB\n",
    "img = cv2.cvtColor(img, cv2.COLOR_BGR2RGB)\n",
    "\n",
    "# Thay đổi hình dạng để thêm chiều batch và đảo kênh màu\n",
    "img = np.transpose(img, (2, 0, 1))  # Chuyển từ HWC sang CHW\n",
    "img = np.expand_dims(img, axis=0)  # Thêm chiều batch\n",
    "\n",
    "print(img.shape, img.dtype)  # Kết quả sẽ là (1, 3, H, W)\n",
    "\n",
    "# NodeArg(name='x', type='tensor(float)', shape=[None, 3, None, None])"
   ]
  },
  {
   "cell_type": "code",
   "execution_count": null,
   "metadata": {},
   "outputs": [
    {
     "data": {
      "text/plain": [
       "array([[[[0.01176471, 0.10196079, 0.34901962, ..., 0.1254902 ,\n",
       "          0.05882353, 0.12941177],\n",
       "         [0.01176471, 0.12941177, 0.5254902 , ..., 0.09803922,\n",
       "          0.03137255, 0.2784314 ],\n",
       "         [0.        , 0.12156863, 0.30588236, ..., 0.18039216,\n",
       "          0.03921569, 0.2901961 ],\n",
       "         ...,\n",
       "         [0.        , 0.14117648, 0.3529412 , ..., 0.04313726,\n",
       "          0.03137255, 0.27450982],\n",
       "         [0.00784314, 0.15686275, 0.39607844, ..., 0.05490196,\n",
       "          0.03137255, 0.28235295],\n",
       "         [0.00392157, 0.11372549, 0.30980393, ..., 0.02745098,\n",
       "          0.02745098, 0.24705882]],\n",
       "\n",
       "        [[0.99607843, 0.9254902 , 0.85882354, ..., 0.7411765 ,\n",
       "          0.7647059 , 0.90588236],\n",
       "         [0.99607843, 0.9019608 , 0.85882354, ..., 0.28627452,\n",
       "          0.44313726, 0.8156863 ],\n",
       "         [1.        , 0.9098039 , 0.65882355, ..., 0.3254902 ,\n",
       "          0.42352942, 0.79607844],\n",
       "         ...,\n",
       "         [1.        , 0.8980392 , 0.6117647 , ..., 0.2509804 ,\n",
       "          0.36862746, 0.8       ],\n",
       "         [1.        , 0.9019608 , 0.6431373 , ..., 0.22745098,\n",
       "          0.3529412 , 0.8039216 ],\n",
       "         [0.99607843, 0.90588236, 0.6745098 , ..., 0.30588236,\n",
       "          0.42352942, 0.8235294 ]],\n",
       "\n",
       "        [[0.01568628, 0.0627451 , 0.23137255, ..., 0.12156863,\n",
       "          0.0627451 , 0.13333334],\n",
       "         [0.01176471, 0.12941177, 0.5176471 , ..., 0.08627451,\n",
       "          0.03137255, 0.27058825],\n",
       "         [0.        , 0.11764706, 0.2901961 , ..., 0.16078432,\n",
       "          0.03137255, 0.2901961 ],\n",
       "         ...,\n",
       "         [0.        , 0.11764706, 0.27450982, ..., 0.15686275,\n",
       "          0.03529412, 0.31764707],\n",
       "         [0.01568628, 0.13333334, 0.3019608 , ..., 0.1254902 ,\n",
       "          0.03529412, 0.30980393],\n",
       "         [0.00784314, 0.08235294, 0.20784314, ..., 0.02352941,\n",
       "          0.02745098, 0.23921569]]]], dtype=float32)"
      ]
     },
     "execution_count": 11,
     "metadata": {},
     "output_type": "execute_result"
    }
   ],
   "source": [
    "img"
   ]
  },
  {
   "cell_type": "markdown",
   "metadata": {},
   "source": [
    "Bug: `RuntimeException: [ONNXRuntimeError] : 6 : RUNTIME_EXCEPTION : Non-zero status code returned while running Add node. Name:'Add_43' Status Message: C:\\a\\_work\\1\\s\\onnxruntime\\core/providers/cpu/math/element_wise_ops.h:540 onnxruntime::BroadcastIterator::Init axis == 1 || axis == largest was false. Attempting to broadcast an axis by a dimension other than 1. 171 by 172`\n",
    "```\n",
    "img = cv2.resize(img, (320, 48))     # width, height\n",
    "# output: (1, 3, 48, 320) float32    # height, width\n",
    "```\n",
    "(xem code .pynb file config mới xem được input)"
   ]
  },
  {
   "cell_type": "code",
   "execution_count": 10,
   "metadata": {},
   "outputs": [],
   "source": [
    "import onnxruntime as ort\n",
    "\n",
    "# Đường dẫn đến mô hình ONNX\n",
    "model_path = r'models\\model_rec.onnx'  \n",
    "# Tạo phiên làm việc\n",
    "session = ort.InferenceSession(model_path)\n",
    "\n",
    "# Hình ảnh đã được chuẩn bị trước đó\n",
    "# img là mảng Numpy có hình dạng (1, 3, H, W) và kiểu dữ liệu float32\n",
    "# Giả sử img là biến chứa hình ảnh của bạn\n",
    "\n",
    "# Tên của đầu vào mô hình\n",
    "input_name = session.get_inputs()[0].name\n",
    "\n",
    "# Chạy mô hình\n",
    "result = session.run(None, {input_name: img})\n",
    "\n",
    "# `result` là kết quả đầu ra từ mô hình\n"
   ]
  },
  {
   "cell_type": "code",
   "execution_count": 11,
   "metadata": {},
   "outputs": [
    {
     "name": "stdout",
     "output_type": "stream",
     "text": [
      "[array([[[9.9999356e-01, 4.6411208e-10, 4.6411208e-10, ...,\n",
      "         2.6939439e-11, 3.0204095e-10, 6.8069611e-10],\n",
      "        [9.9999952e-01, 4.2150974e-11, 4.2150974e-11, ...,\n",
      "         8.7819926e-13, 5.9837010e-11, 1.5811470e-11],\n",
      "        [9.9947959e-01, 1.8059455e-10, 1.8059455e-10, ...,\n",
      "         3.2141661e-12, 4.3247047e-12, 8.7900513e-11],\n",
      "        ...,\n",
      "        [9.9979633e-01, 3.0662239e-09, 3.0662239e-09, ...,\n",
      "         2.6023136e-10, 3.8308956e-14, 2.2714611e-08],\n",
      "        [9.9992764e-01, 1.3794557e-09, 1.3794557e-09, ...,\n",
      "         5.9319011e-10, 3.9860102e-13, 3.1962479e-08],\n",
      "        [9.9950695e-01, 8.9806838e-09, 8.9806838e-09, ...,\n",
      "         6.0985803e-09, 1.0842493e-11, 1.7297900e-06]]], dtype=float32)]\n"
     ]
    }
   ],
   "source": [
    "print(result)"
   ]
  },
  {
   "cell_type": "code",
   "execution_count": null,
   "metadata": {},
   "outputs": [
    {
     "data": {
      "text/plain": [
       "[array([[[9.9999058e-01, 2.2108303e-10, 2.2108303e-10, ...,\n",
       "          4.4091963e-11, 7.2908644e-11, 1.7470663e-07],\n",
       "         [9.9942732e-01, 9.0514429e-11, 9.0514429e-11, ...,\n",
       "          1.8815192e-11, 5.8281743e-12, 1.2725997e-07],\n",
       "         [9.9716312e-01, 5.6898691e-10, 5.6898691e-10, ...,\n",
       "          5.8910565e-10, 5.2930084e-11, 2.4724295e-07],\n",
       "         ...,\n",
       "         [6.2271833e-01, 1.6556901e-07, 1.6556901e-07, ...,\n",
       "          8.5196945e-07, 4.4482681e-06, 2.2573523e-04],\n",
       "         [9.9261910e-01, 2.1259661e-08, 2.1259661e-08, ...,\n",
       "          8.2278952e-08, 6.4409875e-08, 3.6616533e-04],\n",
       "         [9.9852353e-01, 1.6765169e-08, 1.6765169e-08, ...,\n",
       "          3.4315533e-09, 4.5951390e-10, 2.1179987e-04]]], dtype=float32)]"
      ]
     },
     "execution_count": 15,
     "metadata": {},
     "output_type": "execute_result"
    }
   ],
   "source": [
    "result"
   ]
  },
  {
   "cell_type": "code",
   "execution_count": 16,
   "metadata": {},
   "outputs": [
    {
     "name": "stderr",
     "output_type": "stream",
     "text": [
      "usage: predict_system.py [-h] [--use_gpu USE_GPU] [--use_xpu USE_XPU]\n",
      "                         [--ir_optim IR_OPTIM] [--use_tensorrt USE_TENSORRT]\n",
      "                         [--min_subgraph_size MIN_SUBGRAPH_SIZE]\n",
      "                         [--precision PRECISION] [--gpu_mem GPU_MEM]\n",
      "                         [--image_dir IMAGE_DIR]\n",
      "                         [--det_algorithm DET_ALGORITHM]\n",
      "                         [--det_model_dir DET_MODEL_DIR]\n",
      "                         [--det_limit_side_len DET_LIMIT_SIDE_LEN]\n",
      "                         [--det_limit_type DET_LIMIT_TYPE]\n",
      "                         [--det_db_thresh DET_DB_THRESH]\n",
      "                         [--det_db_box_thresh DET_DB_BOX_THRESH]\n",
      "                         [--det_db_unclip_ratio DET_DB_UNCLIP_RATIO]\n",
      "                         [--max_batch_size MAX_BATCH_SIZE]\n",
      "                         [--use_dilation USE_DILATION]\n",
      "                         [--det_db_score_mode DET_DB_SCORE_MODE]\n",
      "                         [--vis_seg_map VIS_SEG_MAP]\n",
      "                         [--det_east_score_thresh DET_EAST_SCORE_THRESH]\n",
      "                         [--det_east_cover_thresh DET_EAST_COVER_THRESH]\n",
      "                         [--det_east_nms_thresh DET_EAST_NMS_THRESH]\n",
      "                         [--det_sast_score_thresh DET_SAST_SCORE_THRESH]\n",
      "                         [--det_sast_nms_thresh DET_SAST_NMS_THRESH]\n",
      "                         [--det_sast_polygon DET_SAST_POLYGON]\n",
      "                         [--det_pse_thresh DET_PSE_THRESH]\n",
      "                         [--det_pse_box_thresh DET_PSE_BOX_THRESH]\n",
      "                         [--det_pse_min_area DET_PSE_MIN_AREA]\n",
      "                         [--det_pse_box_type DET_PSE_BOX_TYPE]\n",
      "                         [--det_pse_scale DET_PSE_SCALE] [--scales SCALES]\n",
      "                         [--alpha ALPHA] [--beta BETA]\n",
      "                         [--fourier_degree FOURIER_DEGREE]\n",
      "                         [--det_fce_box_type DET_FCE_BOX_TYPE]\n",
      "                         [--rec_algorithm REC_ALGORITHM]\n",
      "                         [--rec_model_dir REC_MODEL_DIR]\n",
      "                         [--rec_image_shape REC_IMAGE_SHAPE]\n",
      "                         [--rec_batch_num REC_BATCH_NUM]\n",
      "                         [--max_text_length MAX_TEXT_LENGTH]\n",
      "                         [--rec_char_dict_path REC_CHAR_DICT_PATH]\n",
      "                         [--use_space_char USE_SPACE_CHAR]\n",
      "                         [--vis_font_path VIS_FONT_PATH]\n",
      "                         [--drop_score DROP_SCORE]\n",
      "                         [--e2e_algorithm E2E_ALGORITHM]\n",
      "                         [--e2e_model_dir E2E_MODEL_DIR]\n",
      "                         [--e2e_limit_side_len E2E_LIMIT_SIDE_LEN]\n",
      "                         [--e2e_limit_type E2E_LIMIT_TYPE]\n",
      "                         [--e2e_pgnet_score_thresh E2E_PGNET_SCORE_THRESH]\n",
      "                         [--e2e_char_dict_path E2E_CHAR_DICT_PATH]\n",
      "                         [--e2e_pgnet_valid_set E2E_PGNET_VALID_SET]\n",
      "                         [--e2e_pgnet_mode E2E_PGNET_MODE]\n",
      "                         [--use_angle_cls USE_ANGLE_CLS]\n",
      "                         [--cls_model_dir CLS_MODEL_DIR]\n",
      "                         [--cls_image_shape CLS_IMAGE_SHAPE]\n",
      "                         [--label_list LABEL_LIST]\n",
      "                         [--cls_batch_num CLS_BATCH_NUM]\n",
      "                         [--cls_thresh CLS_THRESH]\n",
      "                         [--enable_mkldnn ENABLE_MKLDNN]\n",
      "                         [--cpu_threads CPU_THREADS]\n",
      "                         [--use_pdserving USE_PDSERVING] [--warmup WARMUP]\n",
      "                         [--draw_img_save_dir DRAW_IMG_SAVE_DIR]\n",
      "                         [--save_crop_res SAVE_CROP_RES]\n",
      "                         [--crop_res_save_dir CROP_RES_SAVE_DIR]\n",
      "                         [--use_mp USE_MP]\n",
      "                         [--total_process_num TOTAL_PROCESS_NUM]\n",
      "                         [--process_id PROCESS_ID] [--benchmark BENCHMARK]\n",
      "                         [--save_log_path SAVE_LOG_PATH] [--show_log SHOW_LOG]\n",
      "                         [--use_onnx USE_ONNX]\n",
      "predict_system.py: error: unrecognized arguments: - codemely\\Proj1_NhanDienBienBaoTenDuong_CODEMELY\\mycode\\ResearchModel\\4.Paddleocr_PaddlePaddle\\PaddleOCR\\train\\debug_train_images'\n",
      "usage: predict_system.py [-h] [--use_gpu USE_GPU] [--use_xpu USE_XPU]\n",
      "                         [--ir_optim IR_OPTIM] [--use_tensorrt USE_TENSORRT]\n",
      "                         [--min_subgraph_size MIN_SUBGRAPH_SIZE]\n",
      "                         [--precision PRECISION] [--gpu_mem GPU_MEM]\n",
      "                         [--image_dir IMAGE_DIR]\n",
      "                         [--det_algorithm DET_ALGORITHM]\n",
      "                         [--det_model_dir DET_MODEL_DIR]\n",
      "                         [--det_limit_side_len DET_LIMIT_SIDE_LEN]\n",
      "                         [--det_limit_type DET_LIMIT_TYPE]\n",
      "                         [--det_db_thresh DET_DB_THRESH]\n",
      "                         [--det_db_box_thresh DET_DB_BOX_THRESH]\n",
      "                         [--det_db_unclip_ratio DET_DB_UNCLIP_RATIO]\n",
      "                         [--max_batch_size MAX_BATCH_SIZE]\n",
      "                         [--use_dilation USE_DILATION]\n",
      "                         [--det_db_score_mode DET_DB_SCORE_MODE]\n",
      "                         [--vis_seg_map VIS_SEG_MAP]\n",
      "                         [--det_east_score_thresh DET_EAST_SCORE_THRESH]\n",
      "                         [--det_east_cover_thresh DET_EAST_COVER_THRESH]\n",
      "                         [--det_east_nms_thresh DET_EAST_NMS_THRESH]\n",
      "                         [--det_sast_score_thresh DET_SAST_SCORE_THRESH]\n",
      "                         [--det_sast_nms_thresh DET_SAST_NMS_THRESH]\n",
      "                         [--det_sast_polygon DET_SAST_POLYGON]\n",
      "                         [--det_pse_thresh DET_PSE_THRESH]\n",
      "                         [--det_pse_box_thresh DET_PSE_BOX_THRESH]\n",
      "                         [--det_pse_min_area DET_PSE_MIN_AREA]\n",
      "                         [--det_pse_box_type DET_PSE_BOX_TYPE]\n",
      "                         [--det_pse_scale DET_PSE_SCALE] [--scales SCALES]\n",
      "                         [--alpha ALPHA] [--beta BETA]\n",
      "                         [--fourier_degree FOURIER_DEGREE]\n",
      "                         [--det_fce_box_type DET_FCE_BOX_TYPE]\n",
      "                         [--rec_algorithm REC_ALGORITHM]\n",
      "                         [--rec_model_dir REC_MODEL_DIR]\n",
      "                         [--rec_image_shape REC_IMAGE_SHAPE]\n",
      "                         [--rec_batch_num REC_BATCH_NUM]\n",
      "                         [--max_text_length MAX_TEXT_LENGTH]\n",
      "                         [--rec_char_dict_path REC_CHAR_DICT_PATH]\n",
      "                         [--use_space_char USE_SPACE_CHAR]\n",
      "                         [--vis_font_path VIS_FONT_PATH]\n",
      "                         [--drop_score DROP_SCORE]\n",
      "                         [--e2e_algorithm E2E_ALGORITHM]\n",
      "                         [--e2e_model_dir E2E_MODEL_DIR]\n",
      "                         [--e2e_limit_side_len E2E_LIMIT_SIDE_LEN]\n",
      "                         [--e2e_limit_type E2E_LIMIT_TYPE]\n",
      "                         [--e2e_pgnet_score_thresh E2E_PGNET_SCORE_THRESH]\n",
      "                         [--e2e_char_dict_path E2E_CHAR_DICT_PATH]\n",
      "                         [--e2e_pgnet_valid_set E2E_PGNET_VALID_SET]\n",
      "                         [--e2e_pgnet_mode E2E_PGNET_MODE]\n",
      "                         [--use_angle_cls USE_ANGLE_CLS]\n",
      "                         [--cls_model_dir CLS_MODEL_DIR]\n",
      "                         [--cls_image_shape CLS_IMAGE_SHAPE]\n",
      "                         [--label_list LABEL_LIST]\n",
      "                         [--cls_batch_num CLS_BATCH_NUM]\n",
      "                         [--cls_thresh CLS_THRESH]\n",
      "                         [--enable_mkldnn ENABLE_MKLDNN]\n",
      "                         [--cpu_threads CPU_THREADS]\n",
      "                         [--use_pdserving USE_PDSERVING] [--warmup WARMUP]\n",
      "                         [--draw_img_save_dir DRAW_IMG_SAVE_DIR]\n",
      "                         [--save_crop_res SAVE_CROP_RES]\n",
      "                         [--crop_res_save_dir CROP_RES_SAVE_DIR]\n",
      "                         [--use_mp USE_MP]\n",
      "                         [--total_process_num TOTAL_PROCESS_NUM]\n",
      "                         [--process_id PROCESS_ID] [--benchmark BENCHMARK]\n",
      "                         [--save_log_path SAVE_LOG_PATH] [--show_log SHOW_LOG]\n",
      "                         [--use_onnx USE_ONNX]\n",
      "predict_system.py: error: unrecognized arguments: - codemely\\Proj1_NhanDienBienBaoTenDuong_CODEMELY\\mycode\\ResearchModel\\4.Paddleocr_PaddlePaddle\\PaddleOCR\\train\\debug_train_images'\n"
     ]
    }
   ],
   "source": [
    "\n",
    "!python tools/infer/predict_system.py --use_gpu=True --use_onnx=True --drop_score=0.7\\\n",
    "--det_algorithm=\"DB\" --use_mp=True --total_process_num=2 \\\n",
    "--image_dir=r'D:\\OneDrive - codemely\\Proj1_NhanDienBienBaoTenDuong_CODEMELY\\mycode\\ResearchModel\\4.Paddleocr_PaddlePaddle\\PaddleOCR\\train\\debug_train_images' \\\n",
    "--det_model_dir=/content/drive/MyDrive/PPOCR/output/onnx_model/det_ppocrv3_onnx/model_det.onnx  \\\n",
    "--rec_model_dir=/content/drive/MyDrive/PPOCR/output/onnx_model/rec_ppocrv3_onnx/model_rec.onnx \\\n",
    "--rec_char_dict_path=\"/configs/dictionary/ppocr_dict.txt\" \\\n",
    "--draw_img_save_dir='/ONNX' \\\n",
    "--vis_font_path='models\\latin.ttf'"
   ]
  },
  {
   "cell_type": "code",
   "execution_count": null,
   "metadata": {},
   "outputs": [
    {
     "ename": "NameError",
     "evalue": "name 'float32' is not defined",
     "output_type": "error",
     "traceback": [
      "\u001b[1;31m---------------------------------------------------------------------------\u001b[0m",
      "\u001b[1;31mNameError\u001b[0m                                 Traceback (most recent call last)",
      "\u001b[1;32md:\\Hoc IT\\Doan Ngoc Cuong\\OneDrive - codemely\\Proj1_NhanDienBienBaoTenDuong_CODEMELY\\mycode\\ResearchModel\\4.Paddleocr_PaddlePaddle\\4.3.Smart_menu_OCR\\Triển khai .onnx có sẵn.ipynb Cell 14\u001b[0m line \u001b[0;36m5\n\u001b[0;32m      <a href='vscode-notebook-cell:/d%3A/Hoc%20IT/Doan%20Ngoc%20Cuong/OneDrive%20-%20codemely/Proj1_NhanDienBienBaoTenDuong_CODEMELY/mycode/ResearchModel/4.Paddleocr_PaddlePaddle/4.3.Smart_menu_OCR/Tri%E1%BB%83n%20khai%20.onnx%20c%C3%B3%20s%E1%BA%B5n.ipynb#X45sZmlsZQ%3D%3D?line=1'>2</a>\u001b[0m \u001b[39mimport\u001b[39;00m \u001b[39mmatplotlib\u001b[39;00m\u001b[39m.\u001b[39;00m\u001b[39mpyplot\u001b[39;00m \u001b[39mas\u001b[39;00m \u001b[39mplt\u001b[39;00m\n\u001b[0;32m      <a href='vscode-notebook-cell:/d%3A/Hoc%20IT/Doan%20Ngoc%20Cuong/OneDrive%20-%20codemely/Proj1_NhanDienBienBaoTenDuong_CODEMELY/mycode/ResearchModel/4.Paddleocr_PaddlePaddle/4.3.Smart_menu_OCR/Tri%E1%BB%83n%20khai%20.onnx%20c%C3%B3%20s%E1%BA%B5n.ipynb#X45sZmlsZQ%3D%3D?line=3'>4</a>\u001b[0m \u001b[39m# Giả sử output là tensor đầu ra từ mô hình của bạn\u001b[39;00m\n\u001b[1;32m----> <a href='vscode-notebook-cell:/d%3A/Hoc%20IT/Doan%20Ngoc%20Cuong/OneDrive%20-%20codemely/Proj1_NhanDienBienBaoTenDuong_CODEMELY/mycode/ResearchModel/4.Paddleocr_PaddlePaddle/4.3.Smart_menu_OCR/Tri%E1%BB%83n%20khai%20.onnx%20c%C3%B3%20s%E1%BA%B5n.ipynb#X45sZmlsZQ%3D%3D?line=4'>5</a>\u001b[0m output \u001b[39m=\u001b[39m np\u001b[39m.\u001b[39marray([[[\u001b[39m9.9999058e-01\u001b[39m, \u001b[39m2.2108303e-10\u001b[39m, \u001b[39m.\u001b[39m\u001b[39m.\u001b[39m\u001b[39m.\u001b[39m]]], dtype\u001b[39m=\u001b[39mfloat32)\n\u001b[0;32m      <a href='vscode-notebook-cell:/d%3A/Hoc%20IT/Doan%20Ngoc%20Cuong/OneDrive%20-%20codemely/Proj1_NhanDienBienBaoTenDuong_CODEMELY/mycode/ResearchModel/4.Paddleocr_PaddlePaddle/4.3.Smart_menu_OCR/Tri%E1%BB%83n%20khai%20.onnx%20c%C3%B3%20s%E1%BA%B5n.ipynb#X45sZmlsZQ%3D%3D?line=6'>7</a>\u001b[0m \u001b[39m# Chọn kênh đầu tiên (hoặc bất kỳ kênh nào bạn muốn biểu diễn)\u001b[39;00m\n\u001b[0;32m      <a href='vscode-notebook-cell:/d%3A/Hoc%20IT/Doan%20Ngoc%20Cuong/OneDrive%20-%20codemely/Proj1_NhanDienBienBaoTenDuong_CODEMELY/mycode/ResearchModel/4.Paddleocr_PaddlePaddle/4.3.Smart_menu_OCR/Tri%E1%BB%83n%20khai%20.onnx%20c%C3%B3%20s%E1%BA%B5n.ipynb#X45sZmlsZQ%3D%3D?line=7'>8</a>\u001b[0m heatmap \u001b[39m=\u001b[39m output[\u001b[39m0\u001b[39m, \u001b[39m0\u001b[39m, :]\n",
      "\u001b[1;31mNameError\u001b[0m: name 'float32' is not defined"
     ]
    }
   ],
   "source": [
    "import numpy as np\n",
    "import matplotlib.pyplot as plt\n",
    "\n",
    "# Giả sử output là tensor đầu ra từ mô hình của bạn\n",
    "output = np.array([[[9.9999058e-01, 2.2108303e-10, ...]]], dtype=float32)\n",
    "\n",
    "# Chọn kênh đầu tiên (hoặc bất kỳ kênh nào bạn muốn biểu diễn)\n",
    "heatmap = output[0, 0, :]\n",
    "\n",
    "# Tạo heatmap\n",
    "plt.imshow(heatmap, cmap='hot', interpolation='nearest')\n",
    "plt.colorbar()\n",
    "plt.show()\n"
   ]
  },
  {
   "cell_type": "code",
   "execution_count": null,
   "metadata": {},
   "outputs": [
    {
     "ename": "AttributeError",
     "evalue": "'list' object has no attribute 'astype'",
     "output_type": "error",
     "traceback": [
      "\u001b[1;31m---------------------------------------------------------------------------\u001b[0m",
      "\u001b[1;31mAttributeError\u001b[0m                            Traceback (most recent call last)",
      "\u001b[1;32md:\\Hoc IT\\Doan Ngoc Cuong\\OneDrive - codemely\\Proj1_NhanDienBienBaoTenDuong_CODEMELY\\mycode\\ResearchModel\\4.Paddleocr_PaddlePaddle\\4.3.Smart_menu_OCR\\Triển khai .onnx có sẵn.ipynb Cell 14\u001b[0m line \u001b[0;36m1\n\u001b[0;32m      <a href='vscode-notebook-cell:/d%3A/Hoc%20IT/Doan%20Ngoc%20Cuong/OneDrive%20-%20codemely/Proj1_NhanDienBienBaoTenDuong_CODEMELY/mycode/ResearchModel/4.Paddleocr_PaddlePaddle/4.3.Smart_menu_OCR/Tri%E1%BB%83n%20khai%20.onnx%20c%C3%B3%20s%E1%BA%B5n.ipynb#X43sZmlsZQ%3D%3D?line=1'>2</a>\u001b[0m \u001b[39mfrom\u001b[39;00m \u001b[39mPIL\u001b[39;00m \u001b[39mimport\u001b[39;00m Image\n\u001b[0;32m      <a href='vscode-notebook-cell:/d%3A/Hoc%20IT/Doan%20Ngoc%20Cuong/OneDrive%20-%20codemely/Proj1_NhanDienBienBaoTenDuong_CODEMELY/mycode/ResearchModel/4.Paddleocr_PaddlePaddle/4.3.Smart_menu_OCR/Tri%E1%BB%83n%20khai%20.onnx%20c%C3%B3%20s%E1%BA%B5n.ipynb#X43sZmlsZQ%3D%3D?line=3'>4</a>\u001b[0m \u001b[39m# Giả sử `array_data` là mảng của bạn\u001b[39;00m\n\u001b[0;32m      <a href='vscode-notebook-cell:/d%3A/Hoc%20IT/Doan%20Ngoc%20Cuong/OneDrive%20-%20codemely/Proj1_NhanDienBienBaoTenDuong_CODEMELY/mycode/ResearchModel/4.Paddleocr_PaddlePaddle/4.3.Smart_menu_OCR/Tri%E1%BB%83n%20khai%20.onnx%20c%C3%B3%20s%E1%BA%B5n.ipynb#X43sZmlsZQ%3D%3D?line=4'>5</a>\u001b[0m \u001b[39m# array_data = np.array([[...]])  # Thay thế bằng mảng thực tế của bạn\u001b[39;00m\n\u001b[0;32m      <a href='vscode-notebook-cell:/d%3A/Hoc%20IT/Doan%20Ngoc%20Cuong/OneDrive%20-%20codemely/Proj1_NhanDienBienBaoTenDuong_CODEMELY/mycode/ResearchModel/4.Paddleocr_PaddlePaddle/4.3.Smart_menu_OCR/Tri%E1%BB%83n%20khai%20.onnx%20c%C3%B3%20s%E1%BA%B5n.ipynb#X43sZmlsZQ%3D%3D?line=5'>6</a>\u001b[0m \n\u001b[0;32m      <a href='vscode-notebook-cell:/d%3A/Hoc%20IT/Doan%20Ngoc%20Cuong/OneDrive%20-%20codemely/Proj1_NhanDienBienBaoTenDuong_CODEMELY/mycode/ResearchModel/4.Paddleocr_PaddlePaddle/4.3.Smart_menu_OCR/Tri%E1%BB%83n%20khai%20.onnx%20c%C3%B3%20s%E1%BA%B5n.ipynb#X43sZmlsZQ%3D%3D?line=6'>7</a>\u001b[0m \u001b[39m# Chọn kênh hoặc xử lý mảng ở đây nếu cần\u001b[39;00m\n\u001b[0;32m      <a href='vscode-notebook-cell:/d%3A/Hoc%20IT/Doan%20Ngoc%20Cuong/OneDrive%20-%20codemely/Proj1_NhanDienBienBaoTenDuong_CODEMELY/mycode/ResearchModel/4.Paddleocr_PaddlePaddle/4.3.Smart_menu_OCR/Tri%E1%BB%83n%20khai%20.onnx%20c%C3%B3%20s%E1%BA%B5n.ipynb#X43sZmlsZQ%3D%3D?line=7'>8</a>\u001b[0m \n\u001b[0;32m      <a href='vscode-notebook-cell:/d%3A/Hoc%20IT/Doan%20Ngoc%20Cuong/OneDrive%20-%20codemely/Proj1_NhanDienBienBaoTenDuong_CODEMELY/mycode/ResearchModel/4.Paddleocr_PaddlePaddle/4.3.Smart_menu_OCR/Tri%E1%BB%83n%20khai%20.onnx%20c%C3%B3%20s%E1%BA%B5n.ipynb#X43sZmlsZQ%3D%3D?line=8'>9</a>\u001b[0m \u001b[39m# Chuẩn hóa dữ liệu (ví dụ này giả sử dữ liệu đã nằm trong khoảng 0-1)\u001b[39;00m\n\u001b[1;32m---> <a href='vscode-notebook-cell:/d%3A/Hoc%20IT/Doan%20Ngoc%20Cuong/OneDrive%20-%20codemely/Proj1_NhanDienBienBaoTenDuong_CODEMELY/mycode/ResearchModel/4.Paddleocr_PaddlePaddle/4.3.Smart_menu_OCR/Tri%E1%BB%83n%20khai%20.onnx%20c%C3%B3%20s%E1%BA%B5n.ipynb#X43sZmlsZQ%3D%3D?line=9'>10</a>\u001b[0m image_data \u001b[39m=\u001b[39m (result \u001b[39m*\u001b[39;49m \u001b[39m255\u001b[39;49m)\u001b[39m.\u001b[39;49mastype(np\u001b[39m.\u001b[39muint8)\n\u001b[0;32m     <a href='vscode-notebook-cell:/d%3A/Hoc%20IT/Doan%20Ngoc%20Cuong/OneDrive%20-%20codemely/Proj1_NhanDienBienBaoTenDuong_CODEMELY/mycode/ResearchModel/4.Paddleocr_PaddlePaddle/4.3.Smart_menu_OCR/Tri%E1%BB%83n%20khai%20.onnx%20c%C3%B3%20s%E1%BA%B5n.ipynb#X43sZmlsZQ%3D%3D?line=11'>12</a>\u001b[0m \u001b[39m# Chuyển đổi thành hình ảnh\u001b[39;00m\n\u001b[0;32m     <a href='vscode-notebook-cell:/d%3A/Hoc%20IT/Doan%20Ngoc%20Cuong/OneDrive%20-%20codemely/Proj1_NhanDienBienBaoTenDuong_CODEMELY/mycode/ResearchModel/4.Paddleocr_PaddlePaddle/4.3.Smart_menu_OCR/Tri%E1%BB%83n%20khai%20.onnx%20c%C3%B3%20s%E1%BA%B5n.ipynb#X43sZmlsZQ%3D%3D?line=12'>13</a>\u001b[0m image \u001b[39m=\u001b[39m Image\u001b[39m.\u001b[39mfromarray(image_data)\n",
      "\u001b[1;31mAttributeError\u001b[0m: 'list' object has no attribute 'astype'"
     ]
    }
   ],
   "source": [
    "import numpy as np\n",
    "from PIL import Image\n",
    "\n",
    "# Giả sử `array_data` là mảng của bạn\n",
    "# array_data = np.array([[...]])  # Thay thế bằng mảng thực tế của bạn\n",
    "\n",
    "# Chọn kênh hoặc xử lý mảng ở đây nếu cần\n",
    "\n",
    "# Chuẩn hóa dữ liệu (ví dụ này giả sử dữ liệu đã nằm trong khoảng 0-1)\n",
    "image_data = (result * 255).astype(np.uint8)\n",
    "\n",
    "# Chuyển đổi thành hình ảnh\n",
    "image = Image.fromarray(image_data)\n",
    "\n",
    "# Hiển thị hoặc lưu hình ảnh\n",
    "image.show()  # Hoặc image.save(\"output.png\")\n"
   ]
  },
  {
   "cell_type": "code",
   "execution_count": null,
   "metadata": {},
   "outputs": [],
   "source": [
    "\n",
    "# # Resize img chỉ thực hiện trên 2D, 3D nên cần làm trước khi thao tác khác\n",
    "# side_length = min(img.shape[0], img.shape[1])\n",
    "# # print(side_length)\n",
    "# img = cv2.resize(img, (side_length, side_length))\n",
    "\n"
   ]
  },
  {
   "cell_type": "code",
   "execution_count": null,
   "metadata": {},
   "outputs": [],
   "source": []
  },
  {
   "cell_type": "code",
   "execution_count": null,
   "metadata": {},
   "outputs": [
    {
     "name": "stdout",
     "output_type": "stream",
     "text": [
      "Image Dimensions :  (1, 3, 1364, 1364)\n",
      "Image Data Type  :  float32\n",
      "Number of Channels:  1364\n",
      "(1, 3, 1364, 1364) float32 1364\n"
     ]
    }
   ],
   "source": [
    "\n",
    "\n",
    "# #1. Convert the image to float32, (if ko có: Unexpected input, actual: (tensor(unit(8)), expected tensor(float))\n",
    "# img = img.astype('float32')     # (956, 1276, 3) float32 3\n",
    "\n",
    "# #2. Add an extra dimension   (Nếu ko có thì: INVALID_ARGUMENT: invalid rank for input x. Got 3 expected 4)\n",
    "# img = np.expand_dims(img, axis=0)    # (1, 956, 1276, 3) float32 1276\n",
    "# # Add an Extra Dimension: You added an extra dimension to the image to make it a batch of images.\n",
    "# #  The shape becomes (1, 956, 1276, 3), which is (batch_size, height, width, channels).\n",
    "\n",
    "# # 3. INVALID_ARGUMENT : Got invalid dimensions for input: x for the following indices index: 1 Got: 956 Expected: 3\n",
    "# # Most likely, your model expects the input in a different order,\n",
    "# #  probably (batch_size, channels, height, width).\n",
    "# # img = np.transpose(img, (2, 0, 1)) # Use numpy.transpose to reorder the dimensions.\n",
    "# img = np.transpose(img, (0, 3, 1, 2))  # Rearrange to (batch_size, channels, height, width) # (1, 3, 956, 1276) float32 956\n",
    "\n",
    "# # Print image information\n",
    "# if img is not None:\n",
    "#     print(\"Image Dimensions : \", img.shape)  # Height, Width, Channels\n",
    "#     print(\"Image Data Type  : \", img.dtype)\n",
    "#     print(\"Number of Channels: \", img.shape[2] if len(img.shape) > 2 else 1)\n",
    "#     print(img.shape, img.dtype, img.shape[2] if len(img.shape) > 2 else 1)\n",
    "# else:\n",
    "#     print(\"Error: Image not loaded.\")\n"
   ]
  },
  {
   "cell_type": "code",
   "execution_count": null,
   "metadata": {},
   "outputs": [
    {
     "ename": "RuntimeException",
     "evalue": "[ONNXRuntimeError] : 6 : RUNTIME_EXCEPTION : Non-zero status code returned while running Add node. Name:'Add_43' Status Message: C:\\a\\_work\\1\\s\\onnxruntime\\core/providers/cpu/math/element_wise_ops.h:540 onnxruntime::BroadcastIterator::Init axis == 1 || axis == largest was false. Attempting to broadcast an axis by a dimension other than 1. 171 by 172\n",
     "output_type": "error",
     "traceback": [
      "\u001b[1;31m---------------------------------------------------------------------------\u001b[0m",
      "\u001b[1;31mRuntimeException\u001b[0m                          Traceback (most recent call last)",
      "\u001b[1;32md:\\OneDrive - codemely\\Proj1_NhanDienBienBaoTenDuong_CODEMELY\\mycode\\PaddleOCR-Vietnamese-Pretrained.ipynb Cell 9\u001b[0m line \u001b[0;36m2\n\u001b[0;32m      <a href='vscode-notebook-cell:/d%3A/OneDrive%20-%20codemely/Proj1_NhanDienBienBaoTenDuong_CODEMELY/mycode/PaddleOCR-Vietnamese-Pretrained.ipynb#X25sZmlsZQ%3D%3D?line=0'>1</a>\u001b[0m \u001b[39m# Run the model\u001b[39;00m\n\u001b[1;32m----> <a href='vscode-notebook-cell:/d%3A/OneDrive%20-%20codemely/Proj1_NhanDienBienBaoTenDuong_CODEMELY/mycode/PaddleOCR-Vietnamese-Pretrained.ipynb#X25sZmlsZQ%3D%3D?line=1'>2</a>\u001b[0m outputs \u001b[39m=\u001b[39m session\u001b[39m.\u001b[39;49mrun(\u001b[39mNone\u001b[39;49;00m, {input_name: img})\n\u001b[0;32m      <a href='vscode-notebook-cell:/d%3A/OneDrive%20-%20codemely/Proj1_NhanDienBienBaoTenDuong_CODEMELY/mycode/PaddleOCR-Vietnamese-Pretrained.ipynb#X25sZmlsZQ%3D%3D?line=2'>3</a>\u001b[0m output \u001b[39m=\u001b[39m outputs[\u001b[39m0\u001b[39m] \u001b[39m# The output is typically a tensor of shape [-1, 1, -1, -1]\u001b[39;00m\n",
      "File \u001b[1;32mc:\\Users\\Administrator\\AppData\\Local\\Programs\\Python\\Python311\\Lib\\site-packages\\onnxruntime\\capi\\onnxruntime_inference_collection.py:220\u001b[0m, in \u001b[0;36mSession.run\u001b[1;34m(self, output_names, input_feed, run_options)\u001b[0m\n\u001b[0;32m    218\u001b[0m     output_names \u001b[39m=\u001b[39m [output\u001b[39m.\u001b[39mname \u001b[39mfor\u001b[39;00m output \u001b[39min\u001b[39;00m \u001b[39mself\u001b[39m\u001b[39m.\u001b[39m_outputs_meta]\n\u001b[0;32m    219\u001b[0m \u001b[39mtry\u001b[39;00m:\n\u001b[1;32m--> 220\u001b[0m     \u001b[39mreturn\u001b[39;00m \u001b[39mself\u001b[39;49m\u001b[39m.\u001b[39;49m_sess\u001b[39m.\u001b[39;49mrun(output_names, input_feed, run_options)\n\u001b[0;32m    221\u001b[0m \u001b[39mexcept\u001b[39;00m C\u001b[39m.\u001b[39mEPFail \u001b[39mas\u001b[39;00m err:\n\u001b[0;32m    222\u001b[0m     \u001b[39mif\u001b[39;00m \u001b[39mself\u001b[39m\u001b[39m.\u001b[39m_enable_fallback:\n",
      "\u001b[1;31mRuntimeException\u001b[0m: [ONNXRuntimeError] : 6 : RUNTIME_EXCEPTION : Non-zero status code returned while running Add node. Name:'Add_43' Status Message: C:\\a\\_work\\1\\s\\onnxruntime\\core/providers/cpu/math/element_wise_ops.h:540 onnxruntime::BroadcastIterator::Init axis == 1 || axis == largest was false. Attempting to broadcast an axis by a dimension other than 1. 171 by 172\n"
     ]
    }
   ],
   "source": [
    "\n",
    "# # Run the model\n",
    "# outputs = session.run(None, {input_name: img})\n",
    "# output = outputs[0] # The output is typically a tensor of shape [-1, 1, -1, -1]\n"
   ]
  },
  {
   "cell_type": "code",
   "execution_count": null,
   "metadata": {},
   "outputs": [],
   "source": []
  },
  {
   "cell_type": "markdown",
   "metadata": {},
   "source": []
  },
  {
   "cell_type": "markdown",
   "metadata": {},
   "source": [
    "RuntimeException                          Traceback (most recent call last)\n",
    "d:\\OneDrive - codemely\\Proj1_NhanDienBienBaoTenDuong_CODEMELY\\mycode\\PaddleOCR-Vietnamese-Pretrained.ipynb Cell 8 line 2\n",
    "      1 # Run the model\n",
    "----> 2 outputs = session.run(None, {input_name: img})\n",
    "      3 output = outputs[0] # The output is typically a tensor of shape [-1, 1, -1, -1]\n",
    "\n",
    "File c:\\Users\\Administrator\\AppData\\Local\\Programs\\Python\\Python311\\Lib\\site-packages\\onnxruntime\\capi\\onnxruntime_inference_collection.py:220, in Session.run(self, output_names, input_feed, run_options)\n",
    "    218     output_names = [output.name for output in self._outputs_meta]\n",
    "    219 try:\n",
    "--> 220     return self._sess.run(output_names, input_feed, run_options)\n",
    "    221 except C.EPFail as err:\n",
    "    222     if self._enable_fallback:\n",
    "\n",
    "RuntimeException: [ONNXRuntimeError] : 6 : RUNTIME_EXCEPTION : Non-zero status code returned while running Add node. Name:'Add_44' Status Message: C:\\a\\_work\\1\\s\\onnxruntime\\core/providers/cpu/math/element_wise_ops.h:540 onnxruntime::BroadcastIterator::Init axis == 1 || axis == largest was false. Attempting to broadcast an axis by a dimension other than 1. 319 by 320"
   ]
  },
  {
   "cell_type": "markdown",
   "metadata": {},
   "source": [
    "Lỗi mà bạn gặp phải khi chạy model ONNX là do sự không tương thích giữa đầu vào của model và dữ liệu bạn cung cấp. Lỗi `RuntimeException` với thông báo:\n",
    "\n",
    "```\n",
    "Non-zero status code returned while running Add node. Name:'Add_44' Status Message: C:\\a\\_work\\1\\s\\onnxruntime\\core/providers/cpu/math/element_wise_ops.h:540 onnxruntime::BroadcastIterator::Init axis == 1 || axis == largest was false. Attempting to broadcast an axis by a dimension other than 1. 319 by 320\n",
    "```\n",
    "\n",
    "cho thấy có vấn đề với quá trình broadcast (phát sóng) trong một phép toán cộng. Điều này thường xảy ra khi kích thước của tensor đầu vào không phù hợp với những gì model mong đợi. Để khắc phục lỗi này, bạn cần đảm bảo rằng tensor đầu vào của bạn phải có kích thước phù hợp với model.\n",
    "\n",
    "Dựa trên thông tin bạn cung cấp, có vẻ như model của bạn mong đợi dữ liệu đầu vào có kích thước cụ thể. Bạn đã thực hiện một số thao tác như chuyển đổi kiểu dữ liệu, thêm một chiều (batch size), và sắp xếp lại các kênh màu. Tuy nhiên, có thể model của bạn cần thêm bước xử lý hoặc cần dữ liệu đầu vào với kích thước cụ thể.\n",
    "\n",
    "Để chẩn đoán và sửa lỗi này, bạn có thể thử các bước sau:\n",
    "\n",
    "1. **Kiểm Tra Kích Thước Đầu Vào Mong Đợi của Model**: Sử dụng `session.get_inputs()[0].shape` để xác định kích thước chính xác mà model mong đợi. Điều này sẽ giúp bạn hiểu cần phải điều chỉnh kích thước của ảnh như thế nào.\n",
    "\n",
    "2. **Điều Chỉnh Kích Thước Ảnh**: Nếu kích thước ảnh không phù hợp, sử dụng OpenCV hoặc Numpy để thay đổi kích thước ảnh trước khi đưa vào model. \n",
    "\n",
    "3. **Kiểm Tra Preprocessing**: Đảm bảo rằng các bước tiền xử lý (như chuẩn hóa, trừ mean, v.v.) phù hợp với yêu cầu của model.\n",
    "\n",
    "Nếu bạn có thể cung cấp thêm thông tin về đầu vào mong đợi của model (như kích thước tensor đầu vào), tôi có thể giúp bạn chi tiết hơn trong việc điều chỉnh code."
   ]
  },
  {
   "cell_type": "markdown",
   "metadata": {},
   "source": [
    "Cảm ơn bạn đã cung cấp thông tin chi tiết về model ONNX. Dựa vào thông tin này, model của bạn mong đợi đầu vào là tensor với kích thước [-1, 3, -1, -1], nghĩa là:\n",
    "\n",
    "- Chiều đầu tiên (-1) là kích thước batch, có thể thay đổi.\n",
    "- Chiều thứ hai (3) là số kênh màu, ở đây là 3, tương ứng với màu RGB.\n",
    "- Hai chiều cuối cùng (-1, -1) là chiều cao và rộng của hình ảnh, có thể thay đổi.\n",
    "\n",
    "Do đó, có vẻ như bạn đã xử lý đúng các bước cần thiết để chuẩn bị dữ liệu đầu vào cho model. Bạn đã chuyển đổi kiểu dữ liệu của ảnh thành float32, thêm một chiều cho batch size, và sắp xếp lại các kênh màu để có tensor có hình dạng (1, 3, chiều cao, chiều rộng).\n",
    "\n",
    "Tuy nhiên, lỗi bạn gặp phải có thể xuất phát từ việc kích thước của ảnh không tương thích với mô hình. Lỗi \"broadcast\" xảy ra khi kích thước của tensor không phù hợp để thực hiện phép toán (ví dụ: phép cộng) giữa các tensor.\n",
    "\n",
    "Để giải quyết lỗi này, bạn có thể thử các bước sau:\n",
    "\n",
    "1. **Kiểm Tra Kích Thước của Ảnh**: Đảm bảo rằng kích thước của ảnh (chiều cao và chiều rộng) phù hợp với những gì mà model có thể xử lý. Nếu cần, hãy thay đổi kích thước của ảnh để phù hợp hơn.\n",
    "\n",
    "2. **Điều Chỉnh Preprocessing Đầu Vào**: Nếu model yêu cầu bất kỳ bước chuẩn bị đặc biệt nào cho dữ liệu đầu vào (như chuẩn hóa, trừ mean, v.v.), hãy đảm bảo rằng bạn thực hiện những bước này trước khi đưa ảnh vào model.\n",
    "\n",
    "3. **Xem Xét Đầu Ra của Model**: Đảm bảo bạn hiểu và xử lý đúng đầu ra của model. Trong trường hợp này, model trả về giá trị kích hoạt sigmoid, bạn cần xử lý kết quả này phù hợp với nhu cầu của bạn.\n",
    "\n",
    "Nếu bạn thử những bước trên và vẫn gặp lỗi, hãy cung cấp thêm thông tin về cách bạn xử lý ảnh và đầu ra của model, tôi có thể giúp bạn chi tiết hơn."
   ]
  },
  {
   "cell_type": "markdown",
   "metadata": {},
   "source": [
    "tôi thấy node Add_44 rồi, \n",
    "Name:'Add_44' Status Message: C:\\a\\_work\\1\\s\\onnxruntime\\core/providers/cpu/math/element_wise_ops.h:540 onnxruntime::BroadcastIterator::Init axis == 1 || axis == largest was false. Attempting to broadcast an axis by a dimension other than 1. 319 by 320\n",
    "\n",
    "là sao? "
   ]
  },
  {
   "cell_type": "markdown",
   "metadata": {},
   "source": [
    "Thông điệp lỗi mà bạn đã nhận được khi chạy mô hình ONNX của bạn trên ONNX Runtime cung cấp thông tin quan trọng về vấn đề bạn đang gặp phải. Hãy phân tích thông điệp lỗi này:\n",
    "\n",
    "1. **Node Gây Lỗi**: Node gây ra lỗi được định danh là `Add_44`, cho thấy rằng lỗi xảy ra trong một hoạt động cộng.\n",
    "\n",
    "2. **Thông Điệp Lỗi**: Phần thông điệp lỗi \"Attempting to broadcast an axis by a dimension other than 1. 319 by 320\" chỉ ra rằng một trong các tensor đầu vào của hoạt động cộng này đang cố gắng thực hiện broadcasting trên một trục có kích thước khác với 1. Trong trường hợp này, có vẻ như mô hình đang cố gắng broadcast một tensor có kích thước 319 trên một trục mà tensor kia có kích thước là 320.\n",
    "\n",
    "3. **Ý Nghĩa của Lỗi**: Broadcasting trong ONNX và các thư viện tính toán tensor như NumPy cho phép mở rộng tự động các tensor nhỏ hơn để phù hợp với kích thước của tensor lớn hơn trong các phép toán như cộng, nhân, v.v. Tuy nhiên, điều này chỉ hoạt động khi kích thước của tensor nhỏ hơn là 1 ở các trục cần broadcast. Trong trường hợp này, lỗi xảy ra vì một trục có kích thước 319 không thể tự động được mở rộng để phù hợp với kích thước 320.\n",
    "\n",
    "4. **Giải Quyết Lỗi**: Để giải quyết vấn đề này, bạn cần đảm bảo rằng các tensor đầu vào của node `Add_44` có kích thước tương thích với nhau. Nếu mục đích là sử dụng broadcasting, thì kích thước của tensor nhỏ hơn ở trục cần broadcast phải là 1, hoặc bạn cần thực hiện các bước tiền xử lý để đưa chúng về kích thước tương thích trước khi thực hiện phép cộng.\n",
    "\n",
    "Bạn có thể kiểm tra chi tiết các tensor đầu vào của node `Add_44` trong mô hình ONNX của bạn để xác định cách tốt nhất để giải quyết vấn đề này."
   ]
  },
  {
   "cell_type": "markdown",
   "metadata": {},
   "source": [
    "Khi nói đến \"broadcasting\" trong ngữ cảnh của mạng neuron và xử lý tensor, chúng ta đang nói về một cơ chế tự động mở rộng dữ liệu của tensor nhỏ hơn để phù hợp với kích thước của tensor lớn hơn trong quá trình thực hiện các phép toán như cộng hoặc nhân. Một \"trục\" trong tensor là một chiều của nó, như chiều rộng, chiều cao, hoặc số kênh trong ảnh.\n",
    "\n",
    "Đối với broadcasting, điều quan trọng là:\n",
    "\n",
    "- **Kích Thước Tensor Nhỏ Hơn Ở Trục Cần Broadcast Là 1**: Nghĩa là trong tensor nhỏ hơn, kích thước của trục cụ thể đó phải là 1. Điều này cho phép tensor đó được \"mở rộng\" tự động để phù hợp với kích thước của tensor lớn hơn trên trục đó.\n",
    "\n",
    "Ví dụ:\n",
    "\n",
    "- Giả sử bạn có hai tensor A và B. A có kích thước [1, 3, 4, 4] và B có kích thước [2, 3, 4, 4].\n",
    "- Ở đây, tensor A có thể được broadcast trên trục đầu tiên từ kích thước 1 lên 2 để phù hợp với kích thước của B.\n",
    "- Kết quả là, A sẽ được coi như có kích thước [2, 3, 4, 4] trong quá trình phép toán, mặc dù dữ liệu thực tế của nó không thay đổi, chỉ được lặp lại.\n",
    "\n",
    "Trong trường hợp lỗi mà bạn đang gặp phải, có vẻ như một trong các tensor đầu vào của node `Add_44` có trục với kích thước 319, trong khi tensor kia có trục tương ứng với kích thước 320. Điều này không phù hợp với quy tắc broadcasting vì để thực hiện broadcasting, kích thước của tensor nhỏ hơn trên trục cụ thể đó phải là 1."
   ]
  },
  {
   "cell_type": "markdown",
   "metadata": {},
   "source": [
    "Để làm rõ vấn đề bạn đang gặp phải trong quá trình broadcasting ở node `Add_44` trong mô hình ONNX của bạn:\n",
    "\n",
    "1. **Tensor Đầu Vào của Node `Add_44`**: Node `Add_44` có ít nhất hai tensor đầu vào để thực hiện phép cộng. Trong trường hợp của bạn, có vẻ như hai tensor này có kích thước không tương thích trên một trục cụ thể.\n",
    "\n",
    "2. **Kích Thước Của Các Trục**: Một trong các tensor đầu vào có một trục với kích thước 319, trong khi tensor kia có trục tương ứng với kích thước 320. Điều này tạo ra sự không tương thích vì kích thước của mỗi trục trong mỗi tensor đầu vào phải giống nhau hoặc một trong chúng phải có kích thước là 1 để có thể thực hiện broadcasting một cách hợp lệ.\n",
    "\n",
    "3. **Ý Nghĩa của Lỗi**: Lỗi bạn nhận được chỉ ra rằng có sự không phù hợp trong việc thực hiện broadcasting giữa hai tensor đầu vào này. Trong ONNX và hầu hết các thư viện xử lý tensor, để broadcasting có thể xảy ra, kích thước của tensor nhỏ hơn trên trục cụ thể phải là 1. Nếu không, tensor nhỏ hơn không thể được tự động mở rộng để phù hợp với tensor lớn hơn.\n",
    "\n",
    "4. **Giải Pháp**: Bạn cần đảm bảo rằng kích thước của các tensor đầu vào cho node `Add_44` phù hợp với nhau. Điều này có thể đòi hỏi việc chỉnh sửa cấu trúc mô hình hoặc xử lý trước dữ liệu đầu vào để đảm bảo rằng chúng có kích thước tương thích.\n",
    "\n",
    "Nói cách khác, bạn cần kiểm tra và chỉnh sửa kích thước của các tensor đầu vào trước khi chúng được đưa vào node `Add_44` để đảm bảo chúng tương thích với nhau hoặc thực hiện các bước cần thiết để cho phép broadcasting diễn ra một cách hợp lệ."
   ]
  },
  {
   "attachments": {
    "image-2.png": {
     "image/png": "[encoded data removed]"
    }
   },
   "cell_type": "markdown",
   "metadata": {},
   "source": [
    "![image-2.png](attachment:image-2.png)"
   ]
  },
  {
   "cell_type": "markdown",
   "metadata": {},
   "source": [
    "- Add_44: Node Properties, inputs: A name: tmp_7 và B name: nearest_interp_v2_2.tmp_0\n",
    "- Connection Properties: name tm_7, input form node Add_41, output: to node Add_41. \n",
    "- Connection Properties: name nearest_interp_v2_2.tmp_0, input form node Resize to node Resize_2, output: to node Add_41. \n",
    "\n",
    "- Add_41 Node Properties: output: name tm_7\n",
    "- Resize_2, scales<4> Node Properties: (type Resize) name Resize_2, Attributes: mode nearest, Outputs: name nearest_interp_v2_2.tmp_0"
   ]
  },
  {
   "cell_type": "markdown",
   "metadata": {},
   "source": [
    "Dựa trên thông tin bạn cung cấp, hãy phân tích quá trình dẫn đến lỗi ở node `Add_44` trong mô hình ONNX của bạn:\n",
    "\n",
    "1. **Node `Add_44`**:\n",
    "   - Đầu vào A: Tên `tmp_7`, đến từ node `Add_41`.\n",
    "   - Đầu vào B: Tên `nearest_interp_v2_2.tmp_0`, đến từ node `Resize_2`.\n",
    "\n",
    "2. **Node `Add_41`**:\n",
    "   - Đầu ra `tmp_7` được sử dụng làm đầu vào cho node `Add_44`.\n",
    "\n",
    "3. **Node `Resize_2`**:\n",
    "   - Loại: Resize với thuộc tính `mode` là nearest.\n",
    "   - Đầu ra `nearest_interp_v2_2.tmp_0` được sử dụng làm đầu vào cho node `Add_44`.\n",
    "\n",
    "Dựa trên cấu trúc này, đây là những điểm cần chú ý:\n",
    "\n",
    "- **Xử Lý Tensor trong Node `Add_44`**: Lỗi broadcasting xảy ra ở node `Add_44` có thể là do kích thước không tương thích của tensor `tmp_7` và `nearest_interp_v2_2.tmp_0`.\n",
    "\n",
    "- **Kích Thước Tensor sau Resize**: Vì `nearest_interp_v2_2.tmp_0` là kết quả của một hoạt động resize, có khả năng rằng kích thước của tensor này sau khi resize không khớp với kích thước của tensor `tmp_7`.\n",
    "\n",
    "- **Kiểm Tra Kích Thước Tensor**: Bạn cần kiểm tra kích thước cụ thể của cả hai tensor đầu vào này trước khi chúng đến node `Add_44`. Nếu có sự không khớp, bạn cần đảm bảo rằng chúng được điều chỉnh sao cho phù hợp với nhau hoặc rằng kích thước của tensor nhỏ hơn phải có trục với kích thước là 1 để broadcasting có thể diễn ra một cách hợp lệ.\n",
    "\n",
    "- **Điều Chỉnh Hoạt Động Resize**: Nếu lỗi xuất phát từ node `Resize_2`, bạn có thể cần điều chỉnh cách thức resize tensor để đảm bảo kích thước sau khi resize phù hợp với tensor `tmp_7`.\n",
    "\n",
    "Để giải quyết vấn đề, bạn nên kiểm tra và so sánh kích thước của tensor `tmp_7` và `nearest_interp_v2_2.tmp_0` và đảm bảo rằng chúng có kích thước tương thích hoặc điều chỉnh quá trình xử lý tensor để đạt được sự phù hợp cần thiết."
   ]
  },
  {
   "cell_type": "code",
   "execution_count": null,
   "metadata": {},
   "outputs": [
    {
     "name": "stdout",
     "output_type": "stream",
     "text": [
      "Node Name: Add_41\n",
      "Input Tensors: ['conv2d_114.tmp_0', 'tmp_6']\n",
      "Output Tensors: ['tmp_7']\n",
      "Node Name: Resize_2\n",
      "Input Tensors: ['tmp_9', 'Constant_50']\n",
      "Output Tensors: ['nearest_interp_v2_2.tmp_0']\n",
      "Node Name: Add_44\n",
      "Input Tensors: ['tmp_7', 'nearest_interp_v2_2.tmp_0']\n",
      "Output Tensors: ['tmp_10']\n"
     ]
    }
   ],
   "source": [
    "import onnxruntime as ort\n",
    "\n",
    "import onnx\n",
    "\n",
    "# Load the ONNX model\n",
    "model_path = 'model/model_det.onnx'\n",
    "model = onnx.load(model_path)\n",
    "\n",
    "# Function to print information of a node\n",
    "def print_node_info(model, node_name):\n",
    "    for node in model.graph.node:\n",
    "        if node.name == node_name:\n",
    "            print(f\"Node Name: {node.name}\")\n",
    "            print(\"Input Tensors:\", node.input)\n",
    "            print(\"Output Tensors:\", node.output)\n",
    "\n",
    "# Print information for specific nodes\n",
    "print_node_info(model, \"Add_41\")\n",
    "print_node_info(model, \"Resize_2\")\n",
    "print_node_info(model, \"Add_44\")\n",
    "\n",
    "# Compare sizes of tmp_7 and nearest_interp_v2_2.tmp_0\n",
    "# You will need to extract these tensors from the model and compare their shapes\n"
   ]
  },
  {
   "cell_type": "markdown",
   "metadata": {},
   "source": [
    "# Triển khai .onnx bằng cmd  (cách anh Tú) "
   ]
  },
  {
   "cell_type": "code",
   "execution_count": null,
   "metadata": {},
   "outputs": [],
   "source": [
    "#predict detection\n",
    "%cd /content/PaddleOCR-Vietnamese\n",
    "!python ./tools/infer/predict_det.py --det_algorithm=\"SAST\" --use_gpu=True \\\n",
    "                                    --det_model_dir=\"./inference/SAST\"  \\\n",
    "                                    --image_dir=./train/vietnamese/unseen_test_images/im1520.jpg"
   ]
  }
 ],
 "metadata": {
  "kernelspec": {
   "display_name": "Python 3",
   "language": "python",
   "name": "python3"
  },
  "language_info": {
   "codemirror_mode": {
    "name": "ipython",
    "version": 3
   },
   "file_extension": ".py",
   "mimetype": "text/x-python",
   "name": "python",
   "nbconvert_exporter": "python",
   "pygments_lexer": "ipython3",
   "version": "3.11.5"
  }
 },
 "nbformat": 4,
 "nbformat_minor": 2
}
