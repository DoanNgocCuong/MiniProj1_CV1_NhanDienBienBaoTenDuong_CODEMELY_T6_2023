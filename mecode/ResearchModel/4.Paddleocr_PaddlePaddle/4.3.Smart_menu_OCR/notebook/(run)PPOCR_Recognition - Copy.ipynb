{
  "cells": [
    {
      "cell_type": "markdown",
      "metadata": {},
      "source": [
        "Tương tự bên PaddleOCR: set sau 10 epochs đánh giá 1 lần, sau 4030 steps đánh giá 1 lần. \n",
        "- Mỗi \"step\" thường tương ứng với 1 batch. \n",
        "- Mỗi \"epoch\" thường tương ứng với 1 lần duyệt qua toàn bộ tập dữ liệu huấn luyện.\n",
        "- Nếu batch_size = 32, thì 1 epoch sẽ có 4030/32 = 126.5625 steps.\n",
        "- Nếu batch_size = 64, có 403 steps or 403 iters (mỗi vòng lặp model huấn luyện data trên 1 batch) thì bạn có khoảng 64*403 = 25792 ảnh được duyệt qua trong 1 epoch."
      ]
    },
    {
      "cell_type": "markdown",
      "metadata": {},
      "source": [
        "file config:\n",
        "\n",
        "Global:\n",
        "  debug: false\n",
        "  use_gpu: true\n",
        "  epoch_num: 120\n",
        "  log_smooth_window: 20\n",
        "  print_batch_step: 10\n",
        "  save_model_dir: ./output/rec_ppocr_en_quant\n",
        "  save_epoch_step: 20\n",
        "  eval_batch_step:\n",
        "  - 0\n",
        "  - 2000\n",
        "  cal_metric_during_train: true\n",
        "  pretrained_model: en_PP-OCRv3_rec_train/best_accuracy\n",
        "  checkpoints: null\n",
        "  save_inference_dir: null\n",
        "  use_visualdl: false\n",
        "  infer_img: doc/imgs_words/ch/word_1.jpg\n",
        "  character_dict_path:\n",
        "  max_text_length: 25\n",
        "  infer_mode: false\n",
        "  use_space_char: true\n",
        "  distributed: true\n",
        "  save_res_path: ./output/rec/predicts_ppocrv3.txt\n",
        "Optimizer:\n",
        "  name: Adam\n",
        "  beta1: 0.9\n",
        "  beta2: 0.999\n",
        "  lr:\n",
        "    name: Cosine\n",
        "    learning_rate: 0.001\n",
        "    warmup_epoch: 5\n",
        "  regularizer:\n",
        "    name: L2\n",
        "    factor: 3.0e-05\n",
        "Architecture:\n",
        "  model_type: rec\n",
        "  algorithm: SVTR\n",
        "  Transform: null\n",
        "  Backbone:\n",
        "    name: MobileNetV1Enhance\n",
        "    scale: 0.5\n",
        "    last_conv_stride:\n",
        "    - 1\n",
        "    - 2\n",
        "    last_pool_type: avg\n",
        "  Head:\n",
        "    name: MultiHead\n",
        "    head_list:\n",
        "    - CTCHead:\n",
        "        Neck:\n",
        "          name: svtr\n",
        "          dims: 64\n",
        "          depth: 2\n",
        "          hidden_dims: 120\n",
        "          use_guide: true\n",
        "        Head:\n",
        "          fc_decay: 1.0e-05\n",
        "    - SARHead:\n",
        "        enc_dim: 512\n",
        "        max_text_length: 25\n",
        "Loss:\n",
        "  name: MultiLoss\n",
        "  loss_config_list:\n",
        "  - CTCLoss: null\n",
        "  - SARLoss: null\n",
        "PostProcess:\n",
        "  name: CTCLabelDecode\n",
        "Metric:\n",
        "  name: RecMetric\n",
        "  main_indicator: acc\n",
        "  ignore_space: true\n",
        "Train:\n",
        "  dataset:\n",
        "    name: SimpleDataSet\n",
        "    data_dir: /content/dataset_crop/\n",
        "    ext_op_transform_idx: 1\n",
        "    label_file_list:\n",
        "    - /content/train_datacrop.txt\n",
        "    transforms:\n",
        "    - DecodeImage:\n",
        "        img_mode: BGR\n",
        "        channel_first: false\n",
        "    - RecAug: null\n",
        "    - MultiLabelEncode: null\n",
        "    - RecResizeImg:\n",
        "        image_shape:\n",
        "        - 3\n",
        "        - 48\n",
        "        - 320\n",
        "    - KeepKeys:\n",
        "        keep_keys:\n",
        "        - image\n",
        "        - label_ctc\n",
        "        - label_sar\n",
        "        - length\n",
        "        - valid_ratio\n",
        "  loader:\n",
        "    shuffle: true\n",
        "    batch_size_per_card: 64\n",
        "    drop_last: true\n",
        "    num_workers: 4\n",
        "Eval:\n",
        "  dataset:\n",
        "    name: SimpleDataSet\n",
        "    data_dir: /content/dataset_crop/\n",
        "    label_file_list:\n",
        "    - /content/val_datacrop.txt\n",
        "    transforms:\n",
        "    - DecodeImage:\n",
        "        img_mode: BGR\n",
        "        channel_first: false\n",
        "    - MultiLabelEncode: null\n",
        "    - RecResizeImg:\n",
        "        image_shape:\n",
        "        - 3\n",
        "        - 48\n",
        "        - 320\n",
        "    - KeepKeys:\n",
        "        keep_keys:\n",
        "        - image\n",
        "        - label_ctc\n",
        "        - label_sar\n",
        "        - length\n",
        "        - valid_ratio\n",
        "  loader:\n",
        "    shuffle: false\n",
        "    drop_last: false\n",
        "    batch_size_per_card: 64\n",
        "    num_workers: 4\n",
        "profiler_options: null\n",
        "\n",
        "\n",
        "Đây là code train model: \n",
        "```python \n",
        "\n",
        "%cd /content/Smart_menu_OCR\n",
        "!python3 tools/export_model.py \\\n",
        "-c /content/Smart_menu_OCR/configs/rec_ppocrv3.yml \\\n",
        "-o Global.pretrained_model=/content/drive/MyDrive/PPOCR/output/training/rec_ppocrv3/latest \\\n",
        "Global.character_dict_path=\"/content/Smart_menu_OCR/dictionary/general_dict.txt\" \\\n",
        "Global.save_inference_dir='/content/drive/MyDrive/PPOCR/output/inference/rec_ppocrv3_model'\n",
        "\n",
        "```\n",
        "\n",
        "=> Cách sử dụng Augmentation cho bộ data vào việc training model regnitation trong PADDLE OCR? "
      ]
    },
    {
      "cell_type": "markdown",
      "metadata": {
        "id": "VptF2MHLKSct"
      },
      "source": [
        "### 5.2 Download Pretrained Model"
      ]
    },
    {
      "cell_type": "code",
      "execution_count": 27,
      "metadata": {
        "colab": {
          "base_uri": "https://localhost:8080/"
        },
        "id": "JEKkD-9FKSL1",
        "outputId": "7cc8ebc9-3c78-45b0-f7f3-bd791ab955c2"
      },
      "outputs": [
        {
          "name": "stdout",
          "output_type": "stream",
          "text": [
            "/content\n",
            "--2023-11-19 12:13:05--  https://paddleocr.bj.bcebos.com/PP-OCRv3/english/en_PP-OCRv3_rec_train.tar\n",
            "Resolving paddleocr.bj.bcebos.com (paddleocr.bj.bcebos.com)... 103.235.46.61, 2409:8c04:1001:1002:0:ff:b001:368a\n",
            "Connecting to paddleocr.bj.bcebos.com (paddleocr.bj.bcebos.com)|103.235.46.61|:443... connected.\n",
            "HTTP request sent, awaiting response... 200 OK\n",
            "Length: 204093440 (195M) [application/x-tar]\n",
            "Saving to: ‘./pretrain_models/en_PP-OCRv3_rec_train.tar’\n",
            "\n",
            "en_PP-OCRv3_rec_tra 100%[===================>] 194.64M  16.0MB/s    in 30s     \n",
            "\n",
            "2023-11-19 12:13:37 (6.42 MB/s) - ‘./pretrain_models/en_PP-OCRv3_rec_train.tar’ saved [204093440/204093440]\n",
            "\n",
            "/content/pretrain_models\n"
          ]
        }
      ],
      "source": [
        "%cd /content\n",
        "# Download the pre-trained model of en_PP-OCRv3\n",
        "!wget -P ./pretrain_models/ https://paddleocr.bj.bcebos.com/PP-OCRv3/english/en_PP-OCRv3_rec_train.tar\n",
        "\n",
        "# Decompress model parameters\n",
        "%cd pretrain_models\n",
        "!tar -xf en_PP-OCRv3_rec_train.tar && rm -rf en_PP-OCRv3_rec_train.tar"
      ]
    },
    {
      "cell_type": "markdown",
      "metadata": {
        "id": "GoNnQBJah83u"
      },
      "source": [
        "### 5.3 Training"
      ]
    },
    {
      "cell_type": "markdown",
      "metadata": {
        "id": "Pr_cfNQHnJ_I"
      },
      "source": [
        "#### 5.3.1 Training-PPOCRV3"
      ]
    },
    {
      "cell_type": "code",
      "execution_count": 34,
      "metadata": {
        "id": "y8B9MF9OojdK"
      },
      "outputs": [],
      "source": [
        "\n",
        "# Code chạy, (được tắt khi load trained model)\n",
        "!python3 tools/train.py \\\n",
        " -c /content/Smart_menu_OCR/configs/rec_ppocrv3.yml \\\n",
        " -o Global.pretrained_model=/content/pretrain_models/en_PP-OCRv3_rec_slim_train/best_accuracy \\\n",
        "  Global.character_dict_path=/content/Smart_menu_OCR/dictionary/ppocr_dict.txt \\\n",
        "  Global.save_model_dir=/content/drive/MyDrive/PPOCR/output/training/rec_ppocrv3 \\\n"
      ]
    },
    {
      "cell_type": "markdown",
      "metadata": {
        "id": "vozunu0Kf31h"
      },
      "source": [
        "#### 5.3.2 Load Trained Model and Continue Training"
      ]
    },
    {
      "cell_type": "code",
      "execution_count": 35,
      "metadata": {
        "id": "nnzfLbAIKyMc"
      },
      "outputs": [],
      "source": [
        "\n",
        "\n",
        "%cd /content/PaddleOCR\n",
        "!python3 tools/train.py \\\n",
        " -c /content/Smart_menu_OCR/configs/rec_ppocrv3.yml \\\n",
        " -o Global.checkpoints=/content/drive/MyDrive/PPOCR/output/training/rec_ppocrv3/latest \\\n",
        "  Global.character_dict_path=/content/Smart_menu_OCR/dictionary/general_dict.txt \\\n",
        "  Global.save_model_dir=/content/drive/MyDrive/PPOCR/output/training/rec_ppocrv3 \\\n",
        "  Global.epoch_num=200 \\\n",
        "  Global.eval_batch_step=[0,2015]"
      ]
    },
    {
      "cell_type": "markdown",
      "metadata": {
        "id": "FxvhqqXi3YIv"
      },
      "source": [
        "# VI. Best_accuracy-Inference và prediction"
      ]
    },
    {
      "cell_type": "code",
      "execution_count": 41,
      "metadata": {
        "colab": {
          "base_uri": "https://localhost:8080/"
        },
        "id": "--Oil0-jn8p6",
        "outputId": "18a36e51-f42d-4b63-8d73-2c9f7702595b"
      },
      "outputs": [
        {
          "name": "stdout",
          "output_type": "stream",
          "text": [
            "/content/Smart_menu_OCR\n",
            "/usr/local/lib/python3.10/dist-packages/paddle/fluid/framework.py:549: UserWarning: You are using GPU version Paddle, but your CUDA device is not set properly. CPU device will be used by default.\n",
            "  warnings.warn(\n",
            "[2023/11/19 12:51:55] ppocr INFO: load pretrain successful from /content/drive/MyDrive/PPOCR/output/training/rec_ppocrv3/latest\n",
            "I1119 12:51:57.927178 11785 interpretercore.cc:237] New Executor is Running.\n",
            "[2023/11/19 12:51:58] ppocr INFO: inference model is saved to /content/drive/MyDrive/PPOCR/output/inference/rec_ppocrv3_model/inference\n"
          ]
        }
      ],
      "source": [
        "\n",
        "%cd /content/Smart_menu_OCR\n",
        "!python3 tools/export_model.py \\\n",
        "-c /content/Smart_menu_OCR/configs/rec_ppocrv3.yml \\\n",
        "-o Global.pretrained_model=/content/drive/MyDrive/PPOCR/output/training/rec_ppocrv3/latest \\\n",
        "Global.character_dict_path=\"/content/Smart_menu_OCR/dictionary/general_dict.txt\" \\\n",
        "Global.save_inference_dir='/content/drive/MyDrive/PPOCR/output/inference/rec_ppocrv3_model'\n"
      ]
    },
    {
      "cell_type": "markdown",
      "metadata": {
        "id": "Els9cfvajyAT"
      },
      "source": [
        "# VII. Inference - ONNX và prediction - code bổ sung (from inference.ipynb)"
      ]
    },
    {
      "cell_type": "code",
      "execution_count": 42,
      "metadata": {
        "colab": {
          "base_uri": "https://localhost:8080/"
        },
        "id": "1S1F0nilkYKe",
        "outputId": "e1719685-4ace-4021-d544-8948c67465e2"
      },
      "outputs": [
        {
          "name": "stdout",
          "output_type": "stream",
          "text": [
            "Requirement already satisfied: paddle2onnx in /usr/local/lib/python3.10/dist-packages (1.1.0)\n",
            "Requirement already satisfied: onnxruntime in /usr/local/lib/python3.10/dist-packages (1.16.2)\n",
            "Requirement already satisfied: coloredlogs in /usr/local/lib/python3.10/dist-packages (from onnxruntime) (15.0.1)\n",
            "Requirement already satisfied: flatbuffers in /usr/local/lib/python3.10/dist-packages (from onnxruntime) (23.5.26)\n",
            "Requirement already satisfied: numpy>=1.21.6 in /usr/local/lib/python3.10/dist-packages (from onnxruntime) (1.23.5)\n",
            "Requirement already satisfied: packaging in /usr/local/lib/python3.10/dist-packages (from onnxruntime) (23.2)\n",
            "Requirement already satisfied: protobuf in /usr/local/lib/python3.10/dist-packages (from onnxruntime) (3.20.3)\n",
            "Requirement already satisfied: sympy in /usr/local/lib/python3.10/dist-packages (from onnxruntime) (1.12)\n",
            "Requirement already satisfied: humanfriendly>=9.1 in /usr/local/lib/python3.10/dist-packages (from coloredlogs->onnxruntime) (10.0)\n",
            "Requirement already satisfied: mpmath>=0.19 in /usr/local/lib/python3.10/dist-packages (from sympy->onnxruntime) (1.3.0)\n",
            "Requirement already satisfied: onnx in /usr/local/lib/python3.10/dist-packages (1.15.0)\n",
            "Requirement already satisfied: numpy in /usr/local/lib/python3.10/dist-packages (from onnx) (1.23.5)\n",
            "Requirement already satisfied: protobuf>=3.20.2 in /usr/local/lib/python3.10/dist-packages (from onnx) (3.20.3)\n"
          ]
        }
      ],
      "source": [
        "# !python3 -m pip install paddle2onnx\n",
        "# !python3 -m pip install onnxruntime==1.9.0\n",
        "# Bug: /bin/bash: line 1: paddle2onnx: command not found\n",
        "!pip install paddle2onnx\n",
        "!pip install onnxruntime\n",
        "!pip install onnx"
      ]
    },
    {
      "cell_type": "code",
      "execution_count": 52,
      "metadata": {
        "colab": {
          "base_uri": "https://localhost:8080/"
        },
        "id": "TmSC6YrvsCSi",
        "outputId": "2c32d8f5-e0a0-48fb-e60c-c3501988b217"
      },
      "outputs": [
        {
          "name": "stdout",
          "output_type": "stream",
          "text": [
            "\u001b[1;31;40m2023-11-19 13:12:00 [WARNING]\t[Deprecated] The flag `--input_shape_dict` is deprecated, if you need to modify the input shape of PaddlePaddle model, please refer to this tool https://github.com/jiangjiajun/PaddleUtils/tree/main/paddle \u001b[0m\n",
            "[Paddle2ONNX] Start to parse PaddlePaddle model...\n",
            "[Paddle2ONNX] Model file path: /content/drive/MyDrive/PPOCR/output/inference/rec_ppocrv3_model/inference.pdmodel\n",
            "[Paddle2ONNX] Paramters file path: /content/drive/MyDrive/PPOCR/output/inference/rec_ppocrv3_model/inference.pdiparams\n",
            "[Paddle2ONNX] Start to parsing Paddle model...\n",
            "[Paddle2ONNX] Use opset_version = 10 for ONNX export.\n",
            "[Paddle2ONNX] PaddlePaddle model is exported as ONNX format now.\n",
            "2023-11-19 13:12:00 [INFO]\t===============Make PaddlePaddle Better!================\n",
            "2023-11-19 13:12:00 [INFO]\tA little survey: https://iwenjuan.baidu.com/?code=r8hu2s\n"
          ]
        }
      ],
      "source": [
        "\n",
        "!paddle2onnx --model_dir /content/drive/MyDrive/PPOCR/output/inference/rec_ppocrv3_model \\\n",
        "--model_filename inference.pdmodel \\\n",
        "--params_filename inference.pdiparams \\\n",
        "--save_file /content/drive/MyDrive/PPOCR/output/onnx_model/rec_ppocrv3_onnx/model_rec.onnx \\\n",
        "--opset_version 10 \\\n",
        "--input_shape_dict=\"{'x':[-1,3,-1,-1]}\" \\\n",
        "--enable_onnx_checker True"
      ]
    },
    {
      "cell_type": "code",
      "execution_count": 71,
      "metadata": {
        "colab": {
          "base_uri": "https://localhost:8080/"
        },
        "id": "AFs-NEVvh5Wx",
        "outputId": "e1b26208-d867-42f0-9c93-5a21e5370693"
      },
      "outputs": [
        {
          "name": "stdout",
          "output_type": "stream",
          "text": [
            "/content/PaddleOCR\n",
            "/usr/local/lib/python3.10/dist-packages/paddle/fluid/framework.py:549: UserWarning: You are using GPU version Paddle, but your CUDA device is not set properly. CPU device will be used by default.\n",
            "  warnings.warn(\n",
            "/usr/local/lib/python3.10/dist-packages/paddle/fluid/framework.py:549: UserWarning: You are using GPU version Paddle, but your CUDA device is not set properly. CPU device will be used by default.\n",
            "  warnings.warn(\n",
            "/usr/local/lib/python3.10/dist-packages/paddle/fluid/framework.py:549: UserWarning: You are using GPU version Paddle, but your CUDA device is not set properly. CPU device will be used by default.\n",
            "  warnings.warn(\n",
            "[2023/11/19 14:09:55] ppocr INFO: In PP-OCRv3, rec_image_shape parameter defaults to '3, 48, 320', if you are using recognition model with PP-OCRv2 or an older version, please set --rec_image_shape='3,32,320\n",
            "[2023/11/19 14:09:55] ppocr DEBUG: dt_boxes num : 3, elapsed : 0.01513528823852539\n",
            "[2023/11/19 14:09:55] ppocr INFO: In PP-OCRv3, rec_image_shape parameter defaults to '3, 48, 320', if you are using recognition model with PP-OCRv2 or an older version, please set --rec_image_shape='3,32,320\n",
            "[2023/11/19 14:09:55] ppocr DEBUG: dt_boxes num : 5, elapsed : 0.0185699462890625\n",
            "[2023/11/19 14:09:56] ppocr DEBUG: rec_res num  : 3, elapsed : 0.9948375225067139\n",
            "[2023/11/19 14:09:56] ppocr DEBUG: 0  Predict time of /content/My_test/Test2/cropped_image_0.8410.jpg: 1.012s\n",
            "[2023/11/19 14:09:56] ppocr DEBUG: PHÔ, 0.903\n",
            "[2023/11/19 14:09:56] ppocr DEBUG: TRÀNG, 0.922\n",
            "[2023/11/19 14:09:56] ppocr DEBUG: GIỀN, 0.749\n",
            "[2023/11/19 14:09:56] ppocr DEBUG: The visualized image saved in /content/My_test/outputTest2/cropped_image_0.8410.jpg\n",
            "[2023/11/19 14:09:56] ppocr DEBUG: dt_boxes num : 4, elapsed : 0.02092576026916504\n",
            "[2023/11/19 14:09:57] ppocr DEBUG: rec_res num  : 5, elapsed : 1.6535975933074951\n",
            "[2023/11/19 14:09:57] ppocr DEBUG: 0  Predict time of /content/My_test/Test2/cropped_image_0.8459.jpg: 1.674s\n",
            "[2023/11/19 14:09:57] ppocr DEBUG: CHÀNG, 0.916\n",
            "[2023/11/19 14:09:57] ppocr DEBUG: H, 0.716\n",
            "[2023/11/19 14:09:57] ppocr DEBUG: PHỐ, 0.999\n",
            "[2023/11/19 14:09:57] ppocr DEBUG: BẠC, 0.999\n",
            "[2023/11/19 14:09:57] ppocr DEBUG: C, 0.987\n",
            "[2023/11/19 14:09:57] ppocr DEBUG: The visualized image saved in /content/My_test/outputTest2/cropped_image_0.8459.jpg\n",
            "[2023/11/19 14:09:57] ppocr DEBUG: dt_boxes num : 5, elapsed : 0.0201723575592041\n",
            "[2023/11/19 14:09:58] ppocr DEBUG: rec_res num  : 4, elapsed : 1.281407117843628\n",
            "[2023/11/19 14:09:58] ppocr DEBUG: 1  Predict time of /content/My_test/Test2/cropped_image_0.8504.jpg: 1.304s\n",
            "[2023/11/19 14:09:58] ppocr DEBUG: PHỐ, 1.000\n",
            "[2023/11/19 14:09:58] ppocr DEBUG: HÀNG, 0.993\n",
            "[2023/11/19 14:09:58] ppocr DEBUG: CHIẾU, 0.999\n",
            "[2023/11/19 14:09:58] ppocr DEBUG: The visualized image saved in /content/My_test/outputTest2/cropped_image_0.8504.jpg\n",
            "[2023/11/19 14:09:58] ppocr DEBUG: dt_boxes num : 4, elapsed : 0.02534031867980957\n",
            "[2023/11/19 14:09:59] ppocr DEBUG: rec_res num  : 5, elapsed : 1.629730463027954\n",
            "[2023/11/19 14:09:59] ppocr DEBUG: 1  Predict time of /content/My_test/Test2/cropped_image_0.8520.jpg: 1.651s\n",
            "[2023/11/19 14:09:59] ppocr DEBUG: PHỐ, 1.000\n",
            "[2023/11/19 14:09:59] ppocr DEBUG: TÔ, 0.990\n",
            "[2023/11/19 14:09:59] ppocr DEBUG: LÝ, 0.989\n",
            "[2023/11/19 14:09:59] ppocr DEBUG: THÁI, 1.000\n",
            "[2023/11/19 14:09:59] ppocr DEBUG: The visualized image saved in /content/My_test/outputTest2/cropped_image_0.8520.jpg\n",
            "[2023/11/19 14:09:59] ppocr DEBUG: dt_boxes num : 2, elapsed : 0.018451452255249023\n",
            "[2023/11/19 14:09:59] ppocr DEBUG: rec_res num  : 4, elapsed : 1.1884846687316895\n",
            "[2023/11/19 14:09:59] ppocr DEBUG: 2  Predict time of /content/My_test/Test2/cropped_image_0.8528.jpg: 1.215s\n",
            "[2023/11/19 14:09:59] ppocr DEBUG: DƯỜNG, 0.988\n",
            "[2023/11/19 14:09:59] ppocr DEBUG: LÊ, 0.999\n",
            "[2023/11/19 14:09:59] ppocr DEBUG: VĂN, 1.000\n",
            "[2023/11/19 14:09:59] ppocr DEBUG: LINH, 1.000\n",
            "[2023/11/19 14:09:59] ppocr DEBUG: The visualized image saved in /content/My_test/outputTest2/cropped_image_0.8528.jpg\n",
            "[2023/11/19 14:09:59] ppocr DEBUG: dt_boxes num : 5, elapsed : 0.024931669235229492\n",
            "[2023/11/19 14:09:59] ppocr DEBUG: rec_res num  : 2, elapsed : 0.6472964286804199\n",
            "[2023/11/19 14:09:59] ppocr DEBUG: 2  Predict time of /content/My_test/Test2/cropped_image_0.8622.jpg: 0.667s\n",
            "[2023/11/19 14:09:59] ppocr DEBUG: QUỐC, 0.732\n",
            "[2023/11/19 14:09:59] ppocr DEBUG: Lộ03, 0.835\n",
            "[2023/11/19 14:09:59] ppocr DEBUG: The visualized image saved in /content/My_test/outputTest2/cropped_image_0.8622.jpg\n",
            "[2023/11/19 14:09:59] ppocr DEBUG: dt_boxes num : 1, elapsed : 0.0059697628021240234\n",
            "[2023/11/19 14:10:00] ppocr DEBUG: rec_res num  : 1, elapsed : 0.26897239685058594\n",
            "[2023/11/19 14:10:00] ppocr DEBUG: 3  Predict time of /content/My_test/Test2/cropped_image_0.8794.jpg: 0.276s\n",
            "[2023/11/19 14:10:00] ppocr DEBUG: LEVÀNDUYỆT, 0.809\n",
            "[2023/11/19 14:10:00] ppocr DEBUG: The visualized image saved in /content/My_test/outputTest2/cropped_image_0.8794.jpg\n",
            "[2023/11/19 14:10:00] ppocr DEBUG: dt_boxes num : 4, elapsed : 0.015235424041748047\n",
            "[2023/11/19 14:10:01] ppocr DEBUG: rec_res num  : 5, elapsed : 1.6986324787139893\n",
            "[2023/11/19 14:10:01] ppocr DEBUG: 3  Predict time of /content/My_test/Test2/cropped_image_0.8782.jpg: 1.726s\n",
            "[2023/11/19 14:10:01] ppocr DEBUG: PHỐ, 0.999\n",
            "[2023/11/19 14:10:01] ppocr DEBUG: THƯỜNG, 0.968\n",
            "[2023/11/19 14:10:01] ppocr DEBUG: KIỆT, 0.998\n",
            "[2023/11/19 14:10:01] ppocr DEBUG: The visualized image saved in /content/My_test/outputTest2/cropped_image_0.8782.jpg\n",
            "[2023/11/19 14:10:01] ppocr DEBUG: dt_boxes num : 3, elapsed : 0.05391287803649902\n",
            "[2023/11/19 14:10:01] ppocr DEBUG: rec_res num  : 4, elapsed : 1.3040051460266113\n",
            "[2023/11/19 14:10:01] ppocr DEBUG: 4  Predict time of /content/My_test/Test2/cropped_image_0.8846.jpg: 1.321s\n",
            "[2023/11/19 14:10:01] ppocr DEBUG: ĐƯỜNG, 0.984\n",
            "[2023/11/19 14:10:01] ppocr DEBUG: KHA, 1.000\n",
            "[2023/11/19 14:10:01] ppocr DEBUG: VẠN, 0.999\n",
            "[2023/11/19 14:10:01] ppocr DEBUG: CÂN, 0.987\n",
            "[2023/11/19 14:10:01] ppocr DEBUG: The visualized image saved in /content/My_test/outputTest2/cropped_image_0.8846.jpg\n",
            "[2023/11/19 14:10:01] ppocr DEBUG: dt_boxes num : 4, elapsed : 0.0653533935546875\n",
            "[2023/11/19 14:10:02] ppocr DEBUG: rec_res num  : 3, elapsed : 0.889625072479248\n",
            "[2023/11/19 14:10:02] ppocr DEBUG: 4  Predict time of /content/My_test/Test2/cropped_image_0.8831.jpg: 0.946s\n",
            "[2023/11/19 14:10:02] ppocr DEBUG: ĐƯỜNG, 0.991\n",
            "[2023/11/19 14:10:02] ppocr DEBUG: NGUYN, 0.994\n",
            "[2023/11/19 14:10:02] ppocr DEBUG: TRÃI, 0.952\n",
            "[2023/11/19 14:10:02] ppocr DEBUG: The visualized image saved in /content/My_test/outputTest2/cropped_image_0.8831.jpg\n",
            "[2023/11/19 14:10:02] ppocr DEBUG: dt_boxes num : 5, elapsed : 0.03526163101196289\n",
            "[2023/11/19 14:10:02] ppocr DEBUG: rec_res num  : 4, elapsed : 1.212780237197876\n",
            "[2023/11/19 14:10:02] ppocr DEBUG: 5  Predict time of /content/My_test/Test2/cropped_image_0.8938.jpg: 1.280s\n",
            "[2023/11/19 14:10:02] ppocr DEBUG: PHỐ, 0.994\n",
            "[2023/11/19 14:10:02] ppocr DEBUG: NGHỊ, 0.999\n",
            "[2023/11/19 14:10:02] ppocr DEBUG: LÊ, 0.927\n",
            "[2023/11/19 14:10:02] ppocr DEBUG: THANH, 1.000\n",
            "[2023/11/19 14:10:02] ppocr DEBUG: The visualized image saved in /content/My_test/outputTest2/cropped_image_0.8938.jpg\n",
            "[2023/11/19 14:10:02] ppocr INFO: The predict total time is 6.953837633132935\n",
            "[2023/11/19 14:10:03] ppocr DEBUG: rec_res num  : 5, elapsed : 1.578401803970337\n",
            "[2023/11/19 14:10:03] ppocr DEBUG: 5  Predict time of /content/My_test/Test2/cropped_image_0.8892.jpg: 1.615s\n",
            "[2023/11/19 14:10:03] ppocr DEBUG: ĐƯỜNG, 1.000\n",
            "[2023/11/19 14:10:03] ppocr DEBUG: LÝ, 0.997\n",
            "[2023/11/19 14:10:03] ppocr DEBUG: THÁI, 1.000\n",
            "[2023/11/19 14:10:03] ppocr DEBUG: TỔ, 0.995\n",
            "[2023/11/19 14:10:03] ppocr DEBUG: The visualized image saved in /content/My_test/outputTest2/cropped_image_0.8892.jpg\n",
            "[2023/11/19 14:10:03] ppocr INFO: The predict total time is 7.912457466125488\n"
          ]
        }
      ],
      "source": [
        "\n",
        "\n",
        "%cd /content/PaddleOCR\n",
        "\n",
        "!python3 tools/infer/predict_system.py --use_gpu=True --use_onnx=True --drop_score=0.7\\\n",
        "--det_algorithm=\"DB\" --use_mp=True --total_process_num=2 \\\n",
        "--image_dir='/content/My_test/Test2' \\\n",
        "--det_model_dir=/content/Smart_menu_OCR/models/model_det.onnx  \\\n",
        "--rec_model_dir=/content/drive/MyDrive/PPOCR/output/onnx_model/rec_ppocrv3_onnx/model_rec.onnx \\\n",
        "--rec_char_dict_path=\"/content/Smart_menu_OCR/dictionary/general_dict.txt\" \\\n",
        "--draw_img_save_dir='/content/My_test/outputTest2' \\\n",
        "--vis_font_path='/content/PaddleOCR/doc/fonts/latin.ttf'"
      ]
    }
  ],
  "metadata": {
    "colab": {
      "collapsed_sections": [
        "8J4jr82m6dpu"
      ],
      "provenance": [],
      "toc_visible": true
    },
    "kernelspec": {
      "display_name": "Python 3",
      "name": "python3"
    },
    "language_info": {
      "name": "python"
    }
  },
  "nbformat": 4,
  "nbformat_minor": 0
}
