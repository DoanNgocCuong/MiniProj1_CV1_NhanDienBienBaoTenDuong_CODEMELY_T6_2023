{
  "cells": [
    {
      "cell_type": "markdown",
      "metadata": {
        "id": "yAmSR1FaqKrl"
      },
      "source": [
        "## Setup"
      ]
    },
    {
      "cell_type": "code",
      "execution_count": null,
      "metadata": {
        "id": "DGFTkuRvzWqc",
        "colab": {
          "base_uri": "https://localhost:8080/"
        },
        "outputId": "c3521a1e-45d4-4486-a264-0d68a3b72839"
      },
      "outputs": [
        {
          "output_type": "stream",
          "name": "stdout",
          "text": [
            "Looking in indexes: https://pypi.org/simple, https://us-python.pkg.dev/colab-wheels/public/simple/\n",
            "Requirement already satisfied: tensorflow-text==2.8.* in /usr/local/lib/python3.7/dist-packages (2.8.2)\n",
            "Requirement already satisfied: tensorflow-hub>=0.8.0 in /usr/local/lib/python3.7/dist-packages (from tensorflow-text==2.8.*) (0.12.0)\n",
            "Requirement already satisfied: tensorflow<2.9,>=2.8.0 in /usr/local/lib/python3.7/dist-packages (from tensorflow-text==2.8.*) (2.8.2+zzzcolab20220719082949)\n",
            "Requirement already satisfied: grpcio<2.0,>=1.24.3 in /usr/local/lib/python3.7/dist-packages (from tensorflow<2.9,>=2.8.0->tensorflow-text==2.8.*) (1.47.0)\n",
            "Requirement already satisfied: tensorflow-io-gcs-filesystem>=0.23.1 in /usr/local/lib/python3.7/dist-packages (from tensorflow<2.9,>=2.8.0->tensorflow-text==2.8.*) (0.26.0)\n",
            "Requirement already satisfied: setuptools in /usr/local/lib/python3.7/dist-packages (from tensorflow<2.9,>=2.8.0->tensorflow-text==2.8.*) (57.4.0)\n",
            "Requirement already satisfied: protobuf<3.20,>=3.9.2 in /usr/local/lib/python3.7/dist-packages (from tensorflow<2.9,>=2.8.0->tensorflow-text==2.8.*) (3.17.3)\n",
            "Requirement already satisfied: keras<2.9,>=2.8.0rc0 in /usr/local/lib/python3.7/dist-packages (from tensorflow<2.9,>=2.8.0->tensorflow-text==2.8.*) (2.8.0)\n",
            "Requirement already satisfied: libclang>=9.0.1 in /usr/local/lib/python3.7/dist-packages (from tensorflow<2.9,>=2.8.0->tensorflow-text==2.8.*) (14.0.6)\n",
            "Requirement already satisfied: termcolor>=1.1.0 in /usr/local/lib/python3.7/dist-packages (from tensorflow<2.9,>=2.8.0->tensorflow-text==2.8.*) (1.1.0)\n",
            "Requirement already satisfied: astunparse>=1.6.0 in /usr/local/lib/python3.7/dist-packages (from tensorflow<2.9,>=2.8.0->tensorflow-text==2.8.*) (1.6.3)\n",
            "Requirement already satisfied: typing-extensions>=3.6.6 in /usr/local/lib/python3.7/dist-packages (from tensorflow<2.9,>=2.8.0->tensorflow-text==2.8.*) (4.1.1)\n",
            "Requirement already satisfied: tensorboard<2.9,>=2.8 in /usr/local/lib/python3.7/dist-packages (from tensorflow<2.9,>=2.8.0->tensorflow-text==2.8.*) (2.8.0)\n",
            "Requirement already satisfied: numpy>=1.20 in /usr/local/lib/python3.7/dist-packages (from tensorflow<2.9,>=2.8.0->tensorflow-text==2.8.*) (1.21.6)\n",
            "Requirement already satisfied: six>=1.12.0 in /usr/local/lib/python3.7/dist-packages (from tensorflow<2.9,>=2.8.0->tensorflow-text==2.8.*) (1.15.0)\n",
            "Requirement already satisfied: h5py>=2.9.0 in /usr/local/lib/python3.7/dist-packages (from tensorflow<2.9,>=2.8.0->tensorflow-text==2.8.*) (3.1.0)\n",
            "Requirement already satisfied: opt-einsum>=2.3.2 in /usr/local/lib/python3.7/dist-packages (from tensorflow<2.9,>=2.8.0->tensorflow-text==2.8.*) (3.3.0)\n",
            "Requirement already satisfied: gast>=0.2.1 in /usr/local/lib/python3.7/dist-packages (from tensorflow<2.9,>=2.8.0->tensorflow-text==2.8.*) (0.5.3)\n",
            "Requirement already satisfied: absl-py>=0.4.0 in /usr/local/lib/python3.7/dist-packages (from tensorflow<2.9,>=2.8.0->tensorflow-text==2.8.*) (1.2.0)\n",
            "Requirement already satisfied: flatbuffers>=1.12 in /usr/local/lib/python3.7/dist-packages (from tensorflow<2.9,>=2.8.0->tensorflow-text==2.8.*) (2.0)\n",
            "Requirement already satisfied: google-pasta>=0.1.1 in /usr/local/lib/python3.7/dist-packages (from tensorflow<2.9,>=2.8.0->tensorflow-text==2.8.*) (0.2.0)\n",
            "Requirement already satisfied: keras-preprocessing>=1.1.1 in /usr/local/lib/python3.7/dist-packages (from tensorflow<2.9,>=2.8.0->tensorflow-text==2.8.*) (1.1.2)\n",
            "Requirement already satisfied: tensorflow-estimator<2.9,>=2.8 in /usr/local/lib/python3.7/dist-packages (from tensorflow<2.9,>=2.8.0->tensorflow-text==2.8.*) (2.8.0)\n",
            "Requirement already satisfied: wrapt>=1.11.0 in /usr/local/lib/python3.7/dist-packages (from tensorflow<2.9,>=2.8.0->tensorflow-text==2.8.*) (1.14.1)\n",
            "Requirement already satisfied: wheel<1.0,>=0.23.0 in /usr/local/lib/python3.7/dist-packages (from astunparse>=1.6.0->tensorflow<2.9,>=2.8.0->tensorflow-text==2.8.*) (0.37.1)\n",
            "Requirement already satisfied: cached-property in /usr/local/lib/python3.7/dist-packages (from h5py>=2.9.0->tensorflow<2.9,>=2.8.0->tensorflow-text==2.8.*) (1.5.2)\n",
            "Requirement already satisfied: markdown>=2.6.8 in /usr/local/lib/python3.7/dist-packages (from tensorboard<2.9,>=2.8->tensorflow<2.9,>=2.8.0->tensorflow-text==2.8.*) (3.4.1)\n",
            "Requirement already satisfied: requests<3,>=2.21.0 in /usr/local/lib/python3.7/dist-packages (from tensorboard<2.9,>=2.8->tensorflow<2.9,>=2.8.0->tensorflow-text==2.8.*) (2.23.0)\n",
            "Requirement already satisfied: tensorboard-plugin-wit>=1.6.0 in /usr/local/lib/python3.7/dist-packages (from tensorboard<2.9,>=2.8->tensorflow<2.9,>=2.8.0->tensorflow-text==2.8.*) (1.8.1)\n",
            "Requirement already satisfied: tensorboard-data-server<0.7.0,>=0.6.0 in /usr/local/lib/python3.7/dist-packages (from tensorboard<2.9,>=2.8->tensorflow<2.9,>=2.8.0->tensorflow-text==2.8.*) (0.6.1)\n",
            "Requirement already satisfied: google-auth-oauthlib<0.5,>=0.4.1 in /usr/local/lib/python3.7/dist-packages (from tensorboard<2.9,>=2.8->tensorflow<2.9,>=2.8.0->tensorflow-text==2.8.*) (0.4.6)\n",
            "Requirement already satisfied: werkzeug>=0.11.15 in /usr/local/lib/python3.7/dist-packages (from tensorboard<2.9,>=2.8->tensorflow<2.9,>=2.8.0->tensorflow-text==2.8.*) (1.0.1)\n",
            "Requirement already satisfied: google-auth<3,>=1.6.3 in /usr/local/lib/python3.7/dist-packages (from tensorboard<2.9,>=2.8->tensorflow<2.9,>=2.8.0->tensorflow-text==2.8.*) (1.35.0)\n",
            "Requirement already satisfied: cachetools<5.0,>=2.0.0 in /usr/local/lib/python3.7/dist-packages (from google-auth<3,>=1.6.3->tensorboard<2.9,>=2.8->tensorflow<2.9,>=2.8.0->tensorflow-text==2.8.*) (4.2.4)\n",
            "Requirement already satisfied: rsa<5,>=3.1.4 in /usr/local/lib/python3.7/dist-packages (from google-auth<3,>=1.6.3->tensorboard<2.9,>=2.8->tensorflow<2.9,>=2.8.0->tensorflow-text==2.8.*) (4.9)\n",
            "Requirement already satisfied: pyasn1-modules>=0.2.1 in /usr/local/lib/python3.7/dist-packages (from google-auth<3,>=1.6.3->tensorboard<2.9,>=2.8->tensorflow<2.9,>=2.8.0->tensorflow-text==2.8.*) (0.2.8)\n",
            "Requirement already satisfied: requests-oauthlib>=0.7.0 in /usr/local/lib/python3.7/dist-packages (from google-auth-oauthlib<0.5,>=0.4.1->tensorboard<2.9,>=2.8->tensorflow<2.9,>=2.8.0->tensorflow-text==2.8.*) (1.3.1)\n",
            "Requirement already satisfied: importlib-metadata>=4.4 in /usr/local/lib/python3.7/dist-packages (from markdown>=2.6.8->tensorboard<2.9,>=2.8->tensorflow<2.9,>=2.8.0->tensorflow-text==2.8.*) (4.12.0)\n",
            "Requirement already satisfied: zipp>=0.5 in /usr/local/lib/python3.7/dist-packages (from importlib-metadata>=4.4->markdown>=2.6.8->tensorboard<2.9,>=2.8->tensorflow<2.9,>=2.8.0->tensorflow-text==2.8.*) (3.8.1)\n",
            "Requirement already satisfied: pyasn1<0.5.0,>=0.4.6 in /usr/local/lib/python3.7/dist-packages (from pyasn1-modules>=0.2.1->google-auth<3,>=1.6.3->tensorboard<2.9,>=2.8->tensorflow<2.9,>=2.8.0->tensorflow-text==2.8.*) (0.4.8)\n",
            "Requirement already satisfied: chardet<4,>=3.0.2 in /usr/local/lib/python3.7/dist-packages (from requests<3,>=2.21.0->tensorboard<2.9,>=2.8->tensorflow<2.9,>=2.8.0->tensorflow-text==2.8.*) (3.0.4)\n",
            "Requirement already satisfied: urllib3!=1.25.0,!=1.25.1,<1.26,>=1.21.1 in /usr/local/lib/python3.7/dist-packages (from requests<3,>=2.21.0->tensorboard<2.9,>=2.8->tensorflow<2.9,>=2.8.0->tensorflow-text==2.8.*) (1.24.3)\n",
            "Requirement already satisfied: certifi>=2017.4.17 in /usr/local/lib/python3.7/dist-packages (from requests<3,>=2.21.0->tensorboard<2.9,>=2.8->tensorflow<2.9,>=2.8.0->tensorflow-text==2.8.*) (2022.6.15)\n",
            "Requirement already satisfied: idna<3,>=2.5 in /usr/local/lib/python3.7/dist-packages (from requests<3,>=2.21.0->tensorboard<2.9,>=2.8->tensorflow<2.9,>=2.8.0->tensorflow-text==2.8.*) (2.10)\n",
            "Requirement already satisfied: oauthlib>=3.0.0 in /usr/local/lib/python3.7/dist-packages (from requests-oauthlib>=0.7.0->google-auth-oauthlib<0.5,>=0.4.1->tensorboard<2.9,>=2.8->tensorflow<2.9,>=2.8.0->tensorflow-text==2.8.*) (3.2.0)\n"
          ]
        }
      ],
      "source": [
        "!pip install \"tensorflow-text==2.8.*\""
      ]
    },
    {
      "cell_type": "code",
      "execution_count": null,
      "metadata": {
        "id": "tnxXKDjq3jEL"
      },
      "outputs": [],
      "source": [
        "import numpy as np\n",
        "\n",
        "import typing\n",
        "from typing import Any, Tuple\n",
        "import os\n",
        "\n",
        "import tensorflow as tf\n",
        "\n",
        "import tensorflow_text as tf_text\n",
        "\n",
        "import matplotlib.pyplot as plt\n",
        "import matplotlib.ticker as ticker"
      ]
    },
    {
      "cell_type": "code",
      "source": [
        "!gdown --id 1fvjtZxFxls4KSQtoplP_Xoq-5OsEM7on\n",
        "!gdown --id 1zwSQE4s_vrY0q7dQWAvcBvLC6wfv3OBx"
      ],
      "metadata": {
        "colab": {
          "base_uri": "https://localhost:8080/"
        },
        "id": "7lnXxvLaazBF",
        "outputId": "053a9224-cae8-4fb0-9589-136af9b3557b"
      },
      "execution_count": null,
      "outputs": [
        {
          "output_type": "stream",
          "name": "stdout",
          "text": [
            "/usr/local/lib/python3.7/dist-packages/gdown/cli.py:131: FutureWarning: Option `--id` was deprecated in version 4.3.1 and will be removed in 5.0. You don't need to pass it anymore to use a file ID.\n",
            "  category=FutureWarning,\n",
            "Downloading...\n",
            "From: https://drive.google.com/uc?id=1fvjtZxFxls4KSQtoplP_Xoq-5OsEM7on\n",
            "To: /content/food_en_dict.txt\n",
            "100% 336k/336k [00:00<00:00, 118MB/s]\n",
            "/usr/local/lib/python3.7/dist-packages/gdown/cli.py:131: FutureWarning: Option `--id` was deprecated in version 4.3.1 and will be removed in 5.0. You don't need to pass it anymore to use a file ID.\n",
            "  category=FutureWarning,\n",
            "Downloading...\n",
            "From: https://drive.google.com/uc?id=1zwSQE4s_vrY0q7dQWAvcBvLC6wfv3OBx\n",
            "To: /content/food_vn_dict.txt\n",
            "100% 334k/334k [00:00<00:00, 85.5MB/s]\n"
          ]
        }
      ]
    },
    {
      "cell_type": "code",
      "source": [
        "def load_data(path):\n",
        "    \"\"\"\n",
        "    Load dataset\n",
        "    \"\"\"\n",
        "    input_file = os.path.join(path)\n",
        "    with open(input_file, encoding=\"utf-8\", mode='rt') as f:\n",
        "        data = f.read()\n",
        "\n",
        "    return data.split('\\n')"
      ],
      "metadata": {
        "id": "ypKjrUera8K1"
      },
      "execution_count": null,
      "outputs": []
    },
    {
      "cell_type": "code",
      "execution_count": null,
      "metadata": {
        "id": "cTbSbBz55QtF"
      },
      "outputs": [],
      "source": [
        "targ = load_data(\"/content/food_en_dict.txt\")\n",
        "inp = load_data(\"/content/food_vn_dict.txt\")"
      ]
    },
    {
      "cell_type": "code",
      "execution_count": null,
      "metadata": {
        "id": "lH_dPY8TRp3c",
        "colab": {
          "base_uri": "https://localhost:8080/"
        },
        "outputId": "801fb504-8724-447c-ff66-2f1872997935"
      },
      "outputs": [
        {
          "output_type": "stream",
          "name": "stdout",
          "text": [
            "\n"
          ]
        }
      ],
      "source": [
        "print(inp[-1])"
      ]
    },
    {
      "cell_type": "markdown",
      "metadata": {
        "id": "rgCLkfv5uO3d"
      },
      "source": [
        "### Create a tf.data dataset"
      ]
    },
    {
      "cell_type": "code",
      "execution_count": null,
      "metadata": {
        "id": "TqHsArVZ3jFS"
      },
      "outputs": [],
      "source": [
        "BUFFER_SIZE = len(inp)\n",
        "BATCH_SIZE = 512\n",
        "\n",
        "dataset = tf.data.Dataset.from_tensor_slices((inp, targ)).shuffle(BUFFER_SIZE)\n",
        "dataset = dataset.batch(BATCH_SIZE)"
      ]
    },
    {
      "cell_type": "code",
      "execution_count": null,
      "metadata": {
        "id": "qc6-NK1GtWQt",
        "colab": {
          "base_uri": "https://localhost:8080/"
        },
        "outputId": "66a3eede-5dd2-4418-af7c-ef84194a7859"
      },
      "outputs": [
        {
          "output_type": "stream",
          "name": "stdout",
          "text": [
            "tf.Tensor(\n",
            "[b'sashimi tr\\xe1\\xbb\\xa9ng t\\xc3\\xb4m'\n",
            " b'c\\xc6\\xa1m chi\\xc3\\xaan mu\\xe1\\xbb\\x91i \\xe1\\xbb\\x9bt'\n",
            " b'\\xe1\\xba\\xbfch + x\\xc3\\xb4i'\n",
            " b'b\\xc3\\xb2 cu\\xe1\\xbb\\x99n kim ch\\xc3\\xa2m' b'udon t\\xc3\\xb4m tempura'], shape=(5,), dtype=string)\n",
            "\n",
            "tf.Tensor(\n",
            "[b'ebiko masago' b'fried rice salt chilly' b'frog + sticky rice'\n",
            " b'beef and enoki mushroom rolls' b'shrimp tempura udon'], shape=(5,), dtype=string)\n"
          ]
        }
      ],
      "source": [
        "for example_input_batch, example_target_batch in dataset.take(1):\n",
        "  print(example_input_batch[:5])\n",
        "  print()\n",
        "  print(example_target_batch[:5])\n",
        "  break"
      ]
    },
    {
      "cell_type": "markdown",
      "metadata": {
        "id": "zCoxLcuN3bwv"
      },
      "source": [
        "### Text preprocessing"
      ]
    },
    {
      "cell_type": "code",
      "execution_count": null,
      "metadata": {
        "id": "chTF5N885F0P"
      },
      "outputs": [],
      "source": [
        "def tf_lower_and_split_punct(text):\n",
        "  # Split accented characters.\n",
        "  text = tf_text.normalize_utf8(text, 'NFKD')\n",
        "  text = tf.strings.lower(text)\n",
        "  # Keep space, a to z, and select punctuation.\n",
        "  text = tf.strings.regex_replace(text, '[^ a-z.?!,¿]', '')\n",
        "  # Add spaces around punctuation.\n",
        "  text = tf.strings.regex_replace(text, '[.?!,¿]', r' \\0 ')\n",
        "  # Strip whitespace.\n",
        "  text = tf.strings.strip(text)\n",
        "\n",
        "  text = tf.strings.join(['[START]', text, '[END]'], separator=' ')\n",
        "  return text"
      ]
    },
    {
      "cell_type": "code",
      "execution_count": null,
      "metadata": {
        "id": "UREvDg3sEKYa",
        "colab": {
          "base_uri": "https://localhost:8080/"
        },
        "outputId": "fe5f969e-d0f3-42e3-af13-790cf18be51c"
      },
      "outputs": [
        {
          "output_type": "stream",
          "name": "stdout",
          "text": [
            "¿Todavía está en casa?\n",
            "[START] ¿ todavia esta en casa ? [END]\n"
          ]
        }
      ],
      "source": [
        "print(example_text.numpy().decode())\n",
        "print(tf_lower_and_split_punct(example_text).numpy().decode())"
      ]
    },
    {
      "cell_type": "markdown",
      "metadata": {
        "id": "4q-sKsSI7xRZ"
      },
      "source": [
        "#### Text Vectorization"
      ]
    },
    {
      "cell_type": "code",
      "execution_count": null,
      "metadata": {
        "id": "eAY9k49G3jE_"
      },
      "outputs": [],
      "source": [
        "max_vocab_size = 5000\n",
        "\n",
        "input_text_processor = tf.keras.layers.TextVectorization(\n",
        "    standardize=tf_lower_and_split_punct,\n",
        "    max_tokens=max_vocab_size)"
      ]
    },
    {
      "cell_type": "code",
      "execution_count": null,
      "metadata": {
        "id": "bmsI1Yql8FYe",
        "colab": {
          "base_uri": "https://localhost:8080/"
        },
        "outputId": "3881ea45-cf8f-4384-fadf-4ae6710c34bb"
      },
      "outputs": [
        {
          "output_type": "execute_result",
          "data": {
            "text/plain": [
              "['', '[UNK]', '[START]', '[END]', 'ca', 'tra', 'bo', 'sua', 'nuong', 'chien']"
            ]
          },
          "metadata": {},
          "execution_count": 17
        }
      ],
      "source": [
        "input_text_processor.adapt(inp)\n",
        "\n",
        "# Here are the first 10 words from the vocabulary:\n",
        "input_text_processor.get_vocabulary()[:10]"
      ]
    },
    {
      "cell_type": "markdown",
      "metadata": {
        "id": "9kGjIFjX8_Wp"
      },
      "source": [
        "That's the Spanish `TextVectorization` layer, now build and `.adapt()` the English one:"
      ]
    },
    {
      "cell_type": "code",
      "execution_count": null,
      "metadata": {
        "id": "jlC4xuZnKLBS",
        "colab": {
          "base_uri": "https://localhost:8080/"
        },
        "outputId": "037a8619-0638-4a8f-8154-a8d4075c3c39"
      },
      "outputs": [
        {
          "output_type": "execute_result",
          "data": {
            "text/plain": [
              "['',\n",
              " '[UNK]',\n",
              " '[START]',\n",
              " '[END]',\n",
              " 'with',\n",
              " 'fried',\n",
              " 'tea',\n",
              " 'grilled',\n",
              " 'rice',\n",
              " 'milk']"
            ]
          },
          "metadata": {},
          "execution_count": 18
        }
      ],
      "source": [
        "output_text_processor = tf.keras.layers.TextVectorization(\n",
        "    standardize=tf_lower_and_split_punct,\n",
        "    max_tokens=max_vocab_size)\n",
        "\n",
        "output_text_processor.adapt(targ)\n",
        "output_text_processor.get_vocabulary()[:10]"
      ]
    },
    {
      "cell_type": "markdown",
      "metadata": {
        "id": "BWQqlP_s9eIv"
      },
      "source": [
        "Now these layers can convert a batch of strings into a batch of token IDs:"
      ]
    },
    {
      "cell_type": "code",
      "execution_count": null,
      "metadata": {
        "id": "9KZxj8IrNZ9S",
        "colab": {
          "base_uri": "https://localhost:8080/"
        },
        "outputId": "d5a9e7ab-a622-4d36-ec45-3f50e2cc9966"
      },
      "outputs": [
        {
          "output_type": "execute_result",
          "data": {
            "text/plain": [
              "<tf.Tensor: shape=(3, 10), dtype=int64, numpy=\n",
              "array([[  2, 102,  15,  12,   3,   0,   0,   0,   0,   0],\n",
              "       [  2,  13,   9,  20,  42,   3,   0,   0,   0,   0],\n",
              "       [  2,  76, 274,   3,   0,   0,   0,   0,   0,   0]])>"
            ]
          },
          "metadata": {},
          "execution_count": 19
        }
      ],
      "source": [
        "example_tokens = input_text_processor(example_input_batch)\n",
        "example_tokens[:3, :10]"
      ]
    },
    {
      "cell_type": "markdown",
      "metadata": {
        "id": "AA9rUn9G9n78"
      },
      "source": [
        "The `get_vocabulary` method can be used to convert token IDs back to text:"
      ]
    },
    {
      "cell_type": "code",
      "execution_count": null,
      "metadata": {
        "id": "98g9rcxGQY0I",
        "colab": {
          "base_uri": "https://localhost:8080/",
          "height": 36
        },
        "outputId": "e7e2d7e2-77f6-4df5-e776-f0e2a7054ed7"
      },
      "outputs": [
        {
          "output_type": "execute_result",
          "data": {
            "text/plain": [
              "'[START] sashimi trung tom [END]        '"
            ],
            "application/vnd.google.colaboratory.intrinsic+json": {
              "type": "string"
            }
          },
          "metadata": {},
          "execution_count": 20
        }
      ],
      "source": [
        "input_vocab = np.array(input_text_processor.get_vocabulary())\n",
        "tokens = input_vocab[example_tokens[0].numpy()]\n",
        "' '.join(tokens)"
      ]
    },
    {
      "cell_type": "markdown",
      "metadata": {
        "id": "Ot0aCL9t-Ghi"
      },
      "source": [
        "The returned token IDs are zero-padded. This can easily be turned into a mask:"
      ]
    },
    {
      "cell_type": "code",
      "execution_count": null,
      "metadata": {
        "id": "_jx4Or_eFRSz",
        "colab": {
          "base_uri": "https://localhost:8080/",
          "height": 298
        },
        "outputId": "f6305cb8-5ff1-4d08-a96c-ea573442e377"
      },
      "outputs": [
        {
          "output_type": "execute_result",
          "data": {
            "text/plain": [
              "Text(0.5, 1.0, 'Mask')"
            ]
          },
          "metadata": {},
          "execution_count": 21
        },
        {
          "output_type": "display_data",
          "data": {
            "text/plain": [
              "<Figure size 432x288 with 2 Axes>"
            ],
            "image/png": "[encoded data removed]"
          },
          "metadata": {
            "needs_background": "light"
          }
        }
      ],
      "source": [
        "plt.subplot(1, 2, 1)\n",
        "plt.pcolormesh(example_tokens)\n",
        "plt.title('Token IDs')\n",
        "\n",
        "plt.subplot(1, 2, 2)\n",
        "plt.pcolormesh(example_tokens != 0)\n",
        "plt.title('Mask')"
      ]
    },
    {
      "cell_type": "markdown",
      "metadata": {
        "id": "TNfHIF71ulLu"
      },
      "source": [
        "## The encoder/decoder model\n",
        "\n",
        "The following diagram shows an overview of the model. At each time-step the decoder's output is combined with a weighted sum over the encoded input, to predict the next word. The diagram and formulas are from [Luong's paper](https://arxiv.org/abs/1508.04025v5).\n",
        "\n",
        "<img src=\"https://www.tensorflow.org/images/seq2seq/attention_mechanism.jpg\" width=\"500\" alt=\"attention mechanism\">\n"
      ]
    },
    {
      "cell_type": "markdown",
      "metadata": {
        "id": "gzQWx2saImMV"
      },
      "source": [
        "Before getting into it define a few constants for the model:"
      ]
    },
    {
      "cell_type": "code",
      "execution_count": null,
      "metadata": {
        "id": "_a9uNz3-IrF-"
      },
      "outputs": [],
      "source": [
        "embedding_dim = 256\n",
        "units = 1024"
      ]
    },
    {
      "cell_type": "markdown",
      "metadata": {
        "id": "blNgVbLSzpsr"
      },
      "source": [
        "###  encoder\n",
        "\n"
      ]
    },
    {
      "cell_type": "code",
      "execution_count": null,
      "metadata": {
        "id": "nZ2rI24i3jFg"
      },
      "outputs": [],
      "source": [
        "class Encoder(tf.keras.layers.Layer):\n",
        "  def __init__(self, input_vocab_size, embedding_dim, enc_units):\n",
        "    super(Encoder, self).__init__()\n",
        "    self.enc_units = enc_units\n",
        "    self.input_vocab_size = input_vocab_size\n",
        "\n",
        "    # The embedding layer converts tokens to vectors\n",
        "    self.embedding = tf.keras.layers.Embedding(self.input_vocab_size,\n",
        "                                               embedding_dim)\n",
        "\n",
        "    # The GRU RNN layer processes those vectors sequentially.\n",
        "    self.gru = tf.keras.layers.GRU(self.enc_units,\n",
        "                                   # Return the sequence and state\n",
        "                                   return_sequences=True,\n",
        "                                   return_state=True,\n",
        "                                   recurrent_initializer='glorot_uniform')\n",
        "\n",
        "  def call(self, tokens, state=None):\n",
        "    shape_checker = ShapeChecker()\n",
        "    shape_checker(tokens, ('batch', 's'))\n",
        "\n",
        "    # 2. The embedding layer looks up the embedding for each token.\n",
        "    vectors = self.embedding(tokens)\n",
        "    shape_checker(vectors, ('batch', 's', 'embed_dim'))\n",
        "\n",
        "    # 3. The GRU processes the embedding sequence.\n",
        "    #    output shape: (batch, s, enc_units)\n",
        "    #    state shape: (batch, enc_units)\n",
        "    output, state = self.gru(vectors, initial_state=state)\n",
        "    shape_checker(output, ('batch', 's', 'enc_units'))\n",
        "    shape_checker(state, ('batch', 'enc_units'))\n",
        "\n",
        "    # 4. Returns the new sequence and its state.\n",
        "    return output, state"
      ]
    },
    {
      "cell_type": "markdown",
      "metadata": {
        "id": "D3SKkaQeGn-Q"
      },
      "source": [
        "Here is how it fits together so far:"
      ]
    },
    {
      "cell_type": "code",
      "execution_count": null,
      "metadata": {
        "id": "60gSVh05Jl6l",
        "colab": {
          "base_uri": "https://localhost:8080/"
        },
        "outputId": "70c25ef7-2d62-496f-9d5f-7daeb7c43b6f"
      },
      "outputs": [
        {
          "output_type": "stream",
          "name": "stdout",
          "text": [
            "Input batch, shape (batch): (512,)\n",
            "Input batch tokens, shape (batch, s): (512, 13)\n",
            "Encoder output, shape (batch, s, units): (512, 13, 1024)\n",
            "Encoder state, shape (batch, units): (512, 1024)\n"
          ]
        }
      ],
      "source": [
        "# Convert the input text to tokens.\n",
        "example_tokens = input_text_processor(example_input_batch)\n",
        "\n",
        "# Encode the input sequence.\n",
        "encoder = Encoder(input_text_processor.vocabulary_size(),\n",
        "                  embedding_dim, units)\n",
        "example_enc_output, example_enc_state = encoder(example_tokens)\n",
        "\n",
        "print(f'Input batch, shape (batch): {example_input_batch.shape}')\n",
        "print(f'Input batch tokens, shape (batch, s): {example_tokens.shape}')\n",
        "print(f'Encoder output, shape (batch, s, units): {example_enc_output.shape}')\n",
        "print(f'Encoder state, shape (batch, units): {example_enc_state.shape}')"
      ]
    },
    {
      "cell_type": "markdown",
      "metadata": {
        "id": "45xM_Gl1MgXY"
      },
      "source": [
        "### The attention"
      ]
    },
    {
      "cell_type": "code",
      "execution_count": null,
      "metadata": {
        "id": "momiE59lXo6U"
      },
      "outputs": [],
      "source": [
        "class BahdanauAttention(tf.keras.layers.Layer):\n",
        "  def __init__(self, units):\n",
        "    super().__init__()\n",
        "    # For Eqn. (4), the  Bahdanau attention\n",
        "    self.W1 = tf.keras.layers.Dense(units, use_bias=False)\n",
        "    self.W2 = tf.keras.layers.Dense(units, use_bias=False)\n",
        "\n",
        "    self.attention = tf.keras.layers.AdditiveAttention()\n",
        "\n",
        "  def call(self, query, value, mask):\n",
        "    shape_checker = ShapeChecker()\n",
        "    shape_checker(query, ('batch', 't', 'query_units'))\n",
        "    shape_checker(value, ('batch', 's', 'value_units'))\n",
        "    shape_checker(mask, ('batch', 's'))\n",
        "\n",
        "    # From Eqn. (4), `W1@ht`.\n",
        "    w1_query = self.W1(query)\n",
        "    shape_checker(w1_query, ('batch', 't', 'attn_units'))\n",
        "\n",
        "    # From Eqn. (4), `W2@hs`.\n",
        "    w2_key = self.W2(value)\n",
        "    shape_checker(w2_key, ('batch', 's', 'attn_units'))\n",
        "\n",
        "    query_mask = tf.ones(tf.shape(query)[:-1], dtype=bool)\n",
        "    value_mask = mask\n",
        "\n",
        "    context_vector, attention_weights = self.attention(\n",
        "        inputs = [w1_query, value, w2_key],\n",
        "        mask=[query_mask, value_mask],\n",
        "        return_attention_scores = True,\n",
        "    )\n",
        "    shape_checker(context_vector, ('batch', 't', 'value_units'))\n",
        "    shape_checker(attention_weights, ('batch', 't', 's'))\n",
        "\n",
        "    return context_vector, attention_weights"
      ]
    },
    {
      "cell_type": "markdown",
      "metadata": {
        "id": "Cf13LubPGjDO"
      },
      "source": [
        "### Test the Attention layer\n",
        "\n",
        "Create a `BahdanauAttention` layer:"
      ]
    },
    {
      "cell_type": "code",
      "execution_count": null,
      "metadata": {
        "id": "t4QMlOp8Gidh"
      },
      "outputs": [],
      "source": [
        "attention_layer = BahdanauAttention(units)"
      ]
    },
    {
      "cell_type": "code",
      "execution_count": null,
      "metadata": {
        "id": "DYSHqmORgVFo",
        "colab": {
          "base_uri": "https://localhost:8080/"
        },
        "outputId": "9153ec06-4ac0-45c3-b6b8-c2b91c572b77"
      },
      "outputs": [
        {
          "output_type": "execute_result",
          "data": {
            "text/plain": [
              "TensorShape([512, 13])"
            ]
          },
          "metadata": {},
          "execution_count": 27
        }
      ],
      "source": [
        "(example_tokens != 0).shape"
      ]
    },
    {
      "cell_type": "code",
      "execution_count": null,
      "metadata": {
        "id": "7y7hjPkNMmHh",
        "colab": {
          "base_uri": "https://localhost:8080/"
        },
        "outputId": "010134ae-5a51-4088-e409-8cda64136780"
      },
      "outputs": [
        {
          "output_type": "stream",
          "name": "stdout",
          "text": [
            "Attention result shape: (batch_size, query_seq_length, units):           (512, 2, 1024)\n",
            "Attention weights shape: (batch_size, query_seq_length, value_seq_length): (512, 2, 13)\n"
          ]
        }
      ],
      "source": [
        "# Later, the decoder will generate this attention query\n",
        "example_attention_query = tf.random.normal(shape=[len(example_tokens), 2, 10])\n",
        "\n",
        "# Attend to the encoded tokens\n",
        "context_vector, attention_weights = attention_layer(\n",
        "    query=example_attention_query,\n",
        "    value=example_enc_output,\n",
        "    mask=(example_tokens != 0))\n",
        "\n",
        "print(f'Attention result shape: (batch_size, query_seq_length, units):           {context_vector.shape}')\n",
        "print(f'Attention weights shape: (batch_size, query_seq_length, value_seq_length): {attention_weights.shape}')"
      ]
    },
    {
      "cell_type": "code",
      "execution_count": null,
      "metadata": {
        "id": "Rqr8XGsAJlf6",
        "colab": {
          "base_uri": "https://localhost:8080/",
          "height": 298
        },
        "outputId": "d2f6d26d-3abf-464a-967a-dfd1619307f1"
      },
      "outputs": [
        {
          "output_type": "execute_result",
          "data": {
            "text/plain": [
              "Text(0.5, 1.0, 'Mask')"
            ]
          },
          "metadata": {},
          "execution_count": 29
        },
        {
          "output_type": "display_data",
          "data": {
            "text/plain": [
              "<Figure size 432x288 with 2 Axes>"
            ],
            "image/png": "[encoded data removed]"
          },
          "metadata": {
            "needs_background": "light"
          }
        }
      ],
      "source": [
        "plt.subplot(1, 2, 1)\n",
        "plt.pcolormesh(attention_weights[:, 0, :])\n",
        "plt.title('Attention weights')\n",
        "\n",
        "plt.subplot(1, 2, 2)\n",
        "plt.pcolormesh(example_tokens != 0)\n",
        "plt.title('Mask')\n"
      ]
    },
    {
      "cell_type": "markdown",
      "metadata": {
        "id": "6Eil-C_NN1rp"
      },
      "source": [
        "Because of the small-random initialization the attention weights are all close to `1/(sequence_length)`. If you zoom in on the weights for a single sequence, you can see that there is some _small_ variation that the model can learn to expand, and exploit."
      ]
    },
    {
      "cell_type": "code",
      "execution_count": null,
      "metadata": {
        "id": "ZuzrCdmYlTcJ",
        "colab": {
          "base_uri": "https://localhost:8080/"
        },
        "outputId": "06283568-ce9c-4d5a-96ab-82f6815322b8"
      },
      "outputs": [
        {
          "output_type": "execute_result",
          "data": {
            "text/plain": [
              "TensorShape([512, 2, 13])"
            ]
          },
          "metadata": {},
          "execution_count": 30
        }
      ],
      "source": [
        "attention_weights.shape"
      ]
    },
    {
      "cell_type": "code",
      "execution_count": null,
      "metadata": {
        "id": "qIMwC-f-ZC8N"
      },
      "outputs": [],
      "source": [
        "attention_slice = attention_weights[0, 0].numpy()\n",
        "attention_slice = attention_slice[attention_slice != 0]"
      ]
    },
    {
      "cell_type": "markdown",
      "metadata": {
        "id": "aQ638eHN4iCK"
      },
      "source": [
        "###  decoder\n",
        "\n",
        "\n"
      ]
    },
    {
      "cell_type": "markdown",
      "metadata": {
        "id": "pZsQJMqNmg_L"
      },
      "source": [
        "Here is the `Decoder` class and its initializer. The initializer creates all the necessary layers."
      ]
    },
    {
      "cell_type": "code",
      "execution_count": null,
      "metadata": {
        "id": "erYvHIgAl8kh"
      },
      "outputs": [],
      "source": [
        "class Decoder(tf.keras.layers.Layer):\n",
        "  def __init__(self, output_vocab_size, embedding_dim, dec_units):\n",
        "    super(Decoder, self).__init__()\n",
        "    self.dec_units = dec_units\n",
        "    self.output_vocab_size = output_vocab_size\n",
        "    self.embedding_dim = embedding_dim\n",
        "\n",
        "    # For Step 1. The embedding layer converts token IDs to vectors\n",
        "    self.embedding = tf.keras.layers.Embedding(self.output_vocab_size,\n",
        "                                               embedding_dim)\n",
        "\n",
        "    # For Step 2. The RNN keeps track of what's been generated so far.\n",
        "    self.gru = tf.keras.layers.GRU(self.dec_units,\n",
        "                                   return_sequences=True,\n",
        "                                   return_state=True,\n",
        "                                   recurrent_initializer='glorot_uniform')\n",
        "\n",
        "    # For step 3. The RNN output will be the query for the attention layer.\n",
        "    self.attention = BahdanauAttention(self.dec_units)\n",
        "\n",
        "    # For step 4. Eqn. (3): converting `ct` to `at`\n",
        "    self.Wc = tf.keras.layers.Dense(dec_units, activation=tf.math.tanh,\n",
        "                                    use_bias=False)\n",
        "\n",
        "    # For step 5. This fully connected layer produces the logits for each\n",
        "    # output token.\n",
        "    self.fc = tf.keras.layers.Dense(self.output_vocab_size)"
      ]
    },
    {
      "cell_type": "markdown",
      "metadata": {
        "id": "eUTfYHmfmwKH"
      },
      "source": [
        "The `call` method for this layer takes and returns multiple tensors. Organize those into simple container classes:"
      ]
    },
    {
      "cell_type": "code",
      "execution_count": null,
      "metadata": {
        "id": "7WfSIb2sArRT"
      },
      "outputs": [],
      "source": [
        "class DecoderInput(typing.NamedTuple):\n",
        "  new_tokens: Any\n",
        "  enc_output: Any\n",
        "  mask: Any\n",
        "\n",
        "class DecoderOutput(typing.NamedTuple):\n",
        "  logits: Any\n",
        "  attention_weights: Any"
      ]
    },
    {
      "cell_type": "markdown",
      "metadata": {
        "id": "NChkl2KrnV2y"
      },
      "source": [
        "Here is the implementation of the `call` method:"
      ]
    },
    {
      "cell_type": "code",
      "execution_count": null,
      "metadata": {
        "id": "PJOi5btHAPNK"
      },
      "outputs": [],
      "source": [
        "def call(self,\n",
        "         inputs: DecoderInput,\n",
        "         state=None) -> Tuple[DecoderOutput, tf.Tensor]:\n",
        "  shape_checker = ShapeChecker()\n",
        "  shape_checker(inputs.new_tokens, ('batch', 't'))\n",
        "  shape_checker(inputs.enc_output, ('batch', 's', 'enc_units'))\n",
        "  shape_checker(inputs.mask, ('batch', 's'))\n",
        "\n",
        "  if state is not None:\n",
        "    shape_checker(state, ('batch', 'dec_units'))\n",
        "\n",
        "  # Step 1. Lookup the embeddings\n",
        "  vectors = self.embedding(inputs.new_tokens)\n",
        "  shape_checker(vectors, ('batch', 't', 'embedding_dim'))\n",
        "\n",
        "  # Step 2. Process one step with the RNN\n",
        "  rnn_output, state = self.gru(vectors, initial_state=state)\n",
        "\n",
        "  shape_checker(rnn_output, ('batch', 't', 'dec_units'))\n",
        "  shape_checker(state, ('batch', 'dec_units'))\n",
        "\n",
        "  # Step 3. Use the RNN output as the query for the attention over the\n",
        "  # encoder output.\n",
        "  context_vector, attention_weights = self.attention(\n",
        "      query=rnn_output, value=inputs.enc_output, mask=inputs.mask)\n",
        "  shape_checker(context_vector, ('batch', 't', 'dec_units'))\n",
        "  shape_checker(attention_weights, ('batch', 't', 's'))\n",
        "\n",
        "  # Step 4. Eqn. (3): Join the context_vector and rnn_output\n",
        "  #     [ct; ht] shape: (batch t, value_units + query_units)\n",
        "  context_and_rnn_output = tf.concat([context_vector, rnn_output], axis=-1)\n",
        "\n",
        "  # Step 4. Eqn. (3): `at = tanh(Wc@[ct; ht])`\n",
        "  attention_vector = self.Wc(context_and_rnn_output)\n",
        "  shape_checker(attention_vector, ('batch', 't', 'dec_units'))\n",
        "\n",
        "  # Step 5. Generate logit predictions:\n",
        "  logits = self.fc(attention_vector)\n",
        "  shape_checker(logits, ('batch', 't', 'output_vocab_size'))\n",
        "\n",
        "  return DecoderOutput(logits, attention_weights), state"
      ]
    },
    {
      "cell_type": "code",
      "execution_count": null,
      "metadata": {
        "id": "Ay_mTMPfnb2a"
      },
      "outputs": [],
      "source": [
        "Decoder.call = call"
      ]
    },
    {
      "cell_type": "code",
      "execution_count": null,
      "metadata": {
        "id": "4ZUMbYXIEVeA"
      },
      "outputs": [],
      "source": [
        "decoder = Decoder(output_text_processor.vocabulary_size(),\n",
        "                  embedding_dim, units)"
      ]
    },
    {
      "cell_type": "code",
      "execution_count": null,
      "metadata": {
        "id": "4u6eJBU4GL40"
      },
      "outputs": [],
      "source": [
        "# Convert the target sequence, and collect the \"[START]\" tokens\n",
        "example_output_tokens = output_text_processor(example_target_batch)\n",
        "\n",
        "start_index = output_text_processor.get_vocabulary().index('[START]')\n",
        "first_token = tf.constant([[start_index]] * example_output_tokens.shape[0])"
      ]
    },
    {
      "cell_type": "code",
      "execution_count": null,
      "metadata": {
        "id": "E5hqvbR5FUCD",
        "colab": {
          "base_uri": "https://localhost:8080/"
        },
        "outputId": "fad97eca-815c-4fb8-d6ff-53fb82c6677f"
      },
      "outputs": [
        {
          "output_type": "stream",
          "name": "stdout",
          "text": [
            "logits shape: (batch_size, t, output_vocab_size) (512, 1, 3051)\n",
            "state shape: (batch_size, dec_units) (512, 1024)\n"
          ]
        }
      ],
      "source": [
        "# Run the decoder\n",
        "dec_result, dec_state = decoder(\n",
        "    inputs = DecoderInput(new_tokens=first_token,\n",
        "                          enc_output=example_enc_output,\n",
        "                          mask=(example_tokens != 0)),\n",
        "    state = example_enc_state\n",
        ")\n",
        "\n",
        "print(f'logits shape: (batch_size, t, output_vocab_size) {dec_result.logits.shape}')\n",
        "print(f'state shape: (batch_size, dec_units) {dec_state.shape}')"
      ]
    },
    {
      "cell_type": "markdown",
      "metadata": {
        "id": "vEZvXZRVPHd6"
      },
      "source": [
        "Sample a token according to the logits:"
      ]
    },
    {
      "cell_type": "code",
      "execution_count": null,
      "metadata": {
        "id": "P5UY8wko3jFp"
      },
      "outputs": [],
      "source": [
        "sampled_token = tf.random.categorical(dec_result.logits[:, 0, :], num_samples=1)"
      ]
    },
    {
      "cell_type": "markdown",
      "metadata": {
        "id": "-xTpX44VkzrY"
      },
      "source": [
        "Decode the token as the first word of the output:"
      ]
    },
    {
      "cell_type": "code",
      "execution_count": null,
      "metadata": {
        "id": "lKXTLYu4IV7I",
        "colab": {
          "base_uri": "https://localhost:8080/"
        },
        "outputId": "f21985a5-79c4-4dac-d985-d882c4e7d3cf"
      },
      "outputs": [
        {
          "output_type": "execute_result",
          "data": {
            "text/plain": [
              "array([['makerel'],\n",
              "       ['champagne'],\n",
              "       ['noddle'],\n",
              "       ['vinegared'],\n",
              "       ['miserable']], dtype='<U31')"
            ]
          },
          "metadata": {},
          "execution_count": 41
        }
      ],
      "source": [
        "vocab = np.array(output_text_processor.get_vocabulary())\n",
        "first_word = vocab[sampled_token.numpy()]\n",
        "first_word[:5]"
      ]
    },
    {
      "cell_type": "code",
      "execution_count": null,
      "metadata": {
        "id": "pX1VF9XDJTOM"
      },
      "outputs": [],
      "source": [
        "dec_result, dec_state = decoder(\n",
        "    DecoderInput(sampled_token,\n",
        "                 example_enc_output,\n",
        "                 mask=(example_tokens != 0)),\n",
        "    state=dec_state)"
      ]
    },
    {
      "cell_type": "code",
      "execution_count": null,
      "metadata": {
        "id": "H1rs0XL7Y2aS",
        "colab": {
          "base_uri": "https://localhost:8080/"
        },
        "outputId": "3a20dbe0-f1da-4c97-9cd5-5e1cf51241cf"
      },
      "outputs": [
        {
          "output_type": "execute_result",
          "data": {
            "text/plain": [
              "array([['dish'],\n",
              "       ['highball'],\n",
              "       ['pinnata'],\n",
              "       ['tokbokki'],\n",
              "       ['mantis']], dtype='<U31')"
            ]
          },
          "metadata": {},
          "execution_count": 43
        }
      ],
      "source": [
        "sampled_token = tf.random.categorical(dec_result.logits[:, 0, :], num_samples=1)\n",
        "first_word = vocab[sampled_token.numpy()]\n",
        "first_word[:5]"
      ]
    },
    {
      "cell_type": "markdown",
      "metadata": {
        "id": "B6xyru86m914"
      },
      "source": [
        "## Training\n",
        "\n",
        "Now that you have all the model components, it's time to start training the model. You'll need:\n",
        "\n",
        "- A loss function and optimizer to perform the optimization.\n",
        "- A training step function defining how to update the model for each input/target batch.\n",
        "- A training loop to drive the training and save checkpoints."
      ]
    },
    {
      "cell_type": "markdown",
      "metadata": {
        "id": "_ch_71VbIRfK"
      },
      "source": [
        "### Define the loss function"
      ]
    },
    {
      "cell_type": "code",
      "execution_count": null,
      "metadata": {
        "id": "WmTHr5iV3jFr"
      },
      "outputs": [],
      "source": [
        "class MaskedLoss(tf.keras.losses.Loss):\n",
        "  def __init__(self):\n",
        "    self.name = 'masked_loss'\n",
        "    self.loss = tf.keras.losses.SparseCategoricalCrossentropy(\n",
        "        from_logits=True, reduction='none')\n",
        "\n",
        "  def __call__(self, y_true, y_pred):\n",
        "    shape_checker = ShapeChecker()\n",
        "    shape_checker(y_true, ('batch', 't'))\n",
        "    shape_checker(y_pred, ('batch', 't', 'logits'))\n",
        "\n",
        "    # Calculate the loss for each item in the batch.\n",
        "    loss = self.loss(y_true, y_pred)\n",
        "    shape_checker(loss, ('batch', 't'))\n",
        "\n",
        "    # Mask off the losses on padding.\n",
        "    mask = tf.cast(y_true != 0, tf.float32)\n",
        "    shape_checker(mask, ('batch', 't'))\n",
        "    loss *= mask\n",
        "\n",
        "    # Return the total.\n",
        "    return tf.reduce_sum(loss)"
      ]
    },
    {
      "cell_type": "markdown",
      "metadata": {
        "id": "M5AgEBh2S404"
      },
      "source": [
        "### Implement the training step"
      ]
    },
    {
      "cell_type": "code",
      "execution_count": null,
      "metadata": {
        "id": "WWIyuy71TkJT"
      },
      "outputs": [],
      "source": [
        "class TrainTranslator(tf.keras.Model):\n",
        "  def __init__(self, embedding_dim, units,\n",
        "               input_text_processor,\n",
        "               output_text_processor,\n",
        "               use_tf_function=True):\n",
        "    super().__init__()\n",
        "    # Build the encoder and decoder\n",
        "    encoder = Encoder(input_text_processor.vocabulary_size(),\n",
        "                      embedding_dim, units)\n",
        "    decoder = Decoder(output_text_processor.vocabulary_size(),\n",
        "                      embedding_dim, units)\n",
        "\n",
        "    self.encoder = encoder\n",
        "    self.decoder = decoder\n",
        "    self.input_text_processor = input_text_processor\n",
        "    self.output_text_processor = output_text_processor\n",
        "    self.use_tf_function = use_tf_function\n",
        "    self.shape_checker = ShapeChecker()\n",
        "\n",
        "  def train_step(self, inputs):\n",
        "    self.shape_checker = ShapeChecker()\n",
        "    if self.use_tf_function:\n",
        "      return self._tf_train_step(inputs)\n",
        "    else:\n",
        "      return self._train_step(inputs)"
      ]
    },
    {
      "cell_type": "code",
      "execution_count": null,
      "metadata": {
        "id": "ZlYE68wzXoA8"
      },
      "outputs": [],
      "source": [
        "def _preprocess(self, input_text, target_text):\n",
        "  self.shape_checker(input_text, ('batch',))\n",
        "  self.shape_checker(target_text, ('batch',))\n",
        "\n",
        "  # Convert the text to token IDs\n",
        "  input_tokens = self.input_text_processor(input_text)\n",
        "  target_tokens = self.output_text_processor(target_text)\n",
        "  self.shape_checker(input_tokens, ('batch', 's'))\n",
        "  self.shape_checker(target_tokens, ('batch', 't'))\n",
        "\n",
        "  # Convert IDs to masks.\n",
        "  input_mask = input_tokens != 0\n",
        "  self.shape_checker(input_mask, ('batch', 's'))\n",
        "\n",
        "  target_mask = target_tokens != 0\n",
        "  self.shape_checker(target_mask, ('batch', 't'))\n",
        "\n",
        "  return input_tokens, input_mask, target_tokens, target_mask"
      ]
    },
    {
      "cell_type": "code",
      "execution_count": null,
      "metadata": {
        "id": "lHy6hzStrgjQ"
      },
      "outputs": [],
      "source": [
        "TrainTranslator._preprocess = _preprocess"
      ]
    },
    {
      "cell_type": "code",
      "execution_count": null,
      "metadata": {
        "id": "Qs_gsISsYPpY"
      },
      "outputs": [],
      "source": [
        "def _train_step(self, inputs):\n",
        "  input_text, target_text = inputs\n",
        "\n",
        "  (input_tokens, input_mask,\n",
        "   target_tokens, target_mask) = self._preprocess(input_text, target_text)\n",
        "\n",
        "  max_target_length = tf.shape(target_tokens)[1]\n",
        "\n",
        "  with tf.GradientTape() as tape:\n",
        "    # Encode the input\n",
        "    enc_output, enc_state = self.encoder(input_tokens)\n",
        "    self.shape_checker(enc_output, ('batch', 's', 'enc_units'))\n",
        "    self.shape_checker(enc_state, ('batch', 'enc_units'))\n",
        "\n",
        "    # Initialize the decoder's state to the encoder's final state.\n",
        "    # This only works if the encoder and decoder have the same number of\n",
        "    # units.\n",
        "    dec_state = enc_state\n",
        "    loss = tf.constant(0.0)\n",
        "\n",
        "    for t in tf.range(max_target_length-1):\n",
        "      # Pass in two tokens from the target sequence:\n",
        "      # 1. The current input to the decoder.\n",
        "      # 2. The target for the decoder's next prediction.\n",
        "      new_tokens = target_tokens[:, t:t+2]\n",
        "      step_loss, dec_state = self._loop_step(new_tokens, input_mask,\n",
        "                                             enc_output, dec_state)\n",
        "      loss = loss + step_loss\n",
        "\n",
        "    # Average the loss over all non padding tokens.\n",
        "    average_loss = loss / tf.reduce_sum(tf.cast(target_mask, tf.float32))\n",
        "\n",
        "  # Apply an optimization step\n",
        "  variables = self.trainable_variables\n",
        "  gradients = tape.gradient(average_loss, variables)\n",
        "  self.optimizer.apply_gradients(zip(gradients, variables))\n",
        "\n",
        "  # Return a dict mapping metric names to current value\n",
        "  return {'batch_loss': average_loss}"
      ]
    },
    {
      "cell_type": "code",
      "execution_count": null,
      "metadata": {
        "id": "KGwWHIxLrjGR"
      },
      "outputs": [],
      "source": [
        "TrainTranslator._train_step = _train_step"
      ]
    },
    {
      "cell_type": "code",
      "execution_count": null,
      "metadata": {
        "id": "9VrzgwztXzYJ"
      },
      "outputs": [],
      "source": [
        "def _loop_step(self, new_tokens, input_mask, enc_output, dec_state):\n",
        "  input_token, target_token = new_tokens[:, 0:1], new_tokens[:, 1:2]\n",
        "\n",
        "  # Run the decoder one step.\n",
        "  decoder_input = DecoderInput(new_tokens=input_token,\n",
        "                               enc_output=enc_output,\n",
        "                               mask=input_mask)\n",
        "\n",
        "  dec_result, dec_state = self.decoder(decoder_input, state=dec_state)\n",
        "  self.shape_checker(dec_result.logits, ('batch', 't1', 'logits'))\n",
        "  self.shape_checker(dec_result.attention_weights, ('batch', 't1', 's'))\n",
        "  self.shape_checker(dec_state, ('batch', 'dec_units'))\n",
        "\n",
        "  # `self.loss` returns the total for non-padded tokens\n",
        "  y = target_token\n",
        "  y_pred = dec_result.logits\n",
        "  step_loss = self.loss(y, y_pred)\n",
        "\n",
        "  return step_loss, dec_state"
      ]
    },
    {
      "cell_type": "code",
      "execution_count": null,
      "metadata": {
        "id": "xj3I7VULrk1R"
      },
      "outputs": [],
      "source": [
        "TrainTranslator._loop_step = _loop_step"
      ]
    },
    {
      "cell_type": "code",
      "execution_count": null,
      "metadata": {
        "id": "OA6bCske8TXm"
      },
      "outputs": [],
      "source": [
        "translator = TrainTranslator(\n",
        "    embedding_dim, units,\n",
        "    input_text_processor=input_text_processor,\n",
        "    output_text_processor=output_text_processor,\n",
        "    use_tf_function=False)\n",
        "\n",
        "# Configure the loss and optimizer\n",
        "translator.compile(\n",
        "    optimizer=tf.optimizers.Adam(),\n",
        "    loss=MaskedLoss(),\n",
        ")"
      ]
    },
    {
      "cell_type": "markdown",
      "metadata": {
        "id": "6y5OnZDsB3sB"
      },
      "source": [
        "Test out the `train_step`. For a text model like this the loss should start near:"
      ]
    },
    {
      "cell_type": "code",
      "execution_count": null,
      "metadata": {
        "id": "zHe-OudqCFGK",
        "colab": {
          "base_uri": "https://localhost:8080/"
        },
        "outputId": "4eb295f7-a794-4956-a1c1-d2a2c9352841"
      },
      "outputs": [
        {
          "output_type": "execute_result",
          "data": {
            "text/plain": [
              "8.02322468471667"
            ]
          },
          "metadata": {},
          "execution_count": 53
        }
      ],
      "source": [
        "np.log(output_text_processor.vocabulary_size())"
      ]
    },
    {
      "cell_type": "code",
      "execution_count": null,
      "metadata": {
        "id": "VwMU9cFEfjha",
        "colab": {
          "base_uri": "https://localhost:8080/"
        },
        "outputId": "70b8b330-fd00-4422-ed58-be88e5a5dcfe"
      },
      "outputs": [
        {
          "output_type": "stream",
          "name": "stdout",
          "text": [
            "{'batch_loss': <tf.Tensor: shape=(), dtype=float32, numpy=6.526005>}\n",
            "{'batch_loss': <tf.Tensor: shape=(), dtype=float32, numpy=6.4863234>}\n",
            "{'batch_loss': <tf.Tensor: shape=(), dtype=float32, numpy=6.374054>}\n",
            "{'batch_loss': <tf.Tensor: shape=(), dtype=float32, numpy=5.97208>}\n",
            "{'batch_loss': <tf.Tensor: shape=(), dtype=float32, numpy=4.745561>}\n",
            "{'batch_loss': <tf.Tensor: shape=(), dtype=float32, numpy=8.73193>}\n",
            "{'batch_loss': <tf.Tensor: shape=(), dtype=float32, numpy=5.553021>}\n",
            "{'batch_loss': <tf.Tensor: shape=(), dtype=float32, numpy=4.269989>}\n",
            "{'batch_loss': <tf.Tensor: shape=(), dtype=float32, numpy=4.7417717>}\n",
            "{'batch_loss': <tf.Tensor: shape=(), dtype=float32, numpy=4.813118>}\n",
            "\n",
            "CPU times: user 5.15 s, sys: 151 ms, total: 5.3 s\n",
            "Wall time: 6.11 s\n"
          ]
        }
      ],
      "source": [
        "%%time\n",
        "for n in range(10):\n",
        "  print(translator.train_step([example_input_batch, example_target_batch]))\n",
        "print()"
      ]
    },
    {
      "cell_type": "markdown",
      "metadata": {
        "id": "A-xqtsMbCUp2"
      },
      "source": [
        "While it's easier to debug without a `tf.function` it does give a performance boost. So now that the `_train_step` method is working, try the `tf.function`-wrapped `_tf_train_step`, to maximize performance while training:"
      ]
    },
    {
      "cell_type": "code",
      "execution_count": null,
      "metadata": {
        "id": "UFUsTKQx0jaH"
      },
      "outputs": [],
      "source": [
        "@tf.function(input_signature=[[tf.TensorSpec(dtype=tf.string, shape=[None]),\n",
        "                               tf.TensorSpec(dtype=tf.string, shape=[None])]])\n",
        "def _tf_train_step(self, inputs):\n",
        "  return self._train_step(inputs)"
      ]
    },
    {
      "cell_type": "code",
      "execution_count": null,
      "metadata": {
        "id": "2-bgU59jrztQ"
      },
      "outputs": [],
      "source": [
        "TrainTranslator._tf_train_step = _tf_train_step"
      ]
    },
    {
      "cell_type": "code",
      "execution_count": null,
      "metadata": {
        "id": "KC8bRv_Gr3H9"
      },
      "outputs": [],
      "source": [
        "translator.use_tf_function = True"
      ]
    },
    {
      "cell_type": "markdown",
      "metadata": {
        "id": "EKMYNF_sIFb9"
      },
      "source": [
        "The first call will be slow, because it traces the function."
      ]
    },
    {
      "cell_type": "code",
      "execution_count": null,
      "metadata": {
        "id": "pLQZsX2dp1QK",
        "colab": {
          "base_uri": "https://localhost:8080/"
        },
        "outputId": "34592df8-3096-4d4e-c021-ff1656031c84"
      },
      "outputs": [
        {
          "output_type": "execute_result",
          "data": {
            "text/plain": [
              "{'batch_loss': <tf.Tensor: shape=(), dtype=float32, numpy=4.6645026>}"
            ]
          },
          "metadata": {},
          "execution_count": 58
        }
      ],
      "source": [
        "translator.train_step([example_input_batch, example_target_batch])"
      ]
    },
    {
      "cell_type": "markdown",
      "metadata": {
        "id": "W3t2Hg7UISYi"
      },
      "source": [
        "But after that it's usually 2-3x faster than the eager `train_step` method:"
      ]
    },
    {
      "cell_type": "code",
      "execution_count": null,
      "metadata": {
        "id": "UzXXMwjXCqqh",
        "colab": {
          "base_uri": "https://localhost:8080/"
        },
        "outputId": "0b7aa07d-4550-4efa-81a6-223ed6a2cb10"
      },
      "outputs": [
        {
          "output_type": "stream",
          "name": "stdout",
          "text": [
            "{'batch_loss': <tf.Tensor: shape=(), dtype=float32, numpy=4.4523587>}\n",
            "{'batch_loss': <tf.Tensor: shape=(), dtype=float32, numpy=4.287389>}\n",
            "{'batch_loss': <tf.Tensor: shape=(), dtype=float32, numpy=4.1637926>}\n",
            "{'batch_loss': <tf.Tensor: shape=(), dtype=float32, numpy=4.041836>}\n",
            "{'batch_loss': <tf.Tensor: shape=(), dtype=float32, numpy=3.950547>}\n",
            "{'batch_loss': <tf.Tensor: shape=(), dtype=float32, numpy=3.950726>}\n",
            "{'batch_loss': <tf.Tensor: shape=(), dtype=float32, numpy=3.97709>}\n",
            "{'batch_loss': <tf.Tensor: shape=(), dtype=float32, numpy=3.9448204>}\n",
            "{'batch_loss': <tf.Tensor: shape=(), dtype=float32, numpy=3.8725815>}\n",
            "{'batch_loss': <tf.Tensor: shape=(), dtype=float32, numpy=3.8098836>}\n",
            "\n",
            "CPU times: user 3.99 s, sys: 280 ms, total: 4.27 s\n",
            "Wall time: 3.62 s\n"
          ]
        }
      ],
      "source": [
        "%%time\n",
        "for n in range(10):\n",
        "  print(translator.train_step([example_input_batch, example_target_batch]))\n",
        "print()"
      ]
    },
    {
      "cell_type": "markdown",
      "metadata": {
        "id": "OIvigTqaEcu1"
      },
      "source": [
        "A good test of a new model is to see that it can overfit a single batch of input. Try it, the loss should quickly go to zero:"
      ]
    },
    {
      "cell_type": "code",
      "execution_count": null,
      "metadata": {
        "id": "U-dIWMIBqK7b",
        "colab": {
          "base_uri": "https://localhost:8080/",
          "height": 320
        },
        "outputId": "bae8ba3f-e0eb-460c-c4d3-9cdd8d2be8dc"
      },
      "outputs": [
        {
          "output_type": "stream",
          "name": "stdout",
          "text": [
            "....................................................................................................\n"
          ]
        },
        {
          "output_type": "execute_result",
          "data": {
            "text/plain": [
              "[<matplotlib.lines.Line2D at 0x7fd0a5809d10>]"
            ]
          },
          "metadata": {},
          "execution_count": 60
        },
        {
          "output_type": "display_data",
          "data": {
            "text/plain": [
              "<Figure size 432x288 with 1 Axes>"
            ],
            "image/png": "[encoded data removed]"
          },
          "metadata": {
            "needs_background": "light"
          }
        }
      ],
      "source": [
        "losses = []\n",
        "for n in range(100):\n",
        "  print('.', end='')\n",
        "  logs = translator.train_step([example_input_batch, example_target_batch])\n",
        "  losses.append(logs['batch_loss'].numpy())\n",
        "\n",
        "print()\n",
        "plt.plot(losses)"
      ]
    },
    {
      "cell_type": "markdown",
      "metadata": {
        "id": "aI02XFjoEt1k"
      },
      "source": [
        "Now that you're confident that the training step is working, build a fresh copy of the model to train from scratch:"
      ]
    },
    {
      "cell_type": "code",
      "execution_count": null,
      "metadata": {
        "id": "Emgfgh4tAmJt"
      },
      "outputs": [],
      "source": [
        "train_translator = TrainTranslator(\n",
        "    embedding_dim, units,\n",
        "    input_text_processor=input_text_processor,\n",
        "    output_text_processor=output_text_processor)\n",
        "\n",
        "# Configure the loss and optimizer\n",
        "train_translator.compile(\n",
        "    optimizer=tf.optimizers.Adam(),\n",
        "    loss=MaskedLoss(),\n",
        ")"
      ]
    },
    {
      "cell_type": "markdown",
      "metadata": {
        "id": "hpObfY22IddU"
      },
      "source": [
        "### Train the model\n",
        "\n",
        "While there's nothing wrong with writing your own custom training loop, implementing the `Model.train_step` method, as in the previous section, allows you to run `Model.fit` and avoid rewriting all that boiler-plate code.\n",
        "\n",
        "This tutorial only trains for a couple of epochs, so use a `callbacks.Callback` to collect the history of batch losses, for plotting:"
      ]
    },
    {
      "cell_type": "code",
      "execution_count": null,
      "metadata": {
        "id": "J7m4mtnj80sq"
      },
      "outputs": [],
      "source": [
        "class BatchLogs(tf.keras.callbacks.Callback):\n",
        "  def __init__(self, key):\n",
        "    self.key = key\n",
        "    self.logs = []\n",
        "\n",
        "  def on_train_batch_end(self, n, logs):\n",
        "    self.logs.append(logs[self.key])\n",
        "\n",
        "batch_loss = BatchLogs('batch_loss')"
      ]
    },
    {
      "cell_type": "code",
      "execution_count": null,
      "metadata": {
        "id": "BQd_esVVoSf3",
        "colab": {
          "base_uri": "https://localhost:8080/"
        },
        "outputId": "acba181c-95e2-4526-84a3-87e9df05d891"
      },
      "outputs": [
        {
          "output_type": "stream",
          "name": "stdout",
          "text": [
            "Epoch 1/200\n",
            "30/30 [==============================] - 19s 431ms/step - batch_loss: 4.9594\n",
            "Epoch 2/200\n",
            "30/30 [==============================] - 13s 445ms/step - batch_loss: 3.9568\n",
            "Epoch 3/200\n",
            "30/30 [==============================] - 13s 450ms/step - batch_loss: 3.6906\n",
            "Epoch 4/200\n",
            "30/30 [==============================] - 13s 435ms/step - batch_loss: 3.3044\n",
            "Epoch 5/200\n",
            "30/30 [==============================] - 13s 423ms/step - batch_loss: 2.9405\n",
            "Epoch 6/200\n",
            "30/30 [==============================] - 13s 435ms/step - batch_loss: 2.5889\n",
            "Epoch 7/200\n",
            "30/30 [==============================] - 13s 439ms/step - batch_loss: 2.2127\n",
            "Epoch 8/200\n",
            "30/30 [==============================] - 13s 438ms/step - batch_loss: 1.8747\n",
            "Epoch 9/200\n",
            "30/30 [==============================] - 13s 449ms/step - batch_loss: 1.6074\n",
            "Epoch 10/200\n",
            "30/30 [==============================] - 13s 448ms/step - batch_loss: 1.3938\n",
            "Epoch 11/200\n",
            "30/30 [==============================] - 13s 415ms/step - batch_loss: 1.2131\n",
            "Epoch 12/200\n",
            "30/30 [==============================] - 13s 440ms/step - batch_loss: 1.0726\n",
            "Epoch 13/200\n",
            "30/30 [==============================] - 12s 416ms/step - batch_loss: 0.9521\n",
            "Epoch 14/200\n",
            "30/30 [==============================] - 14s 438ms/step - batch_loss: 0.8535\n",
            "Epoch 15/200\n",
            "30/30 [==============================] - 13s 421ms/step - batch_loss: 0.7701\n",
            "Epoch 16/200\n",
            "30/30 [==============================] - 13s 433ms/step - batch_loss: 0.6903\n",
            "Epoch 17/200\n",
            "30/30 [==============================] - 13s 435ms/step - batch_loss: 0.6306\n",
            "Epoch 18/200\n",
            "30/30 [==============================] - 13s 437ms/step - batch_loss: 0.5685\n",
            "Epoch 19/200\n",
            "30/30 [==============================] - 13s 441ms/step - batch_loss: 0.5151\n",
            "Epoch 20/200\n",
            "30/30 [==============================] - 13s 442ms/step - batch_loss: 0.4697\n",
            "Epoch 21/200\n",
            "30/30 [==============================] - 13s 426ms/step - batch_loss: 0.4266\n",
            "Epoch 22/200\n",
            "30/30 [==============================] - 13s 440ms/step - batch_loss: 0.3914\n",
            "Epoch 23/200\n",
            "30/30 [==============================] - 13s 443ms/step - batch_loss: 0.3611\n",
            "Epoch 24/200\n",
            "30/30 [==============================] - 13s 431ms/step - batch_loss: 0.3308\n",
            "Epoch 25/200\n",
            "30/30 [==============================] - 13s 432ms/step - batch_loss: 0.3101\n",
            "Epoch 26/200\n",
            "30/30 [==============================] - 13s 431ms/step - batch_loss: 0.2854\n",
            "Epoch 27/200\n",
            "30/30 [==============================] - 13s 443ms/step - batch_loss: 0.2638\n",
            "Epoch 28/200\n",
            "30/30 [==============================] - 13s 430ms/step - batch_loss: 0.2460\n",
            "Epoch 29/200\n",
            "30/30 [==============================] - 13s 428ms/step - batch_loss: 0.2361\n",
            "Epoch 30/200\n",
            "30/30 [==============================] - 14s 457ms/step - batch_loss: 0.2245\n",
            "Epoch 31/200\n",
            "30/30 [==============================] - 13s 435ms/step - batch_loss: 0.2109\n",
            "Epoch 32/200\n",
            "30/30 [==============================] - 13s 435ms/step - batch_loss: 0.2036\n",
            "Epoch 33/200\n",
            "30/30 [==============================] - 13s 443ms/step - batch_loss: 0.1945\n",
            "Epoch 34/200\n",
            "30/30 [==============================] - 13s 440ms/step - batch_loss: 0.1885\n",
            "Epoch 35/200\n",
            "30/30 [==============================] - 13s 440ms/step - batch_loss: 0.1827\n",
            "Epoch 36/200\n",
            "30/30 [==============================] - 13s 438ms/step - batch_loss: 0.1770\n",
            "Epoch 37/200\n",
            "30/30 [==============================] - 13s 438ms/step - batch_loss: 0.1723\n",
            "Epoch 38/200\n",
            "30/30 [==============================] - 13s 419ms/step - batch_loss: 0.1687\n",
            "Epoch 39/200\n",
            "30/30 [==============================] - 13s 443ms/step - batch_loss: 0.1664\n",
            "Epoch 40/200\n",
            "30/30 [==============================] - 13s 424ms/step - batch_loss: 0.1587\n",
            "Epoch 41/200\n",
            "30/30 [==============================] - 13s 437ms/step - batch_loss: 0.1577\n",
            "Epoch 42/200\n",
            "30/30 [==============================] - 13s 430ms/step - batch_loss: 0.1544\n",
            "Epoch 43/200\n",
            "30/30 [==============================] - 13s 442ms/step - batch_loss: 0.1527\n",
            "Epoch 44/200\n",
            "30/30 [==============================] - 13s 434ms/step - batch_loss: 0.1517\n",
            "Epoch 45/200\n",
            "30/30 [==============================] - 13s 437ms/step - batch_loss: 0.1486\n",
            "Epoch 46/200\n",
            "30/30 [==============================] - 14s 448ms/step - batch_loss: 0.1480\n",
            "Epoch 47/200\n",
            "30/30 [==============================] - 13s 442ms/step - batch_loss: 0.1470\n",
            "Epoch 48/200\n",
            "30/30 [==============================] - 13s 434ms/step - batch_loss: 0.1481\n",
            "Epoch 49/200\n",
            "30/30 [==============================] - 13s 441ms/step - batch_loss: 0.1461\n",
            "Epoch 50/200\n",
            "30/30 [==============================] - 13s 437ms/step - batch_loss: 0.1447\n",
            "Epoch 51/200\n",
            "30/30 [==============================] - 13s 442ms/step - batch_loss: 0.1467\n",
            "Epoch 52/200\n",
            "30/30 [==============================] - 13s 443ms/step - batch_loss: 0.1504\n",
            "Epoch 53/200\n",
            "30/30 [==============================] - 13s 435ms/step - batch_loss: 0.1501\n",
            "Epoch 54/200\n",
            "30/30 [==============================] - 13s 441ms/step - batch_loss: 0.1465\n",
            "Epoch 55/200\n",
            "30/30 [==============================] - 13s 440ms/step - batch_loss: 0.1462\n",
            "Epoch 56/200\n",
            "30/30 [==============================] - 13s 437ms/step - batch_loss: 0.1450\n",
            "Epoch 57/200\n",
            "30/30 [==============================] - 13s 438ms/step - batch_loss: 0.1434\n",
            "Epoch 58/200\n",
            "30/30 [==============================] - 13s 428ms/step - batch_loss: 0.1420\n",
            "Epoch 59/200\n",
            "30/30 [==============================] - 13s 442ms/step - batch_loss: 0.1402\n",
            "Epoch 60/200\n",
            "30/30 [==============================] - 13s 447ms/step - batch_loss: 0.1386\n",
            "Epoch 61/200\n",
            "30/30 [==============================] - 13s 436ms/step - batch_loss: 0.1375\n",
            "Epoch 62/200\n",
            "30/30 [==============================] - 13s 439ms/step - batch_loss: 0.1360\n",
            "Epoch 63/200\n",
            "30/30 [==============================] - 13s 434ms/step - batch_loss: 0.1347\n",
            "Epoch 64/200\n",
            "30/30 [==============================] - 13s 435ms/step - batch_loss: 0.1355\n",
            "Epoch 65/200\n",
            "30/30 [==============================] - 13s 434ms/step - batch_loss: 0.1303\n",
            "Epoch 66/200\n",
            "30/30 [==============================] - 13s 436ms/step - batch_loss: 0.1334\n",
            "Epoch 67/200\n",
            "30/30 [==============================] - 13s 431ms/step - batch_loss: 0.1343\n",
            "Epoch 68/200\n",
            "30/30 [==============================] - 13s 434ms/step - batch_loss: 0.1337\n",
            "Epoch 69/200\n",
            "30/30 [==============================] - 13s 439ms/step - batch_loss: 0.1329\n",
            "Epoch 70/200\n",
            "30/30 [==============================] - 13s 441ms/step - batch_loss: 0.1325\n",
            "Epoch 71/200\n",
            "30/30 [==============================] - 13s 434ms/step - batch_loss: 0.1337\n",
            "Epoch 72/200\n",
            "30/30 [==============================] - 13s 446ms/step - batch_loss: 0.1313\n",
            "Epoch 73/200\n",
            "30/30 [==============================] - 13s 436ms/step - batch_loss: 0.1318\n",
            "Epoch 74/200\n",
            "30/30 [==============================] - 14s 452ms/step - batch_loss: 0.1306\n",
            "Epoch 75/200\n",
            "30/30 [==============================] - 13s 435ms/step - batch_loss: 0.1315\n",
            "Epoch 76/200\n",
            "30/30 [==============================] - 13s 426ms/step - batch_loss: 0.1314\n",
            "Epoch 77/200\n",
            "30/30 [==============================] - 13s 422ms/step - batch_loss: 0.1298\n",
            "Epoch 78/200\n",
            "30/30 [==============================] - 13s 447ms/step - batch_loss: 0.1318\n",
            "Epoch 79/200\n",
            "30/30 [==============================] - 13s 435ms/step - batch_loss: 0.1305\n",
            "Epoch 80/200\n",
            "30/30 [==============================] - 13s 436ms/step - batch_loss: 0.1334\n",
            "Epoch 81/200\n",
            "30/30 [==============================] - 13s 443ms/step - batch_loss: 0.1332\n",
            "Epoch 82/200\n",
            "30/30 [==============================] - 13s 439ms/step - batch_loss: 0.1380\n",
            "Epoch 83/200\n",
            "30/30 [==============================] - 13s 424ms/step - batch_loss: 0.1446\n",
            "Epoch 84/200\n",
            "30/30 [==============================] - 13s 426ms/step - batch_loss: 0.1542\n",
            "Epoch 85/200\n",
            "30/30 [==============================] - 13s 437ms/step - batch_loss: 0.1540\n",
            "Epoch 86/200\n",
            "30/30 [==============================] - 13s 442ms/step - batch_loss: 0.1498\n",
            "Epoch 87/200\n",
            "30/30 [==============================] - 13s 434ms/step - batch_loss: 0.1444\n",
            "Epoch 88/200\n",
            "30/30 [==============================] - 13s 431ms/step - batch_loss: 0.1404\n",
            "Epoch 89/200\n",
            "30/30 [==============================] - 13s 441ms/step - batch_loss: 0.1386\n",
            "Epoch 90/200\n",
            "30/30 [==============================] - 13s 428ms/step - batch_loss: 0.1360\n",
            "Epoch 91/200\n",
            "30/30 [==============================] - 13s 430ms/step - batch_loss: 0.1312\n",
            "Epoch 92/200\n",
            "30/30 [==============================] - 13s 436ms/step - batch_loss: 0.1316\n",
            "Epoch 93/200\n",
            "30/30 [==============================] - 13s 439ms/step - batch_loss: 0.1291\n",
            "Epoch 94/200\n",
            "30/30 [==============================] - 13s 438ms/step - batch_loss: 0.1305\n",
            "Epoch 95/200\n",
            "30/30 [==============================] - 13s 441ms/step - batch_loss: 0.1281\n",
            "Epoch 96/200\n",
            "30/30 [==============================] - 13s 442ms/step - batch_loss: 0.1289\n",
            "Epoch 97/200\n",
            "30/30 [==============================] - 13s 441ms/step - batch_loss: 0.1276\n",
            "Epoch 98/200\n",
            "30/30 [==============================] - 13s 433ms/step - batch_loss: 0.1276\n",
            "Epoch 99/200\n",
            "30/30 [==============================] - 13s 430ms/step - batch_loss: 0.1279\n",
            "Epoch 100/200\n",
            "30/30 [==============================] - 13s 437ms/step - batch_loss: 0.1258\n",
            "Epoch 101/200\n",
            "30/30 [==============================] - 13s 440ms/step - batch_loss: 0.1280\n",
            "Epoch 102/200\n",
            "30/30 [==============================] - 13s 432ms/step - batch_loss: 0.1294\n",
            "Epoch 103/200\n",
            "30/30 [==============================] - 13s 426ms/step - batch_loss: 0.1263\n",
            "Epoch 104/200\n",
            "30/30 [==============================] - 13s 441ms/step - batch_loss: 0.1265\n",
            "Epoch 105/200\n",
            "30/30 [==============================] - 13s 420ms/step - batch_loss: 0.1267\n",
            "Epoch 106/200\n",
            "30/30 [==============================] - 13s 439ms/step - batch_loss: 0.1261\n",
            "Epoch 107/200\n",
            "30/30 [==============================] - 13s 451ms/step - batch_loss: 0.1244\n",
            "Epoch 108/200\n",
            "30/30 [==============================] - 13s 443ms/step - batch_loss: 0.1272\n",
            "Epoch 109/200\n",
            "30/30 [==============================] - 13s 427ms/step - batch_loss: 0.1278\n",
            "Epoch 110/200\n",
            "30/30 [==============================] - 13s 426ms/step - batch_loss: 0.1257\n",
            "Epoch 111/200\n",
            "30/30 [==============================] - 13s 429ms/step - batch_loss: 0.1263\n",
            "Epoch 112/200\n",
            "30/30 [==============================] - 13s 428ms/step - batch_loss: 0.1255\n",
            "Epoch 113/200\n",
            "30/30 [==============================] - 13s 438ms/step - batch_loss: 0.1246\n",
            "Epoch 114/200\n",
            "30/30 [==============================] - 13s 421ms/step - batch_loss: 0.1250\n",
            "Epoch 115/200\n",
            "30/30 [==============================] - 13s 439ms/step - batch_loss: 0.1274\n",
            "Epoch 116/200\n",
            "30/30 [==============================] - 13s 444ms/step - batch_loss: 0.1249\n",
            "Epoch 117/200\n",
            "30/30 [==============================] - 13s 447ms/step - batch_loss: 0.1287\n",
            "Epoch 118/200\n",
            "30/30 [==============================] - 13s 441ms/step - batch_loss: 0.1266\n",
            "Epoch 119/200\n",
            "30/30 [==============================] - 13s 430ms/step - batch_loss: 0.1272\n",
            "Epoch 120/200\n",
            "30/30 [==============================] - 13s 429ms/step - batch_loss: 0.1254\n",
            "Epoch 121/200\n",
            "30/30 [==============================] - 13s 448ms/step - batch_loss: 0.1272\n",
            "Epoch 122/200\n",
            "30/30 [==============================] - 13s 417ms/step - batch_loss: 0.1275\n",
            "Epoch 123/200\n",
            "30/30 [==============================] - 13s 428ms/step - batch_loss: 0.1285\n",
            "Epoch 124/200\n",
            "30/30 [==============================] - 13s 431ms/step - batch_loss: 0.1282\n",
            "Epoch 125/200\n",
            "30/30 [==============================] - 13s 433ms/step - batch_loss: 0.1288\n",
            "Epoch 126/200\n",
            "30/30 [==============================] - 13s 437ms/step - batch_loss: 0.1358\n",
            "Epoch 127/200\n",
            "30/30 [==============================] - 13s 449ms/step - batch_loss: 0.1401\n",
            "Epoch 128/200\n",
            "30/30 [==============================] - 13s 428ms/step - batch_loss: 0.1430\n",
            "Epoch 129/200\n",
            "30/30 [==============================] - 13s 432ms/step - batch_loss: 0.1444\n",
            "Epoch 130/200\n",
            "30/30 [==============================] - 13s 437ms/step - batch_loss: 0.1457\n",
            "Epoch 131/200\n",
            "30/30 [==============================] - 13s 437ms/step - batch_loss: 0.1459\n",
            "Epoch 132/200\n",
            "30/30 [==============================] - 13s 441ms/step - batch_loss: 0.1423\n",
            "Epoch 133/200\n",
            "30/30 [==============================] - 13s 432ms/step - batch_loss: 0.1369\n",
            "Epoch 134/200\n",
            "30/30 [==============================] - 13s 438ms/step - batch_loss: 0.1329\n",
            "Epoch 135/200\n",
            "30/30 [==============================] - 13s 441ms/step - batch_loss: 0.1299\n",
            "Epoch 136/200\n",
            "30/30 [==============================] - 13s 417ms/step - batch_loss: 0.1274\n",
            "Epoch 137/200\n",
            "30/30 [==============================] - 13s 428ms/step - batch_loss: 0.1275\n",
            "Epoch 138/200\n",
            "30/30 [==============================] - 13s 423ms/step - batch_loss: 0.1262\n",
            "Epoch 139/200\n",
            "30/30 [==============================] - 13s 434ms/step - batch_loss: 0.1241\n",
            "Epoch 140/200\n",
            "30/30 [==============================] - 13s 436ms/step - batch_loss: 0.1235\n",
            "Epoch 141/200\n",
            "30/30 [==============================] - 13s 443ms/step - batch_loss: 0.1236\n",
            "Epoch 142/200\n",
            "30/30 [==============================] - 13s 424ms/step - batch_loss: 0.1243\n",
            "Epoch 143/200\n",
            "30/30 [==============================] - 13s 430ms/step - batch_loss: 0.1226\n",
            "Epoch 144/200\n",
            "30/30 [==============================] - 13s 435ms/step - batch_loss: 0.1235\n",
            "Epoch 145/200\n",
            "30/30 [==============================] - 13s 452ms/step - batch_loss: 0.1245\n",
            "Epoch 146/200\n",
            "30/30 [==============================] - 13s 437ms/step - batch_loss: 0.1229\n",
            "Epoch 147/200\n",
            "30/30 [==============================] - 13s 418ms/step - batch_loss: 0.1248\n",
            "Epoch 148/200\n",
            "30/30 [==============================] - 13s 426ms/step - batch_loss: 0.1262\n",
            "Epoch 149/200\n",
            "30/30 [==============================] - 13s 441ms/step - batch_loss: 0.1243\n",
            "Epoch 150/200\n",
            "30/30 [==============================] - 13s 436ms/step - batch_loss: 0.1275\n",
            "Epoch 151/200\n",
            "30/30 [==============================] - 13s 436ms/step - batch_loss: 0.1240\n",
            "Epoch 152/200\n",
            "30/30 [==============================] - 13s 440ms/step - batch_loss: 0.1248\n",
            "Epoch 153/200\n",
            "30/30 [==============================] - 13s 428ms/step - batch_loss: 0.1239\n",
            "Epoch 154/200\n",
            "30/30 [==============================] - 13s 425ms/step - batch_loss: 0.1224\n",
            "Epoch 155/200\n",
            "30/30 [==============================] - 13s 439ms/step - batch_loss: 0.1239\n",
            "Epoch 156/200\n",
            "30/30 [==============================] - 13s 447ms/step - batch_loss: 0.1242\n",
            "Epoch 157/200\n",
            "30/30 [==============================] - 13s 440ms/step - batch_loss: 0.1235\n",
            "Epoch 158/200\n",
            "30/30 [==============================] - 13s 429ms/step - batch_loss: 0.1240\n",
            "Epoch 159/200\n",
            "30/30 [==============================] - 13s 426ms/step - batch_loss: 0.1246\n",
            "Epoch 160/200\n",
            "30/30 [==============================] - 13s 428ms/step - batch_loss: 0.1246\n",
            "Epoch 161/200\n",
            "30/30 [==============================] - 13s 434ms/step - batch_loss: 0.1244\n",
            "Epoch 162/200\n",
            "30/30 [==============================] - 13s 449ms/step - batch_loss: 0.1233\n",
            "Epoch 163/200\n",
            "30/30 [==============================] - 13s 434ms/step - batch_loss: 0.1247\n",
            "Epoch 164/200\n",
            "30/30 [==============================] - 13s 420ms/step - batch_loss: 0.1250\n",
            "Epoch 165/200\n",
            "30/30 [==============================] - 13s 430ms/step - batch_loss: 0.1253\n",
            "Epoch 166/200\n",
            "30/30 [==============================] - 13s 437ms/step - batch_loss: 0.1228\n",
            "Epoch 167/200\n",
            "30/30 [==============================] - 13s 423ms/step - batch_loss: 0.1232\n",
            "Epoch 168/200\n",
            "30/30 [==============================] - 13s 437ms/step - batch_loss: 0.1235\n",
            "Epoch 169/200\n",
            "30/30 [==============================] - 13s 442ms/step - batch_loss: 0.1227\n",
            "Epoch 170/200\n",
            "30/30 [==============================] - 13s 425ms/step - batch_loss: 0.1228\n",
            "Epoch 171/200\n",
            "30/30 [==============================] - 13s 428ms/step - batch_loss: 0.1265\n",
            "Epoch 172/200\n",
            "30/30 [==============================] - 13s 426ms/step - batch_loss: 0.1269\n",
            "Epoch 173/200\n",
            "30/30 [==============================] - 13s 443ms/step - batch_loss: 0.1239\n",
            "Epoch 174/200\n",
            "30/30 [==============================] - 13s 437ms/step - batch_loss: 0.1249\n",
            "Epoch 175/200\n",
            "30/30 [==============================] - 13s 429ms/step - batch_loss: 0.1240\n",
            "Epoch 176/200\n",
            "30/30 [==============================] - 13s 437ms/step - batch_loss: 0.1229\n",
            "Epoch 177/200\n",
            "30/30 [==============================] - 13s 425ms/step - batch_loss: 0.1235\n",
            "Epoch 178/200\n",
            "30/30 [==============================] - 13s 445ms/step - batch_loss: 0.1258\n",
            "Epoch 179/200\n",
            "30/30 [==============================] - 13s 428ms/step - batch_loss: 0.1250\n",
            "Epoch 180/200\n",
            "30/30 [==============================] - 13s 433ms/step - batch_loss: 0.1245\n",
            "Epoch 181/200\n",
            "30/30 [==============================] - 13s 437ms/step - batch_loss: 0.1235\n",
            "Epoch 182/200\n",
            "30/30 [==============================] - 13s 447ms/step - batch_loss: 0.1261\n",
            "Epoch 183/200\n",
            "30/30 [==============================] - 13s 432ms/step - batch_loss: 0.1284\n",
            "Epoch 184/200\n",
            "30/30 [==============================] - 13s 444ms/step - batch_loss: 0.1276\n",
            "Epoch 185/200\n",
            "30/30 [==============================] - 13s 431ms/step - batch_loss: 0.1270\n",
            "Epoch 186/200\n",
            "30/30 [==============================] - 13s 428ms/step - batch_loss: 0.1278\n",
            "Epoch 187/200\n",
            "30/30 [==============================] - 13s 442ms/step - batch_loss: 0.1255\n",
            "Epoch 188/200\n",
            "30/30 [==============================] - 13s 443ms/step - batch_loss: 0.1272\n",
            "Epoch 189/200\n",
            "30/30 [==============================] - 13s 424ms/step - batch_loss: 0.1257\n",
            "Epoch 190/200\n",
            "30/30 [==============================] - 13s 430ms/step - batch_loss: 0.1271\n",
            "Epoch 191/200\n",
            "30/30 [==============================] - 13s 428ms/step - batch_loss: 0.1279\n",
            "Epoch 192/200\n",
            "30/30 [==============================] - 13s 430ms/step - batch_loss: 0.1263\n",
            "Epoch 193/200\n",
            "30/30 [==============================] - 13s 447ms/step - batch_loss: 0.1281\n",
            "Epoch 194/200\n",
            "30/30 [==============================] - 13s 435ms/step - batch_loss: 0.1298\n",
            "Epoch 195/200\n",
            "30/30 [==============================] - 13s 428ms/step - batch_loss: 0.1282\n",
            "Epoch 196/200\n",
            "30/30 [==============================] - 13s 443ms/step - batch_loss: 0.1260\n",
            "Epoch 197/200\n",
            "30/30 [==============================] - 13s 441ms/step - batch_loss: 0.1265\n",
            "Epoch 198/200\n",
            "30/30 [==============================] - 13s 434ms/step - batch_loss: 0.1238\n",
            "Epoch 199/200\n",
            "30/30 [==============================] - 13s 433ms/step - batch_loss: 0.1234\n",
            "Epoch 200/200\n",
            "30/30 [==============================] - 13s 444ms/step - batch_loss: 0.1262\n"
          ]
        },
        {
          "output_type": "execute_result",
          "data": {
            "text/plain": [
              "<keras.callbacks.History at 0x7fd094296c90>"
            ]
          },
          "metadata": {},
          "execution_count": 63
        }
      ],
      "source": [
        "train_translator.fit(dataset, epochs=200,\n",
        "                     callbacks=[batch_loss])"
      ]
    },
    {
      "cell_type": "code",
      "execution_count": null,
      "metadata": {
        "id": "38rLdlmtQHCm",
        "colab": {
          "base_uri": "https://localhost:8080/",
          "height": 300
        },
        "outputId": "6259d573-b17e-40f8-ca08-09171b1e8b8b"
      },
      "outputs": [
        {
          "output_type": "execute_result",
          "data": {
            "text/plain": [
              "Text(0, 0.5, 'CE/token')"
            ]
          },
          "metadata": {},
          "execution_count": 64
        },
        {
          "output_type": "display_data",
          "data": {
            "text/plain": [
              "<Figure size 432x288 with 1 Axes>"
            ],
            "image/png": "[encoded data removed]"
          },
          "metadata": {
            "needs_background": "light"
          }
        }
      ],
      "source": [
        "plt.plot(batch_loss.logs)\n",
        "plt.ylim([0, 3])\n",
        "plt.xlabel('Batch #')\n",
        "plt.ylabel('CE/token')"
      ]
    },
    {
      "cell_type": "markdown",
      "metadata": {
        "id": "w0S_O_RzHmfe"
      },
      "source": [
        "The visible jumps in the plot are at the epoch boundaries."
      ]
    },
    {
      "cell_type": "markdown",
      "metadata": {
        "id": "mU3Ce8M6I3rz"
      },
      "source": [
        "## Translate\n"
      ]
    },
    {
      "cell_type": "code",
      "execution_count": null,
      "metadata": {
        "id": "PO-CLL1LVBbM"
      },
      "outputs": [],
      "source": [
        "class Translator(tf.Module):\n",
        "\n",
        "  def __init__(self, encoder, decoder, input_text_processor,\n",
        "               output_text_processor):\n",
        "    self.encoder = encoder\n",
        "    self.decoder = decoder\n",
        "    self.input_text_processor = input_text_processor\n",
        "    self.output_text_processor = output_text_processor\n",
        "\n",
        "    self.output_token_string_from_index = (\n",
        "        tf.keras.layers.StringLookup(\n",
        "            vocabulary=output_text_processor.get_vocabulary(),\n",
        "            mask_token='',\n",
        "            invert=True))\n",
        "\n",
        "    # The output should never generate padding, unknown, or start.\n",
        "    index_from_string = tf.keras.layers.StringLookup(\n",
        "        vocabulary=output_text_processor.get_vocabulary(), mask_token='')\n",
        "    token_mask_ids = index_from_string(['', '[UNK]', '[START]']).numpy()\n",
        "\n",
        "    token_mask = np.zeros([index_from_string.vocabulary_size()], dtype=np.bool)\n",
        "    token_mask[np.array(token_mask_ids)] = True\n",
        "    self.token_mask = token_mask\n",
        "\n",
        "    self.start_token = index_from_string(tf.constant('[START]'))\n",
        "    self.end_token = index_from_string(tf.constant('[END]'))"
      ]
    },
    {
      "cell_type": "code",
      "execution_count": null,
      "metadata": {
        "id": "iBQzFZ9uWU79",
        "colab": {
          "base_uri": "https://localhost:8080/"
        },
        "outputId": "4d4ebb82-cd2c-4058-d272-bb5a2f524653"
      },
      "outputs": [
        {
          "output_type": "stream",
          "name": "stderr",
          "text": [
            "/usr/local/lib/python3.7/dist-packages/ipykernel_launcher.py:21: DeprecationWarning: `np.bool` is a deprecated alias for the builtin `bool`. To silence this warning, use `bool` by itself. Doing this will not modify any behavior and is safe. If you specifically wanted the numpy scalar type, use `np.bool_` here.\n",
            "Deprecated in NumPy 1.20; for more details and guidance: https://numpy.org/devdocs/release/1.20.0-notes.html#deprecations\n"
          ]
        }
      ],
      "source": [
        "translator = Translator(\n",
        "    encoder=train_translator.encoder,\n",
        "    decoder=train_translator.decoder,\n",
        "    input_text_processor=input_text_processor,\n",
        "    output_text_processor=output_text_processor,\n",
        ")"
      ]
    },
    {
      "cell_type": "markdown",
      "metadata": {
        "id": "b59PN-UxqYrU"
      },
      "source": [
        "### Convert token IDs to text"
      ]
    },
    {
      "cell_type": "code",
      "execution_count": null,
      "metadata": {
        "id": "8IjwKTwtmdFf"
      },
      "outputs": [],
      "source": [
        "def tokens_to_text(self, result_tokens):\n",
        "  shape_checker = ShapeChecker()\n",
        "  shape_checker(result_tokens, ('batch', 't'))\n",
        "  result_text_tokens = self.output_token_string_from_index(result_tokens)\n",
        "  shape_checker(result_text_tokens, ('batch', 't'))\n",
        "\n",
        "  result_text = tf.strings.reduce_join(result_text_tokens,\n",
        "                                       axis=1, separator=' ')\n",
        "  shape_checker(result_text, ('batch'))\n",
        "\n",
        "  result_text = tf.strings.strip(result_text)\n",
        "  shape_checker(result_text, ('batch',))\n",
        "  return result_text"
      ]
    },
    {
      "cell_type": "code",
      "execution_count": null,
      "metadata": {
        "id": "912aV0K7r90w"
      },
      "outputs": [],
      "source": [
        "Translator.tokens_to_text = tokens_to_text"
      ]
    },
    {
      "cell_type": "code",
      "execution_count": null,
      "metadata": {
        "id": "cWCMHdoS32QN",
        "colab": {
          "base_uri": "https://localhost:8080/"
        },
        "outputId": "5152f45f-7e5a-4c81-ff01-cf315f2ee7f6"
      },
      "outputs": [
        {
          "output_type": "execute_result",
          "data": {
            "text/plain": [
              "array([b'land fingersnails', b'babylonia healing', b'ocean flavour',\n",
              "       b'ocean lai', b'vegetable mask'], dtype=object)"
            ]
          },
          "metadata": {},
          "execution_count": 69
        }
      ],
      "source": [
        "example_output_tokens = tf.random.uniform(\n",
        "    shape=[5, 2], minval=0, dtype=tf.int64,\n",
        "    maxval=output_text_processor.vocabulary_size())\n",
        "translator.tokens_to_text(example_output_tokens).numpy()"
      ]
    },
    {
      "cell_type": "markdown",
      "metadata": {
        "id": "AC9De_kAqtaE"
      },
      "source": [
        "### Sample from the decoder's predictions"
      ]
    },
    {
      "cell_type": "markdown",
      "metadata": {
        "id": "q5tno-2ksJv6"
      },
      "source": [
        "This function takes the decoder's logit outputs and samples token IDs from that distribution:"
      ]
    },
    {
      "cell_type": "code",
      "execution_count": null,
      "metadata": {
        "id": "8lfuj3GcdD6e"
      },
      "outputs": [],
      "source": [
        "def sample(self, logits, temperature):\n",
        "  shape_checker = ShapeChecker()\n",
        "  # 't' is usually 1 here.\n",
        "  shape_checker(logits, ('batch', 't', 'vocab'))\n",
        "  shape_checker(self.token_mask, ('vocab',))\n",
        "\n",
        "  token_mask = self.token_mask[tf.newaxis, tf.newaxis, :]\n",
        "  shape_checker(token_mask, ('batch', 't', 'vocab'), broadcast=True)\n",
        "\n",
        "  # Set the logits for all masked tokens to -inf, so they are never chosen.\n",
        "  logits = tf.where(self.token_mask, -np.inf, logits)\n",
        "\n",
        "  if temperature == 0.0:\n",
        "    new_tokens = tf.argmax(logits, axis=-1)\n",
        "  else:\n",
        "    logits = tf.squeeze(logits, axis=1)\n",
        "    new_tokens = tf.random.categorical(logits/temperature,\n",
        "                                        num_samples=1)\n",
        "  \n",
        "  shape_checker(new_tokens, ('batch', 't'))\n",
        "\n",
        "  return new_tokens"
      ]
    },
    {
      "cell_type": "code",
      "execution_count": null,
      "metadata": {
        "id": "4DpDnBdBdL9_"
      },
      "outputs": [],
      "source": [
        "Translator.sample = sample"
      ]
    },
    {
      "cell_type": "markdown",
      "metadata": {
        "id": "QwdHfGEfsmy5"
      },
      "source": [
        "Test run this function on some random inputs:"
      ]
    },
    {
      "cell_type": "code",
      "execution_count": null,
      "metadata": {
        "id": "rwLT0nxXym80",
        "colab": {
          "base_uri": "https://localhost:8080/"
        },
        "outputId": "c4279e67-521f-44b6-b0af-a5a55bd711d1"
      },
      "outputs": [
        {
          "output_type": "execute_result",
          "data": {
            "text/plain": [
              "<tf.Tensor: shape=(5, 1), dtype=int64, numpy=\n",
              "array([[ 771],\n",
              "       [2965],\n",
              "       [ 470],\n",
              "       [ 955],\n",
              "       [2422]])>"
            ]
          },
          "metadata": {},
          "execution_count": 72
        }
      ],
      "source": [
        "example_logits = tf.random.normal([5, 1, output_text_processor.vocabulary_size()])\n",
        "example_output_tokens = translator.sample(example_logits, temperature=1.0)\n",
        "example_output_tokens"
      ]
    },
    {
      "cell_type": "markdown",
      "metadata": {
        "id": "NEWIKFIJ2HWM"
      },
      "source": [
        "### Implement the translation loop\n"
      ]
    },
    {
      "cell_type": "code",
      "execution_count": null,
      "metadata": {
        "id": "ZmOvVrZmwAxg"
      },
      "outputs": [],
      "source": [
        "def translate_unrolled(self,\n",
        "                       input_text, *,\n",
        "                       max_length=50,\n",
        "                       return_attention=True,\n",
        "                       temperature=1.0):\n",
        "  batch_size = tf.shape(input_text)[0]\n",
        "  input_tokens = self.input_text_processor(input_text)\n",
        "  enc_output, enc_state = self.encoder(input_tokens)\n",
        "\n",
        "  dec_state = enc_state\n",
        "  new_tokens = tf.fill([batch_size, 1], self.start_token)\n",
        "\n",
        "  result_tokens = []\n",
        "  attention = []\n",
        "  done = tf.zeros([batch_size, 1], dtype=tf.bool)\n",
        "\n",
        "  for _ in range(max_length):\n",
        "    dec_input = DecoderInput(new_tokens=new_tokens,\n",
        "                             enc_output=enc_output,\n",
        "                             mask=(input_tokens!=0))\n",
        "    \n",
        "    dec_result, dec_state = self.decoder(dec_input, state=dec_state)\n",
        "\n",
        "    attention.append(dec_result.attention_weights)\n",
        "\n",
        "    new_tokens = self.sample(dec_result.logits, temperature)\n",
        "\n",
        "    # If a sequence produces an `end_token`, set it `done`\n",
        "    done = done | (new_tokens == self.end_token)\n",
        "    # Once a sequence is done it only produces 0-padding.\n",
        "    new_tokens = tf.where(done, tf.constant(0, dtype=tf.int64), new_tokens)\n",
        "\n",
        "    # Collect the generated tokens\n",
        "    result_tokens.append(new_tokens)\n",
        "\n",
        "    if tf.executing_eagerly() and tf.reduce_all(done):\n",
        "      break\n",
        "\n",
        "  # Convert the list of generates token ids to a list of strings.\n",
        "  result_tokens = tf.concat(result_tokens, axis=-1)\n",
        "  result_text = self.tokens_to_text(result_tokens)\n",
        "\n",
        "  if return_attention:\n",
        "    attention_stack = tf.concat(attention, axis=1)\n",
        "    return {'text': result_text, 'attention': attention_stack}\n",
        "  else:\n",
        "    return {'text': result_text}\n"
      ]
    },
    {
      "cell_type": "code",
      "execution_count": null,
      "metadata": {
        "id": "JOmd8Y269MG3"
      },
      "outputs": [],
      "source": [
        "Translator.translate = translate_unrolled\n"
      ]
    },
    {
      "cell_type": "markdown",
      "metadata": {
        "id": "NxYXf3GNKKLS"
      },
      "source": [
        "Run it on a simple input:"
      ]
    },
    {
      "cell_type": "code",
      "execution_count": null,
      "metadata": {
        "id": "hd2rgyHwVVrv",
        "colab": {
          "base_uri": "https://localhost:8080/"
        },
        "outputId": "e206fee9-d02d-4a00-ae31-529ec0ef9fe1"
      },
      "outputs": [
        {
          "output_type": "stream",
          "name": "stdout",
          "text": [
            "combo\n",
            "combo\n",
            "combo\n",
            "soju\n",
            "vodka\n",
            "tiger can\n",
            "tiger bottle\n",
            "crystal tiger can\n",
            "crystal tiger can\n",
            "coca\n",
            "sprite\n",
            "water\n",
            "red bull\n",
            "quy nhon beer\n",
            "bivina beer\n",
            "strong bow\n",
            "sauteed water spinach with garlic\n",
            "sauteed spinach with garlic\n",
            "sauteed borecole with garlic\n",
            "okra with garlic\n",
            "french fries\n",
            "fried frog skin with sauce\n",
            "crispy fried frog skin\n",
            "roasted frog skin with salt\n",
            "beans fried\n",
            "jellyfish with fine shrimp sauce\n",
            "stir fried baby corn with scallion\n",
            "stir fried corn with shrimp\n",
            "fried milk sentinel crab with fish sauce\n",
            "fried milk sentinel crab with salt\n",
            "vietnamese crispy spring shirmp roll\n",
            "pork ears salad\n",
            "jellyfish salad\n",
            "seafood salad\n",
            "chicken feet without bone\n",
            "beef salad\n",
            "rare beef with lemons\n",
            "octopus salad\n",
            "shrimp salad\n",
            "german sausage\n",
            "baked oysters\n",
            "grilled eggplant\n",
            "grilled fish ball beef ball shrimp ball\n",
            "grilled dumplings\n",
            "grilled pigs guts\n",
            "grilled chicken gizzard\n",
            "grilled squid\n",
            "grilled shrimp\n",
            "grilled octopus\n",
            "baked ribs bbq\n",
            "baked bacon\n",
            "grilled frog\n",
            "grilled american short plate\n",
            "short plate roll mushroom\n",
            "short plate roll cheese\n",
            "spicy grilled beef\n",
            "grilled beef piper lolot\n",
            "grilled belly\n",
            "oysters with cheese\n",
            "grilled oyster with scallion oil\n",
            "grilled clams\n",
            "grilled scallop\n",
            "grilled snails with green pepper\n",
            "grilled pork noodles hanoi\n",
            "grilled milk sentinel crabs\n",
            "grilled shrimp\n",
            "grilled octopus with salt and chilli\n",
            "spicy grilled beef\n",
            "grilled beef with piper lolot\n",
            "spicy mushroom beef roll\n",
            "fried license\n",
            "stir fried guts with turmeric\n",
            "clams steam with lemongrass\n",
            "clams with thailand flavours\n",
            "spicy stir fried fros\n",
            "fried frog with lime leaves\n",
            "roasted salted frog\n",
            "fried frog with fish sauce\n",
            "fried frog with butter\n",
            "meat bone fried with salt\n",
            "fried cartilage with fish sauce\n",
            "fried chicken wings with spicy shrimp salt\n",
            "fried chicken wings with fish sauce\n",
            "butterfried chicken wings\n",
            "steamed snail\n",
            "stir fried snail with citronella\n",
            "um buou snails\n",
            "stir fried razor clam with citronella\n",
            "stir fried razor clam with butter and garlic\n",
            "stirfried fingersnails with spinach\n",
            "roast duck tongue with salt\n",
            "roast duck tongue with sauce\n",
            "cana fried with salt\n",
            "cana steamed with citronella\n",
            "cana crab fried with salt\n",
            "cana crab fried with butter\n",
            "chicken legs with ms ba sauce\n",
            "roasted chicken feet with salt\n",
            "oolong milk tea special full topping m\n",
            "oolong milk tea special full topping l\n",
            "CPU times: user 335 ms, sys: 15.5 ms, total: 350 ms\n",
            "Wall time: 330 ms\n"
          ]
        }
      ],
      "source": [
        "%%time\n",
        "input_text = tf.constant(inp[:100])\n",
        "\n",
        "result = translator.translate(\n",
        "    input_text = input_text)\n",
        "\n",
        "for i in range(100):\n",
        "  print(result['text'][i].numpy().decode())\n"
      ]
    },
    {
      "cell_type": "code",
      "execution_count": null,
      "metadata": {
        "id": "_JhTZ5hOptO-"
      },
      "outputs": [],
      "source": [
        "@tf.function(input_signature=[tf.TensorSpec(dtype=tf.string, shape=[None])])\n",
        "def tf_translate(self, input_text):\n",
        "  return self.translate(input_text)\n",
        "\n",
        "Translator.tf_translate = tf_translate"
      ]
    },
    {
      "cell_type": "markdown",
      "metadata": {
        "id": "fkccvHDvXCa8"
      },
      "source": [
        "Run the `tf.function` once to compile it:"
      ]
    },
    {
      "cell_type": "code",
      "execution_count": null,
      "metadata": {
        "id": "_NzrixLvVBjQ",
        "colab": {
          "base_uri": "https://localhost:8080/"
        },
        "outputId": "1de24d99-105b-4750-c6ae-8124fcbf5520"
      },
      "outputs": [
        {
          "output_type": "stream",
          "name": "stdout",
          "text": [
            "CPU times: user 19.4 s, sys: 438 ms, total: 19.9 s\n",
            "Wall time: 19.8 s\n"
          ]
        }
      ],
      "source": [
        "%%time\n",
        "result = translator.tf_translate(\n",
        "    input_text = input_text)"
      ]
    },
    {
      "cell_type": "code",
      "execution_count": null,
      "metadata": {
        "id": "USJdu00tVFbd",
        "colab": {
          "base_uri": "https://localhost:8080/"
        },
        "outputId": "6515f48f-78d3-4e9c-c2bb-368295e953bc"
      },
      "outputs": [
        {
          "output_type": "stream",
          "name": "stdout",
          "text": [
            "combo\n",
            "combo\n",
            "\n",
            "CPU times: user 167 ms, sys: 19.2 ms, total: 187 ms\n",
            "Wall time: 234 ms\n"
          ]
        }
      ],
      "source": [
        "%%time\n",
        "result = translator.tf_translate(\n",
        "    input_text = input_text)\n",
        "\n",
        "print(result['text'][0].numpy().decode())\n",
        "print(result['text'][1].numpy().decode())\n",
        "print()"
      ]
    },
    {
      "cell_type": "code",
      "execution_count": null,
      "metadata": {
        "id": "ngywxv1WYO_O"
      },
      "outputs": [],
      "source": [
        "Translator.translate = translate_symbolic"
      ]
    },
    {
      "cell_type": "markdown",
      "metadata": {
        "id": "l6B8W4_MZdX0"
      },
      "source": [
        "But when you wrap it in a `tf.function` you'll notice two differences."
      ]
    },
    {
      "cell_type": "code",
      "execution_count": null,
      "metadata": {
        "id": "WX6EF8KtYh20"
      },
      "outputs": [],
      "source": [
        "@tf.function(input_signature=[tf.TensorSpec(dtype=tf.string, shape=[None])])\n",
        "def tf_translate(self, input_text):\n",
        "  return self.translate(input_text)\n",
        "\n",
        "Translator.tf_translate = tf_translate"
      ]
    },
    {
      "cell_type": "markdown",
      "metadata": {
        "id": "9S0kQ-bBZswZ"
      },
      "source": [
        "First: Graph creation is much faster (~10x), since it doesn't create `max_iterations` copies of the model."
      ]
    },
    {
      "cell_type": "code",
      "execution_count": null,
      "metadata": {
        "id": "Eq8d40RKYoJa",
        "colab": {
          "base_uri": "https://localhost:8080/"
        },
        "outputId": "cf4a76a8-7d91-4853-98e7-8b7e1aae5c8d"
      },
      "outputs": [
        {
          "output_type": "stream",
          "name": "stdout",
          "text": [
            "CPU times: user 1.21 s, sys: 21.6 ms, total: 1.23 s\n",
            "Wall time: 1.22 s\n"
          ]
        }
      ],
      "source": [
        "%%time\n",
        "result = translator.tf_translate(\n",
        "    input_text = input_text)"
      ]
    },
    {
      "cell_type": "markdown",
      "metadata": {
        "id": "2ABEwtKIZ6eE"
      },
      "source": [
        "Second: The compiled function is much faster on small inputs (5x on this example), because it can break out of the loop."
      ]
    },
    {
      "cell_type": "code",
      "execution_count": null,
      "metadata": {
        "id": "d5VdCLxPYrpz",
        "colab": {
          "base_uri": "https://localhost:8080/"
        },
        "outputId": "f5a57b53-fe30-47d2-ee6c-7b477bc7e1bd"
      },
      "outputs": [
        {
          "output_type": "stream",
          "name": "stdout",
          "text": [
            "combo\n",
            "combo\n",
            "\n",
            "CPU times: user 55.8 ms, sys: 2.45 ms, total: 58.3 ms\n",
            "Wall time: 58.2 ms\n"
          ]
        }
      ],
      "source": [
        "%%time\n",
        "result = translator.tf_translate(\n",
        "    input_text = input_text)\n",
        "\n",
        "print(result['text'][0].numpy().decode())\n",
        "print(result['text'][1].numpy().decode())\n",
        "print()"
      ]
    },
    {
      "cell_type": "markdown",
      "metadata": {
        "id": "mMA9Pp71nzH9"
      },
      "source": [
        "## Export"
      ]
    },
    {
      "cell_type": "code",
      "execution_count": null,
      "metadata": {
        "id": "OyvxT5V0_X5B",
        "colab": {
          "base_uri": "https://localhost:8080/"
        },
        "outputId": "bac34d85-fa81-44a2-e0db-83accb340c2f"
      },
      "outputs": [
        {
          "output_type": "stream",
          "name": "stderr",
          "text": [
            "WARNING:absl:Found untraced functions such as encoder_2_layer_call_fn, encoder_2_layer_call_and_return_conditional_losses, decoder_2_layer_call_fn, decoder_2_layer_call_and_return_conditional_losses, embedding_4_layer_call_fn while saving (showing 5 of 24). These functions will not be directly callable after loading.\n"
          ]
        }
      ],
      "source": [
        "tf.saved_model.save(translator, '/content/drive/MyDrive/translator',\n",
        "                    signatures={'serving_default': translator.tf_translate})"
      ]
    },
    {
      "cell_type": "code",
      "source": [
        "from google.colab import drive\n",
        "drive.mount('/content/drive')"
      ],
      "metadata": {
        "colab": {
          "base_uri": "https://localhost:8080/"
        },
        "id": "QZGTEjsSyBDJ",
        "outputId": "59c898e3-9555-4494-aafb-c5d6e5f937b8"
      },
      "execution_count": null,
      "outputs": [
        {
          "output_type": "stream",
          "name": "stdout",
          "text": [
            "Mounted at /content/drive\n"
          ]
        }
      ]
    },
    {
      "cell_type": "code",
      "execution_count": null,
      "metadata": {
        "id": "-I0j3i3ekOba"
      },
      "outputs": [],
      "source": [
        "reloaded = tf.saved_model.load('translator')\n",
        "result = reloaded.tf_translate(three_input_text)"
      ]
    },
    {
      "cell_type": "code",
      "execution_count": null,
      "metadata": {
        "id": "GXZF__FZXJCm",
        "colab": {
          "base_uri": "https://localhost:8080/"
        },
        "outputId": "17ca202f-98d6-43ba-bb4a-5abea8b85f69"
      },
      "outputs": [
        {
          "output_type": "stream",
          "name": "stdout",
          "text": [
            "maguro style\n",
            "black tiger shrimp with special sauce\n",
            "goat brain\n",
            "\n",
            "CPU times: user 40.1 ms, sys: 4.38 ms, total: 44.5 ms\n",
            "Wall time: 32.8 ms\n"
          ]
        }
      ],
      "source": [
        "%%time\n",
        "result = reloaded.tf_translate(three_input_text)\n",
        "\n",
        "for tr in result['text']:\n",
        "  print(tr.numpy().decode())\n",
        "\n",
        "print()"
      ]
    }
  ],
  "metadata": {
    "accelerator": "GPU",
    "colab": {
      "collapsed_sections": [],
      "name": "NMT-ATTENTION.ipynb",
      "provenance": [],
      "toc_visible": true
    },
    "kernelspec": {
      "display_name": "Python 3",
      "name": "python3"
    },
    "gpuClass": "standard"
  },
  "nbformat": 4,
  "nbformat_minor": 0
}