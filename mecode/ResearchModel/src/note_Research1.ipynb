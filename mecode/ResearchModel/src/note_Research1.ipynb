{
 "cells": [
  {
   "cell_type": "markdown",
   "metadata": {},
   "source": [
    "Week 1, em thử nghiệm: \n",
    "1. pytesseract: https://youtu.be/p2wdxQzSks8?feature=shared\n",
    "- Nhận dạng văn bản ảnh tốt, biển báo nhận dạng không tốt. \n",
    "\n",
    "2. easyocr: https://www.youtube.com/watch?v=n-8oCPjpEvM\n",
    "- Tốt hơn thử nghiệm 1. Không bằng Paddle OCR - a Tú\n",
    "- Test 2 ảnh của anh Tú chính xác tầm 80%: \n",
    "    +, OF BEWARE MAINTENANCE VEHICLES\n",
    "    +, Please Jower you volume When you poss by residenlig] areos\n",
    "- Biển Đường Mạc Đĩnh Chi: chỉ nhận diện được chữ Đường. \n",
    "- Biển Lý Thái Tổ có nhiều chữ: nhận diện tốt.\n",
    "\n",
    "3. mmocr: https://youtu.be/Snyu-o8ZdDk?feature=shared\n",
    "4. OCR-SAM (Optical Character Recognition + Segment Anything Model): https://www.youtube.com/watch?v=uJ6l91qUox8 \n",
    "- Thử nghiệm 3, 4 xài thư viện mmocr: https://mmocr.readthedocs.io/en/dev-1.x/get_started/install.html\n",
    "và https://github.com/open-mmlab/mmocr \n",
    "Thư viện mmocr được xây dựng sẵn để: detection và recognition\n",
    "\n",
    "    - Text Detection Model (DBNet Mask R-CNN PANet PSENet TextSnake DRRG FCENet)\n",
    "    - và Text Recognition Model(ABINet ASTERCRNNMASTER NRTR RobustScanner SAR SATRN SVTR )\n",
    "- Đánh giá là model tiềm năng do clone được về máy, để thay đổi linh hoạt được các model Detection Và Recognition. \n",
    "- Tuy nhiên lúc làm việc với MMOCR hay bị lỗi xung đột `mim install mmdet` với `mim install mmcls`\n",
    "gặp lỗi: ModuleNotFoundError: No module named 'mmcv._ext'\n",
    "- Khi thử nghiệm model mmocr cơ bản với ảnh 1, 2 của anh Tú: \n",
    "vehicles main bewe of\n",
    "\n",
    "Đánh giá độ chính xác < easyocr cơ bản < paddle OCR hiện tại anh Tú. \n",
    "- OCR-SAM (Optical Character Recognition + Segment Anything Model) thì thử nghiệm chưa thành công (gặp BUG)\n",
    "\n",
    "\n",
    "---->>> Chốt lại tuần 1 của em: \n",
    "- Implementation tốt nhất là: easyocr cơ bản. \n",
    "- 2 model tiềm năng đang thử nghiệm là mmocr, OCR-SAM do sự linh hoạt chọn lựa detection model và recognition model\n",
    "Implementation: mmocr cơ bản kết quả chưa tốt, còn OCR-SAM đang BUG: xung đột `mim install mmdet` với `mim install mmcls`\n",
    "gặp lỗi: ModuleNotFoundError: No module named 'mmcv._ext'"
   ]
  },
  {
   "cell_type": "markdown",
   "metadata": {},
   "source": [
    "# 4. Họ Các Model Paddle OCR - research 2"
   ]
  }
 ],
 "metadata": {
  "language_info": {
   "name": "python"
  }
 },
 "nbformat": 4,
 "nbformat_minor": 2
}
